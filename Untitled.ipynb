{
 "cells": [
  {
   "cell_type": "markdown",
   "id": "04618ba7",
   "metadata": {},
   "source": [
    "## Moved main.py File"
   ]
  },
  {
   "cell_type": "code",
   "execution_count": 1,
   "id": "9ee66dc7",
   "metadata": {},
   "outputs": [],
   "source": [
    "import mlflow\n",
    "import pandas as pd\n",
    "import numpy as np\n",
    "from sklearn.linear_model import LinearRegression, Lasso, Ridge, ElasticNet\n",
    "from sklearn.ensemble import RandomForestRegressor\n",
    "from sklearn.preprocessing import MinMaxScaler, OneHotEncoder\n",
    "from sklearn.model_selection import train_test_split\n",
    "from sklearn.compose import ColumnTransformer\n",
    "from sklearn.metrics import mean_squared_error\n",
    "from sklearn.model_selection import GridSearchCV, RandomizedSearchCV\n",
    "from sklearn.metrics import mean_squared_error, mean_absolute_error\n",
    "\n",
    "from mlflow.entities import ViewType\n",
    "from mlflow.tracking import MlflowClient\n",
    "\n",
    "\n",
    "import joblib"
   ]
  },
  {
   "cell_type": "code",
   "execution_count": 2,
   "id": "98438f45",
   "metadata": {
    "scrolled": true
   },
   "outputs": [
    {
     "name": "stderr",
     "output_type": "stream",
     "text": [
      "C:\\Users\\user\\anaconda3\\envs\\anaconda3-TF2.x-GPU\\lib\\site-packages\\sklearn\\model_selection\\_search.py:285: UserWarning: The total space of parameters 1 is smaller than n_iter=10. Running 1 iterations. For exhaustive searches, use GridSearchCV.\n",
      "  warnings.warn(\n",
      "C:\\Users\\user\\anaconda3\\envs\\anaconda3-TF2.x-GPU\\lib\\site-packages\\sklearn\\model_selection\\_search.py:285: UserWarning: The total space of parameters 3 is smaller than n_iter=10. Running 3 iterations. For exhaustive searches, use GridSearchCV.\n",
      "  warnings.warn(\n",
      "C:\\Users\\user\\anaconda3\\envs\\anaconda3-TF2.x-GPU\\lib\\site-packages\\sklearn\\model_selection\\_search.py:285: UserWarning: The total space of parameters 3 is smaller than n_iter=10. Running 3 iterations. For exhaustive searches, use GridSearchCV.\n",
      "  warnings.warn(\n",
      "C:\\Users\\user\\anaconda3\\envs\\anaconda3-TF2.x-GPU\\lib\\site-packages\\sklearn\\model_selection\\_search.py:285: UserWarning: The total space of parameters 3 is smaller than n_iter=10. Running 3 iterations. For exhaustive searches, use GridSearchCV.\n",
      "  warnings.warn(\n",
      "C:\\Users\\user\\anaconda3\\envs\\anaconda3-TF2.x-GPU\\lib\\site-packages\\sklearn\\model_selection\\_search.py:285: UserWarning: The total space of parameters 6 is smaller than n_iter=10. Running 6 iterations. For exhaustive searches, use GridSearchCV.\n",
      "  warnings.warn(\n",
      "Registered model 'abalone-age-regressor-reg-testing' already exists. Creating a new version of this model...\n",
      "2022/08/25 02:15:16 INFO mlflow.tracking._model_registry.client: Waiting up to 300 seconds for model version to finish creation.                     Model name: abalone-age-regressor-reg-testing, version 1\n",
      "Created version '1' of model 'abalone-age-regressor-reg-testing'.\n",
      "Registered model 'abalone-age-regressor-reg-testing' already exists. Creating a new version of this model...\n",
      "2022/08/25 02:15:16 INFO mlflow.tracking._model_registry.client: Waiting up to 300 seconds for model version to finish creation.                     Model name: abalone-age-regressor-reg-testing, version 2\n",
      "Created version '2' of model 'abalone-age-regressor-reg-testing'.\n",
      "Registered model 'abalone-age-regressor-reg-testing' already exists. Creating a new version of this model...\n",
      "2022/08/25 02:15:16 INFO mlflow.tracking._model_registry.client: Waiting up to 300 seconds for model version to finish creation.                     Model name: abalone-age-regressor-reg-testing, version 3\n",
      "Created version '3' of model 'abalone-age-regressor-reg-testing'.\n",
      "Registered model 'abalone-age-regressor-reg-testing' already exists. Creating a new version of this model...\n",
      "2022/08/25 02:15:16 INFO mlflow.tracking._model_registry.client: Waiting up to 300 seconds for model version to finish creation.                     Model name: abalone-age-regressor-reg-testing, version 4\n",
      "Created version '4' of model 'abalone-age-regressor-reg-testing'.\n",
      "Registered model 'abalone-age-regressor-reg-testing' already exists. Creating a new version of this model...\n",
      "2022/08/25 02:15:16 INFO mlflow.tracking._model_registry.client: Waiting up to 300 seconds for model version to finish creation.                     Model name: abalone-age-regressor-reg-testing, version 5\n",
      "Created version '5' of model 'abalone-age-regressor-reg-testing'.\n"
     ]
    }
   ],
   "source": [
    "# NON NESTED\n",
    "def full_prep_pipeline(num_attribs, cat_attribs, num_transformer, cat_transformer):\n",
    "    pipeline = ColumnTransformer([\n",
    "        (\"num\", num_transformer(), num_attribs),\n",
    "        (\"cat\", cat_transformer(), cat_attribs)\n",
    "    ])\n",
    "    return pipeline\n",
    "\n",
    "\n",
    "def load_data(path, columns, num_attribs, cat_attribs, num_transformer, cat_transformer):\n",
    "    data = pd.read_csv(path, names=columns)\n",
    "    X = data.drop(columns=\"Rings\")\n",
    "    y = data[\"Rings\"]\n",
    "    X_train, X_test, y_train, y_test = train_test_split(X, y, \\\n",
    "                                            train_size=0.8, random_state=42)\n",
    "    \n",
    "    pipeline = full_prep_pipeline(num_attribs, cat_attribs, num_transformer, cat_transformer)\n",
    "    X_train = pipeline.fit_transform(X_train)\n",
    "    X_test = pipeline.transform(X_test)\n",
    "    \n",
    "    \n",
    "    return X_train, X_test, y_train, y_test, pipeline\n",
    "\n",
    "\n",
    "# def train_model(X_train, X_test, y_train, y_test):\n",
    "def train_model(path, columns, num_attribs, cat_attribs, \\\n",
    "                parameters, num_transformer=MinMaxScaler, \\\n",
    "                cat_transformer=OneHotEncoder):\n",
    "            \n",
    "    X_train, X_test, y_train, y_test, pipeline = load_data(path, columns, \\\n",
    "                                                           num_attribs, cat_attribs, \n",
    "                                                           num_transformer, cat_transformer)\n",
    "    \n",
    "    # save the data preprocessor pipeline object to external file.\n",
    "    joblib.dump(pipeline, \"models/preprocessor.pkl\")\n",
    "    \n",
    "    for param in parameters:\n",
    "        with mlflow.start_run():\n",
    "            mlflow.set_tag(\"model\", str(param['estimator']))\n",
    "#             mlflow.set_tag(\"hyperparameter search\", \"RandomizedSearchCV\")\n",
    "            # log the data preprocessor pipeline object as artifact.\n",
    "            mlflow.log_artifact(\"models/preprocessor.pkl\", artifact_path=\"preprocessor\")\n",
    "\n",
    "            searchcv = RandomizedSearchCV(param[\"estimator\"], param[\"param_grid\"],\n",
    "                                scoring='neg_mean_squared_error',\n",
    "                                return_train_score=True\n",
    "                              )\n",
    "            searchcv.fit(X_train, y_train)\n",
    "\n",
    "            # save the search cv object to external file.\n",
    "            joblib.dump(searchcv, \"models/search_cv.pkl\")\n",
    "            mlflow.log_artifact(\"models/search_cv.pkl\", artifact_path=\"models_mlflow\")\n",
    "\n",
    "            # log best model and its hyperparameters to mlflow\n",
    "            best_model = searchcv.best_estimator_\n",
    "            mlflow.sklearn.log_model(best_model, artifact_path=\"models_mlflow\")\n",
    "            mlflow.log_param(\"best_params\", searchcv.best_params_)\n",
    "            mlflow.log_param(\"best_index\", searchcv.best_index_)\n",
    "            mlflow.log_metric(\"validation_rmse\", np.sqrt(-searchcv.best_score_))\n",
    "            \n",
    "            # evaluate the model on the test set\n",
    "            test_rmse = mean_squared_error(y_test, best_model.predict(X_test), squared=False)\n",
    "            mlflow.log_metric(\"test_rmse\", test_rmse)\n",
    "\n",
    "\n",
    "def register_models(experiment_name, registered_model):\n",
    "    client = MlflowClient()\n",
    "    experiment = client.get_experiment_by_name(experiment_name)\n",
    "    \n",
    "    # Create new registered model\n",
    "    try:\n",
    "        client.create_registered_model(registered_model)\n",
    "    except mlflow.exceptions.MlflowException as e:\n",
    "        print(e)\n",
    "    \n",
    "    runs = client.search_runs(\n",
    "        experiment_ids=experiment.experiment_id,\n",
    "        filter_string=\"\",\n",
    "        run_view_type=ViewType.ACTIVE_ONLY,  # search for active runs only\n",
    "        order_by=[\"metrics.test_rmse ASC\"]\n",
    "    )\n",
    "    \n",
    "    # Register only models with status == 'FINISHED' to Mlflow Model Registry.\n",
    "    for run in runs:  # [1:]\n",
    "        if run.info.status == 'FINISHED':\n",
    "            model_uri = f\"runs:/{run.info.run_id}/model\"\n",
    "            model_version = mlflow.register_model(model_uri=model_uri, name=registered_model)\n",
    "\n",
    "            # set tags for current run model version\n",
    "            client.set_model_version_tag(registered_model, model_version.version, \"model\", run.data.tags[\"model\"])\n",
    "            client.set_model_version_tag(registered_model, model_version.version, \"experiment_id\", run.info.experiment_id)\n",
    "\n",
    "            # transition model version stage to \"Staging\"\n",
    "            new_stage = \"Staging\"\n",
    "            client.transition_model_version_stage(\n",
    "                name=registered_model,\n",
    "                version=model_version.version,\n",
    "                stage=new_stage,\n",
    "                archive_existing_versions=False\n",
    "            )\n",
    "\n",
    "            # Add description to current model version\n",
    "            client.update_model_version(\n",
    "                name=registered_model,\n",
    "                version=model_version.version,\n",
    "                description=f\"The model: {run.data.tags['model']}, test_rmse: ~{np.round(runs[0].data.metrics['test_rmse'], 3)}\"\n",
    "            )\n",
    "        \n",
    "        \n",
    "# if __name__ == \"__main__\":\n",
    "\n",
    "MLFLOW_TRACKING_URI = \"sqlite:///mlflow.db\"\n",
    "mlflow.set_tracking_uri(MLFLOW_TRACKING_URI)\n",
    "\n",
    "experiment_name = \"abalone-age-prediction-testing\"\n",
    "mlflow.set_experiment(experiment_name)  # non_nested\n",
    "\n",
    "registered_model = \"abalone-age-regressor-reg-testing\"\n",
    "\n",
    "\n",
    "path = \"data/abalone.csv\"\n",
    "columns = [\"Sex\", \"Length\", \"Diameter\", \"Height\", \"Whole_weight\", \"Shucked_weight\", \"Viscera_weight\", \"Shell_weight\", \"Rings\"]\n",
    "num_attribs = [\"Length\", \"Diameter\", \"Height\", \"Whole_weight\", \"Shucked_weight\", \"Viscera_weight\", \"Shell_weight\",]\n",
    "cat_attribs = [\"Sex\"]\n",
    "\n",
    "parameters = [{\"estimator\": LinearRegression(), \"param_grid\": {\"n_jobs\": [-1], \"fit_intercept\": [True, False], \"positive\": [True, False]}},\n",
    "              {\"estimator\": Lasso(), \"param_grid\": {\"alpha\": [0, 0.25, 0.5, 0.75, 1], \"fit_intercept\": [True, False]}}, \n",
    "              {\"estimator\": Ridge(), \"param_grid\": {\"alpha\": [0, 0.25, 0.5, 0.75, 1], \"fit_intercept\": [True, False]}},\n",
    "              {\"estimator\": ElasticNet(), \"param_grid\": {\"alpha\": [0, 0.25, 0.5, 0.755, 1], \"fit_intercept\": [True, False], \"l1_ratio\": [0, 0.25, 0.5, 0.75, 1]}},\n",
    "              {\"estimator\": RandomForestRegressor(), \"param_grid\": {\"n_estimators\": [3, 10, 30, 50], \"max_features\": [2, 4, 6, 8, 10] }},\n",
    "            ]\n",
    "\n",
    "\n",
    "train_model(path, columns, num_attribs, cat_attribs, parameters)\n",
    "register_models(experiment_name, registered_model)"
   ]
  },
  {
   "cell_type": "code",
   "execution_count": null,
   "id": "a60231b6",
   "metadata": {},
   "outputs": [],
   "source": []
  },
  {
   "cell_type": "code",
   "execution_count": null,
   "id": "e6b308e7",
   "metadata": {},
   "outputs": [],
   "source": [
    "parameters = [{\"estimator\": LinearRegression(), \"param_grid\": {\"n_jobs\": [-1]}},\n",
    "              {\"estimator\": Lasso(), \"param_grid\": {\"alpha\": [0.1, 0.5, 1]}},\n",
    "              {\"estimator\": Ridge(), \"param_grid\": {\"alpha\": [0.1, 0.5, 1]}},\n",
    "              {\"estimator\": ElasticNet(), \"param_grid\": {\"alpha\": [0.1, 0.5, 1]}},\n",
    "              {\"estimator\": RandomForestRegressor(), \"param_grid\": {\"n_estimators\": [3, 10], \"max_features\": [2, 4, 8] }},\n",
    "            ]"
   ]
  },
  {
   "cell_type": "markdown",
   "id": "1c3dfed9",
   "metadata": {},
   "source": [
    "## Load Data & EDA"
   ]
  },
  {
   "cell_type": "code",
   "execution_count": 107,
   "id": "35db262b",
   "metadata": {},
   "outputs": [],
   "source": [
    "import numpy as np\n",
    "import pandas as pd\n",
    "import matplotlib.pyplot as plt\n",
    "import joblib\n",
    "\n",
    "%matplotlib inline"
   ]
  },
  {
   "cell_type": "code",
   "execution_count": 3,
   "id": "8f864b25",
   "metadata": {
    "collapsed": true
   },
   "outputs": [
    {
     "data": {
      "text/html": [
       "<div>\n",
       "<style scoped>\n",
       "    .dataframe tbody tr th:only-of-type {\n",
       "        vertical-align: middle;\n",
       "    }\n",
       "\n",
       "    .dataframe tbody tr th {\n",
       "        vertical-align: top;\n",
       "    }\n",
       "\n",
       "    .dataframe thead th {\n",
       "        text-align: right;\n",
       "    }\n",
       "</style>\n",
       "<table border=\"1\" class=\"dataframe\">\n",
       "  <thead>\n",
       "    <tr style=\"text-align: right;\">\n",
       "      <th></th>\n",
       "      <th>Sex</th>\n",
       "      <th>Length</th>\n",
       "      <th>Diameter</th>\n",
       "      <th>Height</th>\n",
       "      <th>Whole_weight</th>\n",
       "      <th>Shucked_weight</th>\n",
       "      <th>Viscera_weight</th>\n",
       "      <th>Shell_weight</th>\n",
       "      <th>Rings</th>\n",
       "    </tr>\n",
       "  </thead>\n",
       "  <tbody>\n",
       "    <tr>\n",
       "      <th>0</th>\n",
       "      <td>3</td>\n",
       "      <td>0.400</td>\n",
       "      <td>0.305</td>\n",
       "      <td>0.100</td>\n",
       "      <td>0.3415</td>\n",
       "      <td>0.1760</td>\n",
       "      <td>0.0625</td>\n",
       "      <td>0.0865</td>\n",
       "      <td>7</td>\n",
       "    </tr>\n",
       "    <tr>\n",
       "      <th>1</th>\n",
       "      <td>2</td>\n",
       "      <td>0.635</td>\n",
       "      <td>0.500</td>\n",
       "      <td>0.150</td>\n",
       "      <td>1.3760</td>\n",
       "      <td>0.6495</td>\n",
       "      <td>0.3610</td>\n",
       "      <td>0.3100</td>\n",
       "      <td>10</td>\n",
       "    </tr>\n",
       "    <tr>\n",
       "      <th>2</th>\n",
       "      <td>3</td>\n",
       "      <td>0.370</td>\n",
       "      <td>0.270</td>\n",
       "      <td>0.090</td>\n",
       "      <td>0.1855</td>\n",
       "      <td>0.0700</td>\n",
       "      <td>0.0425</td>\n",
       "      <td>0.0650</td>\n",
       "      <td>7</td>\n",
       "    </tr>\n",
       "    <tr>\n",
       "      <th>3</th>\n",
       "      <td>1</td>\n",
       "      <td>0.680</td>\n",
       "      <td>0.540</td>\n",
       "      <td>0.155</td>\n",
       "      <td>1.5340</td>\n",
       "      <td>0.6710</td>\n",
       "      <td>0.3790</td>\n",
       "      <td>0.3840</td>\n",
       "      <td>10</td>\n",
       "    </tr>\n",
       "    <tr>\n",
       "      <th>4</th>\n",
       "      <td>3</td>\n",
       "      <td>0.375</td>\n",
       "      <td>0.285</td>\n",
       "      <td>0.090</td>\n",
       "      <td>0.2545</td>\n",
       "      <td>0.1190</td>\n",
       "      <td>0.0595</td>\n",
       "      <td>0.0675</td>\n",
       "      <td>6</td>\n",
       "    </tr>\n",
       "    <tr>\n",
       "      <th>...</th>\n",
       "      <td>...</td>\n",
       "      <td>...</td>\n",
       "      <td>...</td>\n",
       "      <td>...</td>\n",
       "      <td>...</td>\n",
       "      <td>...</td>\n",
       "      <td>...</td>\n",
       "      <td>...</td>\n",
       "      <td>...</td>\n",
       "    </tr>\n",
       "    <tr>\n",
       "      <th>4172</th>\n",
       "      <td>3</td>\n",
       "      <td>0.365</td>\n",
       "      <td>0.270</td>\n",
       "      <td>0.085</td>\n",
       "      <td>0.1970</td>\n",
       "      <td>0.0815</td>\n",
       "      <td>0.0325</td>\n",
       "      <td>0.0650</td>\n",
       "      <td>6</td>\n",
       "    </tr>\n",
       "    <tr>\n",
       "      <th>4173</th>\n",
       "      <td>3</td>\n",
       "      <td>0.555</td>\n",
       "      <td>0.430</td>\n",
       "      <td>0.140</td>\n",
       "      <td>0.7665</td>\n",
       "      <td>0.3410</td>\n",
       "      <td>0.1650</td>\n",
       "      <td>0.2300</td>\n",
       "      <td>9</td>\n",
       "    </tr>\n",
       "    <tr>\n",
       "      <th>4174</th>\n",
       "      <td>3</td>\n",
       "      <td>0.485</td>\n",
       "      <td>0.380</td>\n",
       "      <td>0.120</td>\n",
       "      <td>0.4725</td>\n",
       "      <td>0.2075</td>\n",
       "      <td>0.1075</td>\n",
       "      <td>0.1470</td>\n",
       "      <td>6</td>\n",
       "    </tr>\n",
       "    <tr>\n",
       "      <th>4175</th>\n",
       "      <td>2</td>\n",
       "      <td>0.550</td>\n",
       "      <td>0.450</td>\n",
       "      <td>0.145</td>\n",
       "      <td>0.7410</td>\n",
       "      <td>0.2950</td>\n",
       "      <td>0.1435</td>\n",
       "      <td>0.2665</td>\n",
       "      <td>10</td>\n",
       "    </tr>\n",
       "    <tr>\n",
       "      <th>4176</th>\n",
       "      <td>3</td>\n",
       "      <td>0.530</td>\n",
       "      <td>0.415</td>\n",
       "      <td>0.145</td>\n",
       "      <td>0.9440</td>\n",
       "      <td>0.3845</td>\n",
       "      <td>0.1850</td>\n",
       "      <td>0.2650</td>\n",
       "      <td>21</td>\n",
       "    </tr>\n",
       "  </tbody>\n",
       "</table>\n",
       "<p>4177 rows × 9 columns</p>\n",
       "</div>"
      ],
      "text/plain": [
       "      Sex  Length  Diameter  Height  Whole_weight  Shucked_weight  \\\n",
       "0       3   0.400     0.305   0.100        0.3415          0.1760   \n",
       "1       2   0.635     0.500   0.150        1.3760          0.6495   \n",
       "2       3   0.370     0.270   0.090        0.1855          0.0700   \n",
       "3       1   0.680     0.540   0.155        1.5340          0.6710   \n",
       "4       3   0.375     0.285   0.090        0.2545          0.1190   \n",
       "...   ...     ...       ...     ...           ...             ...   \n",
       "4172    3   0.365     0.270   0.085        0.1970          0.0815   \n",
       "4173    3   0.555     0.430   0.140        0.7665          0.3410   \n",
       "4174    3   0.485     0.380   0.120        0.4725          0.2075   \n",
       "4175    2   0.550     0.450   0.145        0.7410          0.2950   \n",
       "4176    3   0.530     0.415   0.145        0.9440          0.3845   \n",
       "\n",
       "      Viscera_weight  Shell_weight  Rings  \n",
       "0             0.0625        0.0865      7  \n",
       "1             0.3610        0.3100     10  \n",
       "2             0.0425        0.0650      7  \n",
       "3             0.3790        0.3840     10  \n",
       "4             0.0595        0.0675      6  \n",
       "...              ...           ...    ...  \n",
       "4172          0.0325        0.0650      6  \n",
       "4173          0.1650        0.2300      9  \n",
       "4174          0.1075        0.1470      6  \n",
       "4175          0.1435        0.2665     10  \n",
       "4176          0.1850        0.2650     21  \n",
       "\n",
       "[4177 rows x 9 columns]"
      ]
     },
     "execution_count": 3,
     "metadata": {},
     "output_type": "execute_result"
    }
   ],
   "source": [
    "columns = [\"Sex\", \"Length\", \"Diameter\", \"Height\", \"Whole_weight\", \"Shucked_weight\", \"Viscera_weight\", \"Shell_weight\", \"Rings\"]\n",
    "\n",
    "data = pd.read_csv(\"data/abalone.csv\", names=columns)\n",
    "\n",
    "df = data.copy()\n",
    "df"
   ]
  },
  {
   "cell_type": "code",
   "execution_count": 4,
   "id": "c4fad744",
   "metadata": {},
   "outputs": [
    {
     "data": {
      "text/plain": [
       "(4177, 9)"
      ]
     },
     "execution_count": 4,
     "metadata": {},
     "output_type": "execute_result"
    }
   ],
   "source": [
    "df.shape"
   ]
  },
  {
   "cell_type": "code",
   "execution_count": 5,
   "id": "a8b1a5f7",
   "metadata": {},
   "outputs": [
    {
     "data": {
      "text/html": [
       "<div>\n",
       "<style scoped>\n",
       "    .dataframe tbody tr th:only-of-type {\n",
       "        vertical-align: middle;\n",
       "    }\n",
       "\n",
       "    .dataframe tbody tr th {\n",
       "        vertical-align: top;\n",
       "    }\n",
       "\n",
       "    .dataframe thead th {\n",
       "        text-align: right;\n",
       "    }\n",
       "</style>\n",
       "<table border=\"1\" class=\"dataframe\">\n",
       "  <thead>\n",
       "    <tr style=\"text-align: right;\">\n",
       "      <th></th>\n",
       "      <th>Sex</th>\n",
       "      <th>Length</th>\n",
       "      <th>Diameter</th>\n",
       "      <th>Height</th>\n",
       "      <th>Whole_weight</th>\n",
       "      <th>Shucked_weight</th>\n",
       "      <th>Viscera_weight</th>\n",
       "      <th>Shell_weight</th>\n",
       "      <th>Rings</th>\n",
       "    </tr>\n",
       "  </thead>\n",
       "  <tbody>\n",
       "    <tr>\n",
       "      <th>count</th>\n",
       "      <td>4177.000000</td>\n",
       "      <td>4177.000000</td>\n",
       "      <td>4177.000000</td>\n",
       "      <td>4177.000000</td>\n",
       "      <td>4177.000000</td>\n",
       "      <td>4177.000000</td>\n",
       "      <td>4177.000000</td>\n",
       "      <td>4177.000000</td>\n",
       "      <td>4177.000000</td>\n",
       "    </tr>\n",
       "    <tr>\n",
       "      <th>mean</th>\n",
       "      <td>1.955470</td>\n",
       "      <td>0.523992</td>\n",
       "      <td>0.407881</td>\n",
       "      <td>0.139516</td>\n",
       "      <td>0.828742</td>\n",
       "      <td>0.359367</td>\n",
       "      <td>0.180594</td>\n",
       "      <td>0.238831</td>\n",
       "      <td>9.933684</td>\n",
       "    </tr>\n",
       "    <tr>\n",
       "      <th>std</th>\n",
       "      <td>0.827815</td>\n",
       "      <td>0.120093</td>\n",
       "      <td>0.099240</td>\n",
       "      <td>0.041827</td>\n",
       "      <td>0.490389</td>\n",
       "      <td>0.221963</td>\n",
       "      <td>0.109614</td>\n",
       "      <td>0.139203</td>\n",
       "      <td>3.224169</td>\n",
       "    </tr>\n",
       "    <tr>\n",
       "      <th>min</th>\n",
       "      <td>1.000000</td>\n",
       "      <td>0.075000</td>\n",
       "      <td>0.055000</td>\n",
       "      <td>0.000000</td>\n",
       "      <td>0.002000</td>\n",
       "      <td>0.001000</td>\n",
       "      <td>0.000500</td>\n",
       "      <td>0.001500</td>\n",
       "      <td>1.000000</td>\n",
       "    </tr>\n",
       "    <tr>\n",
       "      <th>25%</th>\n",
       "      <td>1.000000</td>\n",
       "      <td>0.450000</td>\n",
       "      <td>0.350000</td>\n",
       "      <td>0.115000</td>\n",
       "      <td>0.441500</td>\n",
       "      <td>0.186000</td>\n",
       "      <td>0.093500</td>\n",
       "      <td>0.130000</td>\n",
       "      <td>8.000000</td>\n",
       "    </tr>\n",
       "    <tr>\n",
       "      <th>50%</th>\n",
       "      <td>2.000000</td>\n",
       "      <td>0.545000</td>\n",
       "      <td>0.425000</td>\n",
       "      <td>0.140000</td>\n",
       "      <td>0.799500</td>\n",
       "      <td>0.336000</td>\n",
       "      <td>0.171000</td>\n",
       "      <td>0.234000</td>\n",
       "      <td>9.000000</td>\n",
       "    </tr>\n",
       "    <tr>\n",
       "      <th>75%</th>\n",
       "      <td>3.000000</td>\n",
       "      <td>0.615000</td>\n",
       "      <td>0.480000</td>\n",
       "      <td>0.165000</td>\n",
       "      <td>1.153000</td>\n",
       "      <td>0.502000</td>\n",
       "      <td>0.253000</td>\n",
       "      <td>0.329000</td>\n",
       "      <td>11.000000</td>\n",
       "    </tr>\n",
       "    <tr>\n",
       "      <th>max</th>\n",
       "      <td>3.000000</td>\n",
       "      <td>0.815000</td>\n",
       "      <td>0.650000</td>\n",
       "      <td>1.130000</td>\n",
       "      <td>2.825500</td>\n",
       "      <td>1.488000</td>\n",
       "      <td>0.760000</td>\n",
       "      <td>1.005000</td>\n",
       "      <td>29.000000</td>\n",
       "    </tr>\n",
       "  </tbody>\n",
       "</table>\n",
       "</div>"
      ],
      "text/plain": [
       "               Sex       Length     Diameter       Height  Whole_weight  \\\n",
       "count  4177.000000  4177.000000  4177.000000  4177.000000   4177.000000   \n",
       "mean      1.955470     0.523992     0.407881     0.139516      0.828742   \n",
       "std       0.827815     0.120093     0.099240     0.041827      0.490389   \n",
       "min       1.000000     0.075000     0.055000     0.000000      0.002000   \n",
       "25%       1.000000     0.450000     0.350000     0.115000      0.441500   \n",
       "50%       2.000000     0.545000     0.425000     0.140000      0.799500   \n",
       "75%       3.000000     0.615000     0.480000     0.165000      1.153000   \n",
       "max       3.000000     0.815000     0.650000     1.130000      2.825500   \n",
       "\n",
       "       Shucked_weight  Viscera_weight  Shell_weight        Rings  \n",
       "count     4177.000000     4177.000000   4177.000000  4177.000000  \n",
       "mean         0.359367        0.180594      0.238831     9.933684  \n",
       "std          0.221963        0.109614      0.139203     3.224169  \n",
       "min          0.001000        0.000500      0.001500     1.000000  \n",
       "25%          0.186000        0.093500      0.130000     8.000000  \n",
       "50%          0.336000        0.171000      0.234000     9.000000  \n",
       "75%          0.502000        0.253000      0.329000    11.000000  \n",
       "max          1.488000        0.760000      1.005000    29.000000  "
      ]
     },
     "execution_count": 5,
     "metadata": {},
     "output_type": "execute_result"
    }
   ],
   "source": [
    "df.describe()"
   ]
  },
  {
   "cell_type": "code",
   "execution_count": 6,
   "id": "15bf5cdf",
   "metadata": {},
   "outputs": [
    {
     "name": "stdout",
     "output_type": "stream",
     "text": [
      "<class 'pandas.core.frame.DataFrame'>\n",
      "RangeIndex: 4177 entries, 0 to 4176\n",
      "Data columns (total 9 columns):\n",
      " #   Column          Non-Null Count  Dtype  \n",
      "---  ------          --------------  -----  \n",
      " 0   Sex             4177 non-null   int64  \n",
      " 1   Length          4177 non-null   float64\n",
      " 2   Diameter        4177 non-null   float64\n",
      " 3   Height          4177 non-null   float64\n",
      " 4   Whole_weight    4177 non-null   float64\n",
      " 5   Shucked_weight  4177 non-null   float64\n",
      " 6   Viscera_weight  4177 non-null   float64\n",
      " 7   Shell_weight    4177 non-null   float64\n",
      " 8   Rings           4177 non-null   int64  \n",
      "dtypes: float64(7), int64(2)\n",
      "memory usage: 293.8 KB\n"
     ]
    }
   ],
   "source": [
    "df.info()"
   ]
  },
  {
   "cell_type": "code",
   "execution_count": null,
   "id": "d2543054",
   "metadata": {},
   "outputs": [],
   "source": []
  },
  {
   "cell_type": "markdown",
   "id": "6379244c",
   "metadata": {},
   "source": [
    "Plotting Histogram of the features and target"
   ]
  },
  {
   "cell_type": "code",
   "execution_count": 7,
   "id": "68f07479",
   "metadata": {},
   "outputs": [
    {
     "data": {
      "image/png": "[encoded data removed]",
      "text/plain": [
       "<Figure size 864x576 with 9 Axes>"
      ]
     },
     "metadata": {
      "needs_background": "light"
     },
     "output_type": "display_data"
    }
   ],
   "source": [
    "df.hist(figsize=(12,8));\n",
    "# plt.subplots_adjust(wspace=0.5, hspace=0.8);"
   ]
  },
  {
   "cell_type": "code",
   "execution_count": 8,
   "id": "fc46f3d0",
   "metadata": {},
   "outputs": [
    {
     "data": {
      "image/png": "[encoded data removed]",
      "text/plain": [
       "<Figure size 432x288 with 1 Axes>"
      ]
     },
     "metadata": {
      "needs_background": "light"
     },
     "output_type": "display_data"
    }
   ],
   "source": [
    "plt.hist(df[\"Height\"], bins=50);"
   ]
  },
  {
   "cell_type": "code",
   "execution_count": 9,
   "id": "9b3e0ada",
   "metadata": {},
   "outputs": [
    {
     "data": {
      "text/plain": [
       "(2, 3955, 154, 68)"
      ]
     },
     "execution_count": 9,
     "metadata": {},
     "output_type": "execute_result"
    }
   ],
   "source": [
    "(df[\"Height\"] > 0.3).sum(), (df[\"Height\"] < 0.2).sum(), (df[\"Height\"] > 0.2).sum(), (df[\"Height\"] == 0.2).sum()"
   ]
  },
  {
   "cell_type": "code",
   "execution_count": 10,
   "id": "5b3b1aaf",
   "metadata": {},
   "outputs": [
    {
     "data": {
      "text/plain": [
       "4179"
      ]
     },
     "execution_count": 10,
     "metadata": {},
     "output_type": "execute_result"
    }
   ],
   "source": [
    "2 + 3955 + 154 + 68"
   ]
  },
  {
   "cell_type": "code",
   "execution_count": 11,
   "id": "3fae8322",
   "metadata": {},
   "outputs": [
    {
     "data": {
      "text/plain": [
       "<numpy.lib.index_tricks.CClass at 0x17d7e88ec10>"
      ]
     },
     "execution_count": 11,
     "metadata": {},
     "output_type": "execute_result"
    }
   ],
   "source": [
    "np.c_"
   ]
  },
  {
   "cell_type": "code",
   "execution_count": 12,
   "id": "6457e229",
   "metadata": {},
   "outputs": [
    {
     "data": {
      "text/plain": [
       "0       0.100\n",
       "1       0.150\n",
       "2       0.090\n",
       "3       0.155\n",
       "4       0.090\n",
       "        ...  \n",
       "4172    0.085\n",
       "4173    0.140\n",
       "4174    0.120\n",
       "4175    0.145\n",
       "4176    0.145\n",
       "Name: Height, Length: 3955, dtype: float64"
      ]
     },
     "execution_count": 12,
     "metadata": {},
     "output_type": "execute_result"
    }
   ],
   "source": [
    "df.loc[df[\"Height\"] < 0.2, \"Height\"]"
   ]
  },
  {
   "cell_type": "code",
   "execution_count": 13,
   "id": "3b703c19",
   "metadata": {},
   "outputs": [
    {
     "data": {
      "text/plain": [
       "(4177, 9)"
      ]
     },
     "execution_count": 13,
     "metadata": {},
     "output_type": "execute_result"
    }
   ],
   "source": [
    "df.shape"
   ]
  },
  {
   "cell_type": "markdown",
   "id": "7e4b1619",
   "metadata": {},
   "source": [
    "###### Removing 300 samples from the dataset: To be used for application simulation while in production."
   ]
  },
  {
   "cell_type": "code",
   "execution_count": 14,
   "id": "dd4a6ba2",
   "metadata": {},
   "outputs": [
    {
     "data": {
      "text/html": [
       "<div>\n",
       "<style scoped>\n",
       "    .dataframe tbody tr th:only-of-type {\n",
       "        vertical-align: middle;\n",
       "    }\n",
       "\n",
       "    .dataframe tbody tr th {\n",
       "        vertical-align: top;\n",
       "    }\n",
       "\n",
       "    .dataframe thead th {\n",
       "        text-align: right;\n",
       "    }\n",
       "</style>\n",
       "<table border=\"1\" class=\"dataframe\">\n",
       "  <thead>\n",
       "    <tr style=\"text-align: right;\">\n",
       "      <th></th>\n",
       "      <th>Sex</th>\n",
       "      <th>Length</th>\n",
       "      <th>Diameter</th>\n",
       "      <th>Height</th>\n",
       "      <th>Whole_weight</th>\n",
       "      <th>Shucked_weight</th>\n",
       "      <th>Viscera_weight</th>\n",
       "      <th>Shell_weight</th>\n",
       "      <th>Rings</th>\n",
       "    </tr>\n",
       "  </thead>\n",
       "  <tbody>\n",
       "    <tr>\n",
       "      <th>0</th>\n",
       "      <td>3</td>\n",
       "      <td>0.400</td>\n",
       "      <td>0.305</td>\n",
       "      <td>0.100</td>\n",
       "      <td>0.3415</td>\n",
       "      <td>0.1760</td>\n",
       "      <td>0.0625</td>\n",
       "      <td>0.0865</td>\n",
       "      <td>7</td>\n",
       "    </tr>\n",
       "    <tr>\n",
       "      <th>1</th>\n",
       "      <td>2</td>\n",
       "      <td>0.635</td>\n",
       "      <td>0.500</td>\n",
       "      <td>0.150</td>\n",
       "      <td>1.3760</td>\n",
       "      <td>0.6495</td>\n",
       "      <td>0.3610</td>\n",
       "      <td>0.3100</td>\n",
       "      <td>10</td>\n",
       "    </tr>\n",
       "    <tr>\n",
       "      <th>2</th>\n",
       "      <td>3</td>\n",
       "      <td>0.370</td>\n",
       "      <td>0.270</td>\n",
       "      <td>0.090</td>\n",
       "      <td>0.1855</td>\n",
       "      <td>0.0700</td>\n",
       "      <td>0.0425</td>\n",
       "      <td>0.0650</td>\n",
       "      <td>7</td>\n",
       "    </tr>\n",
       "    <tr>\n",
       "      <th>3</th>\n",
       "      <td>1</td>\n",
       "      <td>0.680</td>\n",
       "      <td>0.540</td>\n",
       "      <td>0.155</td>\n",
       "      <td>1.5340</td>\n",
       "      <td>0.6710</td>\n",
       "      <td>0.3790</td>\n",
       "      <td>0.3840</td>\n",
       "      <td>10</td>\n",
       "    </tr>\n",
       "    <tr>\n",
       "      <th>4</th>\n",
       "      <td>3</td>\n",
       "      <td>0.375</td>\n",
       "      <td>0.285</td>\n",
       "      <td>0.090</td>\n",
       "      <td>0.2545</td>\n",
       "      <td>0.1190</td>\n",
       "      <td>0.0595</td>\n",
       "      <td>0.0675</td>\n",
       "      <td>6</td>\n",
       "    </tr>\n",
       "    <tr>\n",
       "      <th>...</th>\n",
       "      <td>...</td>\n",
       "      <td>...</td>\n",
       "      <td>...</td>\n",
       "      <td>...</td>\n",
       "      <td>...</td>\n",
       "      <td>...</td>\n",
       "      <td>...</td>\n",
       "      <td>...</td>\n",
       "      <td>...</td>\n",
       "    </tr>\n",
       "    <tr>\n",
       "      <th>3872</th>\n",
       "      <td>3</td>\n",
       "      <td>0.450</td>\n",
       "      <td>0.330</td>\n",
       "      <td>0.105</td>\n",
       "      <td>0.3715</td>\n",
       "      <td>0.1865</td>\n",
       "      <td>0.0785</td>\n",
       "      <td>0.0975</td>\n",
       "      <td>7</td>\n",
       "    </tr>\n",
       "    <tr>\n",
       "      <th>3873</th>\n",
       "      <td>2</td>\n",
       "      <td>0.470</td>\n",
       "      <td>0.355</td>\n",
       "      <td>0.180</td>\n",
       "      <td>0.4410</td>\n",
       "      <td>0.1525</td>\n",
       "      <td>0.1165</td>\n",
       "      <td>0.1350</td>\n",
       "      <td>8</td>\n",
       "    </tr>\n",
       "    <tr>\n",
       "      <th>3874</th>\n",
       "      <td>3</td>\n",
       "      <td>0.475</td>\n",
       "      <td>0.350</td>\n",
       "      <td>0.110</td>\n",
       "      <td>0.4565</td>\n",
       "      <td>0.2060</td>\n",
       "      <td>0.0990</td>\n",
       "      <td>0.1300</td>\n",
       "      <td>6</td>\n",
       "    </tr>\n",
       "    <tr>\n",
       "      <th>3875</th>\n",
       "      <td>3</td>\n",
       "      <td>0.540</td>\n",
       "      <td>0.420</td>\n",
       "      <td>0.140</td>\n",
       "      <td>0.6665</td>\n",
       "      <td>0.3125</td>\n",
       "      <td>0.1380</td>\n",
       "      <td>0.1895</td>\n",
       "      <td>10</td>\n",
       "    </tr>\n",
       "    <tr>\n",
       "      <th>3876</th>\n",
       "      <td>3</td>\n",
       "      <td>0.585</td>\n",
       "      <td>0.420</td>\n",
       "      <td>0.145</td>\n",
       "      <td>0.6735</td>\n",
       "      <td>0.2895</td>\n",
       "      <td>0.1345</td>\n",
       "      <td>0.2200</td>\n",
       "      <td>9</td>\n",
       "    </tr>\n",
       "  </tbody>\n",
       "</table>\n",
       "<p>3877 rows × 9 columns</p>\n",
       "</div>"
      ],
      "text/plain": [
       "      Sex  Length  Diameter  Height  Whole_weight  Shucked_weight  \\\n",
       "0       3   0.400     0.305   0.100        0.3415          0.1760   \n",
       "1       2   0.635     0.500   0.150        1.3760          0.6495   \n",
       "2       3   0.370     0.270   0.090        0.1855          0.0700   \n",
       "3       1   0.680     0.540   0.155        1.5340          0.6710   \n",
       "4       3   0.375     0.285   0.090        0.2545          0.1190   \n",
       "...   ...     ...       ...     ...           ...             ...   \n",
       "3872    3   0.450     0.330   0.105        0.3715          0.1865   \n",
       "3873    2   0.470     0.355   0.180        0.4410          0.1525   \n",
       "3874    3   0.475     0.350   0.110        0.4565          0.2060   \n",
       "3875    3   0.540     0.420   0.140        0.6665          0.3125   \n",
       "3876    3   0.585     0.420   0.145        0.6735          0.2895   \n",
       "\n",
       "      Viscera_weight  Shell_weight  Rings  \n",
       "0             0.0625        0.0865      7  \n",
       "1             0.3610        0.3100     10  \n",
       "2             0.0425        0.0650      7  \n",
       "3             0.3790        0.3840     10  \n",
       "4             0.0595        0.0675      6  \n",
       "...              ...           ...    ...  \n",
       "3872          0.0785        0.0975      7  \n",
       "3873          0.1165        0.1350      8  \n",
       "3874          0.0990        0.1300      6  \n",
       "3875          0.1380        0.1895     10  \n",
       "3876          0.1345        0.2200      9  \n",
       "\n",
       "[3877 rows x 9 columns]"
      ]
     },
     "execution_count": 14,
     "metadata": {},
     "output_type": "execute_result"
    }
   ],
   "source": [
    "df1 = df.iloc[:3877, :]\n",
    "df1"
   ]
  },
  {
   "cell_type": "code",
   "execution_count": 15,
   "id": "c3041f44",
   "metadata": {
    "scrolled": true
   },
   "outputs": [
    {
     "data": {
      "text/html": [
       "<div>\n",
       "<style scoped>\n",
       "    .dataframe tbody tr th:only-of-type {\n",
       "        vertical-align: middle;\n",
       "    }\n",
       "\n",
       "    .dataframe tbody tr th {\n",
       "        vertical-align: top;\n",
       "    }\n",
       "\n",
       "    .dataframe thead th {\n",
       "        text-align: right;\n",
       "    }\n",
       "</style>\n",
       "<table border=\"1\" class=\"dataframe\">\n",
       "  <thead>\n",
       "    <tr style=\"text-align: right;\">\n",
       "      <th></th>\n",
       "      <th>Sex</th>\n",
       "      <th>Length</th>\n",
       "      <th>Diameter</th>\n",
       "      <th>Height</th>\n",
       "      <th>Whole_weight</th>\n",
       "      <th>Shucked_weight</th>\n",
       "      <th>Viscera_weight</th>\n",
       "      <th>Shell_weight</th>\n",
       "      <th>Rings</th>\n",
       "    </tr>\n",
       "  </thead>\n",
       "  <tbody>\n",
       "    <tr>\n",
       "      <th>3877</th>\n",
       "      <td>3</td>\n",
       "      <td>0.445</td>\n",
       "      <td>0.340</td>\n",
       "      <td>0.145</td>\n",
       "      <td>0.4340</td>\n",
       "      <td>0.1945</td>\n",
       "      <td>0.0905</td>\n",
       "      <td>0.1300</td>\n",
       "      <td>7</td>\n",
       "    </tr>\n",
       "    <tr>\n",
       "      <th>3878</th>\n",
       "      <td>3</td>\n",
       "      <td>0.525</td>\n",
       "      <td>0.400</td>\n",
       "      <td>0.140</td>\n",
       "      <td>0.6955</td>\n",
       "      <td>0.2405</td>\n",
       "      <td>0.1600</td>\n",
       "      <td>0.2530</td>\n",
       "      <td>10</td>\n",
       "    </tr>\n",
       "    <tr>\n",
       "      <th>3879</th>\n",
       "      <td>2</td>\n",
       "      <td>0.545</td>\n",
       "      <td>0.440</td>\n",
       "      <td>0.175</td>\n",
       "      <td>0.7745</td>\n",
       "      <td>0.2985</td>\n",
       "      <td>0.1875</td>\n",
       "      <td>0.2650</td>\n",
       "      <td>11</td>\n",
       "    </tr>\n",
       "    <tr>\n",
       "      <th>3880</th>\n",
       "      <td>1</td>\n",
       "      <td>0.570</td>\n",
       "      <td>0.455</td>\n",
       "      <td>0.150</td>\n",
       "      <td>0.9520</td>\n",
       "      <td>0.3895</td>\n",
       "      <td>0.2155</td>\n",
       "      <td>0.2745</td>\n",
       "      <td>9</td>\n",
       "    </tr>\n",
       "    <tr>\n",
       "      <th>3881</th>\n",
       "      <td>3</td>\n",
       "      <td>0.450</td>\n",
       "      <td>0.350</td>\n",
       "      <td>0.110</td>\n",
       "      <td>0.5140</td>\n",
       "      <td>0.2530</td>\n",
       "      <td>0.1045</td>\n",
       "      <td>0.1400</td>\n",
       "      <td>8</td>\n",
       "    </tr>\n",
       "    <tr>\n",
       "      <th>...</th>\n",
       "      <td>...</td>\n",
       "      <td>...</td>\n",
       "      <td>...</td>\n",
       "      <td>...</td>\n",
       "      <td>...</td>\n",
       "      <td>...</td>\n",
       "      <td>...</td>\n",
       "      <td>...</td>\n",
       "      <td>...</td>\n",
       "    </tr>\n",
       "    <tr>\n",
       "      <th>4172</th>\n",
       "      <td>3</td>\n",
       "      <td>0.365</td>\n",
       "      <td>0.270</td>\n",
       "      <td>0.085</td>\n",
       "      <td>0.1970</td>\n",
       "      <td>0.0815</td>\n",
       "      <td>0.0325</td>\n",
       "      <td>0.0650</td>\n",
       "      <td>6</td>\n",
       "    </tr>\n",
       "    <tr>\n",
       "      <th>4173</th>\n",
       "      <td>3</td>\n",
       "      <td>0.555</td>\n",
       "      <td>0.430</td>\n",
       "      <td>0.140</td>\n",
       "      <td>0.7665</td>\n",
       "      <td>0.3410</td>\n",
       "      <td>0.1650</td>\n",
       "      <td>0.2300</td>\n",
       "      <td>9</td>\n",
       "    </tr>\n",
       "    <tr>\n",
       "      <th>4174</th>\n",
       "      <td>3</td>\n",
       "      <td>0.485</td>\n",
       "      <td>0.380</td>\n",
       "      <td>0.120</td>\n",
       "      <td>0.4725</td>\n",
       "      <td>0.2075</td>\n",
       "      <td>0.1075</td>\n",
       "      <td>0.1470</td>\n",
       "      <td>6</td>\n",
       "    </tr>\n",
       "    <tr>\n",
       "      <th>4175</th>\n",
       "      <td>2</td>\n",
       "      <td>0.550</td>\n",
       "      <td>0.450</td>\n",
       "      <td>0.145</td>\n",
       "      <td>0.7410</td>\n",
       "      <td>0.2950</td>\n",
       "      <td>0.1435</td>\n",
       "      <td>0.2665</td>\n",
       "      <td>10</td>\n",
       "    </tr>\n",
       "    <tr>\n",
       "      <th>4176</th>\n",
       "      <td>3</td>\n",
       "      <td>0.530</td>\n",
       "      <td>0.415</td>\n",
       "      <td>0.145</td>\n",
       "      <td>0.9440</td>\n",
       "      <td>0.3845</td>\n",
       "      <td>0.1850</td>\n",
       "      <td>0.2650</td>\n",
       "      <td>21</td>\n",
       "    </tr>\n",
       "  </tbody>\n",
       "</table>\n",
       "<p>300 rows × 9 columns</p>\n",
       "</div>"
      ],
      "text/plain": [
       "      Sex  Length  Diameter  Height  Whole_weight  Shucked_weight  \\\n",
       "3877    3   0.445     0.340   0.145        0.4340          0.1945   \n",
       "3878    3   0.525     0.400   0.140        0.6955          0.2405   \n",
       "3879    2   0.545     0.440   0.175        0.7745          0.2985   \n",
       "3880    1   0.570     0.455   0.150        0.9520          0.3895   \n",
       "3881    3   0.450     0.350   0.110        0.5140          0.2530   \n",
       "...   ...     ...       ...     ...           ...             ...   \n",
       "4172    3   0.365     0.270   0.085        0.1970          0.0815   \n",
       "4173    3   0.555     0.430   0.140        0.7665          0.3410   \n",
       "4174    3   0.485     0.380   0.120        0.4725          0.2075   \n",
       "4175    2   0.550     0.450   0.145        0.7410          0.2950   \n",
       "4176    3   0.530     0.415   0.145        0.9440          0.3845   \n",
       "\n",
       "      Viscera_weight  Shell_weight  Rings  \n",
       "3877          0.0905        0.1300      7  \n",
       "3878          0.1600        0.2530     10  \n",
       "3879          0.1875        0.2650     11  \n",
       "3880          0.2155        0.2745      9  \n",
       "3881          0.1045        0.1400      8  \n",
       "...              ...           ...    ...  \n",
       "4172          0.0325        0.0650      6  \n",
       "4173          0.1650        0.2300      9  \n",
       "4174          0.1075        0.1470      6  \n",
       "4175          0.1435        0.2665     10  \n",
       "4176          0.1850        0.2650     21  \n",
       "\n",
       "[300 rows x 9 columns]"
      ]
     },
     "execution_count": 15,
     "metadata": {},
     "output_type": "execute_result"
    }
   ],
   "source": [
    "reserved_data = df.iloc[3877:, :]\n",
    "reserved_data"
   ]
  },
  {
   "cell_type": "code",
   "execution_count": 16,
   "id": "a0c3d140",
   "metadata": {},
   "outputs": [],
   "source": [
    "from sklearn.model_selection import train_test_split"
   ]
  },
  {
   "cell_type": "code",
   "execution_count": 17,
   "id": "87d47d79",
   "metadata": {},
   "outputs": [],
   "source": [
    "X = df1.drop(columns=\"Rings\")\n",
    "y = df1[\"Rings\"]"
   ]
  },
  {
   "cell_type": "code",
   "execution_count": 18,
   "id": "e8bcba4f",
   "metadata": {},
   "outputs": [],
   "source": [
    "X_train, X_test, y_train, y_test = train_test_split(X, y, train_size=0.7, random_state=42)"
   ]
  },
  {
   "cell_type": "code",
   "execution_count": 19,
   "id": "fee370cf",
   "metadata": {},
   "outputs": [
    {
     "name": "stdout",
     "output_type": "stream",
     "text": [
      "X_train.shape:  (2713, 8)\n",
      "X_test.shape:  (1164, 8)\n"
     ]
    }
   ],
   "source": [
    "print(\"X_train.shape: \", X_train.shape)\n",
    "print(\"X_test.shape: \", X_test.shape)"
   ]
  },
  {
   "cell_type": "code",
   "execution_count": 20,
   "id": "b366180c",
   "metadata": {},
   "outputs": [],
   "source": [
    "abalone = X_train.copy()\n",
    "abalone_labels = y_train.copy()"
   ]
  },
  {
   "cell_type": "markdown",
   "id": "bcb121b0",
   "metadata": {},
   "source": [
    "###### Looking for Correlations"
   ]
  },
  {
   "cell_type": "raw",
   "id": "452f24f0",
   "metadata": {},
   "source": [
    "corr_matrix = abalone.corr()"
   ]
  },
  {
   "cell_type": "raw",
   "id": "7c1c5e7a",
   "metadata": {},
   "source": [
    "abalone.index"
   ]
  },
  {
   "cell_type": "raw",
   "id": "6f69cff3",
   "metadata": {},
   "source": [
    "corr_matrix[\"Rings\"].sort_values(ascending=False)"
   ]
  },
  {
   "cell_type": "code",
   "execution_count": null,
   "id": "1205ef0d",
   "metadata": {},
   "outputs": [],
   "source": []
  },
  {
   "cell_type": "markdown",
   "id": "fd55704c",
   "metadata": {},
   "source": [
    "## data preprocessing"
   ]
  },
  {
   "cell_type": "code",
   "execution_count": 21,
   "id": "eb157f9b",
   "metadata": {},
   "outputs": [
    {
     "data": {
      "text/plain": [
       "1    986\n",
       "3    887\n",
       "2    840\n",
       "Name: Sex, dtype: int64"
      ]
     },
     "execution_count": 21,
     "metadata": {},
     "output_type": "execute_result"
    }
   ],
   "source": [
    "X_train[\"Sex\"].value_counts()"
   ]
  },
  {
   "cell_type": "code",
   "execution_count": 22,
   "id": "604e7f13",
   "metadata": {},
   "outputs": [],
   "source": [
    "cat_feat = X_train[\"Sex\"]"
   ]
  },
  {
   "cell_type": "code",
   "execution_count": 23,
   "id": "4b6bbbcf",
   "metadata": {},
   "outputs": [
    {
     "data": {
      "text/html": [
       "<div>\n",
       "<style scoped>\n",
       "    .dataframe tbody tr th:only-of-type {\n",
       "        vertical-align: middle;\n",
       "    }\n",
       "\n",
       "    .dataframe tbody tr th {\n",
       "        vertical-align: top;\n",
       "    }\n",
       "\n",
       "    .dataframe thead th {\n",
       "        text-align: right;\n",
       "    }\n",
       "</style>\n",
       "<table border=\"1\" class=\"dataframe\">\n",
       "  <thead>\n",
       "    <tr style=\"text-align: right;\">\n",
       "      <th></th>\n",
       "      <th>Length</th>\n",
       "      <th>Diameter</th>\n",
       "      <th>Height</th>\n",
       "      <th>Whole_weight</th>\n",
       "      <th>Shucked_weight</th>\n",
       "      <th>Viscera_weight</th>\n",
       "      <th>Shell_weight</th>\n",
       "      <th>Sex_1</th>\n",
       "      <th>Sex_2</th>\n",
       "      <th>Sex_3</th>\n",
       "    </tr>\n",
       "  </thead>\n",
       "  <tbody>\n",
       "    <tr>\n",
       "      <th>22</th>\n",
       "      <td>0.520</td>\n",
       "      <td>0.460</td>\n",
       "      <td>0.150</td>\n",
       "      <td>1.0190</td>\n",
       "      <td>0.5230</td>\n",
       "      <td>0.1985</td>\n",
       "      <td>0.2540</td>\n",
       "      <td>0</td>\n",
       "      <td>1</td>\n",
       "      <td>0</td>\n",
       "    </tr>\n",
       "    <tr>\n",
       "      <th>2794</th>\n",
       "      <td>0.600</td>\n",
       "      <td>0.490</td>\n",
       "      <td>0.210</td>\n",
       "      <td>1.9875</td>\n",
       "      <td>1.0050</td>\n",
       "      <td>0.4190</td>\n",
       "      <td>0.4910</td>\n",
       "      <td>1</td>\n",
       "      <td>0</td>\n",
       "      <td>0</td>\n",
       "    </tr>\n",
       "    <tr>\n",
       "      <th>2506</th>\n",
       "      <td>0.625</td>\n",
       "      <td>0.480</td>\n",
       "      <td>0.155</td>\n",
       "      <td>1.2035</td>\n",
       "      <td>0.5865</td>\n",
       "      <td>0.2390</td>\n",
       "      <td>0.3185</td>\n",
       "      <td>0</td>\n",
       "      <td>1</td>\n",
       "      <td>0</td>\n",
       "    </tr>\n",
       "    <tr>\n",
       "      <th>1632</th>\n",
       "      <td>0.300</td>\n",
       "      <td>0.225</td>\n",
       "      <td>0.075</td>\n",
       "      <td>0.1345</td>\n",
       "      <td>0.0570</td>\n",
       "      <td>0.0280</td>\n",
       "      <td>0.0440</td>\n",
       "      <td>0</td>\n",
       "      <td>0</td>\n",
       "      <td>1</td>\n",
       "    </tr>\n",
       "    <tr>\n",
       "      <th>695</th>\n",
       "      <td>0.515</td>\n",
       "      <td>0.420</td>\n",
       "      <td>0.135</td>\n",
       "      <td>0.7110</td>\n",
       "      <td>0.3370</td>\n",
       "      <td>0.1440</td>\n",
       "      <td>0.2050</td>\n",
       "      <td>0</td>\n",
       "      <td>0</td>\n",
       "      <td>1</td>\n",
       "    </tr>\n",
       "    <tr>\n",
       "      <th>...</th>\n",
       "      <td>...</td>\n",
       "      <td>...</td>\n",
       "      <td>...</td>\n",
       "      <td>...</td>\n",
       "      <td>...</td>\n",
       "      <td>...</td>\n",
       "      <td>...</td>\n",
       "      <td>...</td>\n",
       "      <td>...</td>\n",
       "      <td>...</td>\n",
       "    </tr>\n",
       "    <tr>\n",
       "      <th>1130</th>\n",
       "      <td>0.560</td>\n",
       "      <td>0.425</td>\n",
       "      <td>0.135</td>\n",
       "      <td>0.8205</td>\n",
       "      <td>0.3715</td>\n",
       "      <td>0.1850</td>\n",
       "      <td>0.2360</td>\n",
       "      <td>0</td>\n",
       "      <td>0</td>\n",
       "      <td>1</td>\n",
       "    </tr>\n",
       "    <tr>\n",
       "      <th>1294</th>\n",
       "      <td>0.500</td>\n",
       "      <td>0.400</td>\n",
       "      <td>0.150</td>\n",
       "      <td>0.8085</td>\n",
       "      <td>0.2730</td>\n",
       "      <td>0.1120</td>\n",
       "      <td>0.2950</td>\n",
       "      <td>0</td>\n",
       "      <td>1</td>\n",
       "      <td>0</td>\n",
       "    </tr>\n",
       "    <tr>\n",
       "      <th>860</th>\n",
       "      <td>0.625</td>\n",
       "      <td>0.495</td>\n",
       "      <td>0.155</td>\n",
       "      <td>1.0250</td>\n",
       "      <td>0.4600</td>\n",
       "      <td>0.1945</td>\n",
       "      <td>0.3400</td>\n",
       "      <td>1</td>\n",
       "      <td>0</td>\n",
       "      <td>0</td>\n",
       "    </tr>\n",
       "    <tr>\n",
       "      <th>3507</th>\n",
       "      <td>0.610</td>\n",
       "      <td>0.485</td>\n",
       "      <td>0.175</td>\n",
       "      <td>1.2445</td>\n",
       "      <td>0.5440</td>\n",
       "      <td>0.2970</td>\n",
       "      <td>0.3450</td>\n",
       "      <td>1</td>\n",
       "      <td>0</td>\n",
       "      <td>0</td>\n",
       "    </tr>\n",
       "    <tr>\n",
       "      <th>3174</th>\n",
       "      <td>0.470</td>\n",
       "      <td>0.370</td>\n",
       "      <td>0.110</td>\n",
       "      <td>0.5555</td>\n",
       "      <td>0.2500</td>\n",
       "      <td>0.1150</td>\n",
       "      <td>0.1630</td>\n",
       "      <td>0</td>\n",
       "      <td>0</td>\n",
       "      <td>1</td>\n",
       "    </tr>\n",
       "  </tbody>\n",
       "</table>\n",
       "<p>2713 rows × 10 columns</p>\n",
       "</div>"
      ],
      "text/plain": [
       "      Length  Diameter  Height  Whole_weight  Shucked_weight  Viscera_weight  \\\n",
       "22     0.520     0.460   0.150        1.0190          0.5230          0.1985   \n",
       "2794   0.600     0.490   0.210        1.9875          1.0050          0.4190   \n",
       "2506   0.625     0.480   0.155        1.2035          0.5865          0.2390   \n",
       "1632   0.300     0.225   0.075        0.1345          0.0570          0.0280   \n",
       "695    0.515     0.420   0.135        0.7110          0.3370          0.1440   \n",
       "...      ...       ...     ...           ...             ...             ...   \n",
       "1130   0.560     0.425   0.135        0.8205          0.3715          0.1850   \n",
       "1294   0.500     0.400   0.150        0.8085          0.2730          0.1120   \n",
       "860    0.625     0.495   0.155        1.0250          0.4600          0.1945   \n",
       "3507   0.610     0.485   0.175        1.2445          0.5440          0.2970   \n",
       "3174   0.470     0.370   0.110        0.5555          0.2500          0.1150   \n",
       "\n",
       "      Shell_weight  Sex_1  Sex_2  Sex_3  \n",
       "22          0.2540      0      1      0  \n",
       "2794        0.4910      1      0      0  \n",
       "2506        0.3185      0      1      0  \n",
       "1632        0.0440      0      0      1  \n",
       "695         0.2050      0      0      1  \n",
       "...            ...    ...    ...    ...  \n",
       "1130        0.2360      0      0      1  \n",
       "1294        0.2950      0      1      0  \n",
       "860         0.3400      1      0      0  \n",
       "3507        0.3450      1      0      0  \n",
       "3174        0.1630      0      0      1  \n",
       "\n",
       "[2713 rows x 10 columns]"
      ]
     },
     "execution_count": 23,
     "metadata": {},
     "output_type": "execute_result"
    }
   ],
   "source": [
    "pd.get_dummies(X_train, columns=[\"Sex\"])  # , drop_first=True"
   ]
  },
  {
   "cell_type": "markdown",
   "id": "e130a99a",
   "metadata": {},
   "source": [
    "#### Categorical Feature Processing"
   ]
  },
  {
   "cell_type": "markdown",
   "id": "0fc5571f",
   "metadata": {},
   "source": [
    "##### Custom Transformer"
   ]
  },
  {
   "cell_type": "code",
   "execution_count": 24,
   "id": "2ba270c6",
   "metadata": {},
   "outputs": [],
   "source": [
    "from sklearn.base import TransformerMixin, BaseEstimator"
   ]
  },
  {
   "cell_type": "code",
   "execution_count": 25,
   "id": "6508fd40",
   "metadata": {},
   "outputs": [],
   "source": [
    "class ProcessCatFeatures(BaseEstimator, TransformerMixin):\n",
    "    def __init__(self, col, drop_first=False):\n",
    "        \"\"\"\n",
    "        params: col: list of categorical features.\n",
    "        \"\"\"\n",
    "        self.col = col\n",
    "        self.drop_first = drop_first\n",
    "    \n",
    "    def fit(self, X, y=None):\n",
    "        return self\n",
    "    \n",
    "    def transform(self, X, y=None):\n",
    "        X = pd.get_dummies(X, columns=self.col, drop_first=self.drop_first)\n",
    "        return X"
   ]
  },
  {
   "cell_type": "code",
   "execution_count": 26,
   "id": "8a489056",
   "metadata": {
    "scrolled": true
   },
   "outputs": [
    {
     "data": {
      "text/html": [
       "<div>\n",
       "<style scoped>\n",
       "    .dataframe tbody tr th:only-of-type {\n",
       "        vertical-align: middle;\n",
       "    }\n",
       "\n",
       "    .dataframe tbody tr th {\n",
       "        vertical-align: top;\n",
       "    }\n",
       "\n",
       "    .dataframe thead th {\n",
       "        text-align: right;\n",
       "    }\n",
       "</style>\n",
       "<table border=\"1\" class=\"dataframe\">\n",
       "  <thead>\n",
       "    <tr style=\"text-align: right;\">\n",
       "      <th></th>\n",
       "      <th>Length</th>\n",
       "      <th>Diameter</th>\n",
       "      <th>Height</th>\n",
       "      <th>Whole_weight</th>\n",
       "      <th>Shucked_weight</th>\n",
       "      <th>Viscera_weight</th>\n",
       "      <th>Shell_weight</th>\n",
       "      <th>Sex_1</th>\n",
       "      <th>Sex_2</th>\n",
       "      <th>Sex_3</th>\n",
       "    </tr>\n",
       "  </thead>\n",
       "  <tbody>\n",
       "    <tr>\n",
       "      <th>22</th>\n",
       "      <td>0.520</td>\n",
       "      <td>0.460</td>\n",
       "      <td>0.150</td>\n",
       "      <td>1.0190</td>\n",
       "      <td>0.5230</td>\n",
       "      <td>0.1985</td>\n",
       "      <td>0.2540</td>\n",
       "      <td>0</td>\n",
       "      <td>1</td>\n",
       "      <td>0</td>\n",
       "    </tr>\n",
       "    <tr>\n",
       "      <th>2794</th>\n",
       "      <td>0.600</td>\n",
       "      <td>0.490</td>\n",
       "      <td>0.210</td>\n",
       "      <td>1.9875</td>\n",
       "      <td>1.0050</td>\n",
       "      <td>0.4190</td>\n",
       "      <td>0.4910</td>\n",
       "      <td>1</td>\n",
       "      <td>0</td>\n",
       "      <td>0</td>\n",
       "    </tr>\n",
       "    <tr>\n",
       "      <th>2506</th>\n",
       "      <td>0.625</td>\n",
       "      <td>0.480</td>\n",
       "      <td>0.155</td>\n",
       "      <td>1.2035</td>\n",
       "      <td>0.5865</td>\n",
       "      <td>0.2390</td>\n",
       "      <td>0.3185</td>\n",
       "      <td>0</td>\n",
       "      <td>1</td>\n",
       "      <td>0</td>\n",
       "    </tr>\n",
       "    <tr>\n",
       "      <th>1632</th>\n",
       "      <td>0.300</td>\n",
       "      <td>0.225</td>\n",
       "      <td>0.075</td>\n",
       "      <td>0.1345</td>\n",
       "      <td>0.0570</td>\n",
       "      <td>0.0280</td>\n",
       "      <td>0.0440</td>\n",
       "      <td>0</td>\n",
       "      <td>0</td>\n",
       "      <td>1</td>\n",
       "    </tr>\n",
       "    <tr>\n",
       "      <th>695</th>\n",
       "      <td>0.515</td>\n",
       "      <td>0.420</td>\n",
       "      <td>0.135</td>\n",
       "      <td>0.7110</td>\n",
       "      <td>0.3370</td>\n",
       "      <td>0.1440</td>\n",
       "      <td>0.2050</td>\n",
       "      <td>0</td>\n",
       "      <td>0</td>\n",
       "      <td>1</td>\n",
       "    </tr>\n",
       "    <tr>\n",
       "      <th>...</th>\n",
       "      <td>...</td>\n",
       "      <td>...</td>\n",
       "      <td>...</td>\n",
       "      <td>...</td>\n",
       "      <td>...</td>\n",
       "      <td>...</td>\n",
       "      <td>...</td>\n",
       "      <td>...</td>\n",
       "      <td>...</td>\n",
       "      <td>...</td>\n",
       "    </tr>\n",
       "    <tr>\n",
       "      <th>1130</th>\n",
       "      <td>0.560</td>\n",
       "      <td>0.425</td>\n",
       "      <td>0.135</td>\n",
       "      <td>0.8205</td>\n",
       "      <td>0.3715</td>\n",
       "      <td>0.1850</td>\n",
       "      <td>0.2360</td>\n",
       "      <td>0</td>\n",
       "      <td>0</td>\n",
       "      <td>1</td>\n",
       "    </tr>\n",
       "    <tr>\n",
       "      <th>1294</th>\n",
       "      <td>0.500</td>\n",
       "      <td>0.400</td>\n",
       "      <td>0.150</td>\n",
       "      <td>0.8085</td>\n",
       "      <td>0.2730</td>\n",
       "      <td>0.1120</td>\n",
       "      <td>0.2950</td>\n",
       "      <td>0</td>\n",
       "      <td>1</td>\n",
       "      <td>0</td>\n",
       "    </tr>\n",
       "    <tr>\n",
       "      <th>860</th>\n",
       "      <td>0.625</td>\n",
       "      <td>0.495</td>\n",
       "      <td>0.155</td>\n",
       "      <td>1.0250</td>\n",
       "      <td>0.4600</td>\n",
       "      <td>0.1945</td>\n",
       "      <td>0.3400</td>\n",
       "      <td>1</td>\n",
       "      <td>0</td>\n",
       "      <td>0</td>\n",
       "    </tr>\n",
       "    <tr>\n",
       "      <th>3507</th>\n",
       "      <td>0.610</td>\n",
       "      <td>0.485</td>\n",
       "      <td>0.175</td>\n",
       "      <td>1.2445</td>\n",
       "      <td>0.5440</td>\n",
       "      <td>0.2970</td>\n",
       "      <td>0.3450</td>\n",
       "      <td>1</td>\n",
       "      <td>0</td>\n",
       "      <td>0</td>\n",
       "    </tr>\n",
       "    <tr>\n",
       "      <th>3174</th>\n",
       "      <td>0.470</td>\n",
       "      <td>0.370</td>\n",
       "      <td>0.110</td>\n",
       "      <td>0.5555</td>\n",
       "      <td>0.2500</td>\n",
       "      <td>0.1150</td>\n",
       "      <td>0.1630</td>\n",
       "      <td>0</td>\n",
       "      <td>0</td>\n",
       "      <td>1</td>\n",
       "    </tr>\n",
       "  </tbody>\n",
       "</table>\n",
       "<p>2713 rows × 10 columns</p>\n",
       "</div>"
      ],
      "text/plain": [
       "      Length  Diameter  Height  Whole_weight  Shucked_weight  Viscera_weight  \\\n",
       "22     0.520     0.460   0.150        1.0190          0.5230          0.1985   \n",
       "2794   0.600     0.490   0.210        1.9875          1.0050          0.4190   \n",
       "2506   0.625     0.480   0.155        1.2035          0.5865          0.2390   \n",
       "1632   0.300     0.225   0.075        0.1345          0.0570          0.0280   \n",
       "695    0.515     0.420   0.135        0.7110          0.3370          0.1440   \n",
       "...      ...       ...     ...           ...             ...             ...   \n",
       "1130   0.560     0.425   0.135        0.8205          0.3715          0.1850   \n",
       "1294   0.500     0.400   0.150        0.8085          0.2730          0.1120   \n",
       "860    0.625     0.495   0.155        1.0250          0.4600          0.1945   \n",
       "3507   0.610     0.485   0.175        1.2445          0.5440          0.2970   \n",
       "3174   0.470     0.370   0.110        0.5555          0.2500          0.1150   \n",
       "\n",
       "      Shell_weight  Sex_1  Sex_2  Sex_3  \n",
       "22          0.2540      0      1      0  \n",
       "2794        0.4910      1      0      0  \n",
       "2506        0.3185      0      1      0  \n",
       "1632        0.0440      0      0      1  \n",
       "695         0.2050      0      0      1  \n",
       "...            ...    ...    ...    ...  \n",
       "1130        0.2360      0      0      1  \n",
       "1294        0.2950      0      1      0  \n",
       "860         0.3400      1      0      0  \n",
       "3507        0.3450      1      0      0  \n",
       "3174        0.1630      0      0      1  \n",
       "\n",
       "[2713 rows x 10 columns]"
      ]
     },
     "execution_count": 26,
     "metadata": {},
     "output_type": "execute_result"
    }
   ],
   "source": [
    "_ = ProcessCatFeatures([\"Sex\"], False).transform(abalone)\n",
    "_"
   ]
  },
  {
   "cell_type": "markdown",
   "id": "1f54b64d",
   "metadata": {},
   "source": [
    "##### OneHotEncoder"
   ]
  },
  {
   "cell_type": "code",
   "execution_count": 27,
   "id": "a1e32d78",
   "metadata": {},
   "outputs": [
    {
     "data": {
      "text/plain": [
       "<2713x2 sparse matrix of type '<class 'numpy.float64'>'\n",
       "\twith 1727 stored elements in Compressed Sparse Row format>"
      ]
     },
     "execution_count": 27,
     "metadata": {},
     "output_type": "execute_result"
    }
   ],
   "source": [
    "from sklearn.preprocessing import OneHotEncoder\n",
    "\n",
    "cat_encoder = OneHotEncoder(drop=\"first\")  # drop=\"first\", sparse=False\n",
    "cat_feat_1hot = cat_encoder.fit_transform(abalone[[\"Sex\"]])\n",
    "cat_feat_1hot"
   ]
  },
  {
   "cell_type": "code",
   "execution_count": 28,
   "id": "352092bc",
   "metadata": {},
   "outputs": [
    {
     "data": {
      "text/plain": [
       "array([[1., 0.],\n",
       "       [0., 0.],\n",
       "       [1., 0.],\n",
       "       ...,\n",
       "       [0., 0.],\n",
       "       [0., 0.],\n",
       "       [0., 1.]])"
      ]
     },
     "execution_count": 28,
     "metadata": {},
     "output_type": "execute_result"
    }
   ],
   "source": [
    "cat_feat_1hot.toarray()"
   ]
  },
  {
   "cell_type": "code",
   "execution_count": 29,
   "id": "0dfece86",
   "metadata": {},
   "outputs": [
    {
     "data": {
      "text/plain": [
       "[array([1, 2, 3], dtype=int64)]"
      ]
     },
     "execution_count": 29,
     "metadata": {},
     "output_type": "execute_result"
    }
   ],
   "source": [
    "cat_encoder.categories_"
   ]
  },
  {
   "cell_type": "markdown",
   "id": "4cf67e1d",
   "metadata": {},
   "source": [
    "#### Numerical Feature Processing"
   ]
  },
  {
   "cell_type": "code",
   "execution_count": 30,
   "id": "e4dbd4e4",
   "metadata": {},
   "outputs": [],
   "source": [
    "from sklearn.preprocessing import MinMaxScaler, StandardScaler\n",
    "# from sklearn.pipeline import Pipeline\n",
    "\n",
    "\n",
    "# num_pipeline = Pipeline([\n",
    "#     ()\n",
    "# ])"
   ]
  },
  {
   "cell_type": "code",
   "execution_count": 31,
   "id": "5f6eb4a3",
   "metadata": {},
   "outputs": [
    {
     "data": {
      "text/plain": [
       "array([[0.60135135, 0.68067227, 0.13274336, ..., 0.41944556, 0.33587786,\n",
       "        0.25161933],\n",
       "       [0.70945946, 0.73109244, 0.18584071, ..., 0.8067497 , 0.70992366,\n",
       "        0.48779273],\n",
       "       [0.74324324, 0.71428571, 0.13716814, ..., 0.47047007, 0.40458015,\n",
       "        0.31589437],\n",
       "       ...,\n",
       "       [0.74324324, 0.7394958 , 0.13716814, ..., 0.36882282, 0.32909245,\n",
       "        0.33731938],\n",
       "       [0.72297297, 0.72268908, 0.15486726, ..., 0.43631981, 0.50296862,\n",
       "        0.34230194],\n",
       "       [0.53378378, 0.52941176, 0.09734513, ..., 0.20008035, 0.1942324 ,\n",
       "        0.16093672]])"
      ]
     },
     "execution_count": 31,
     "metadata": {},
     "output_type": "execute_result"
    }
   ],
   "source": [
    "scaler = MinMaxScaler()\n",
    "scaler.fit_transform(abalone.drop(columns=\"Sex\"))"
   ]
  },
  {
   "cell_type": "code",
   "execution_count": 32,
   "id": "9c9b8a5c",
   "metadata": {},
   "outputs": [
    {
     "data": {
      "text/plain": [
       "(2713, 7)"
      ]
     },
     "execution_count": 32,
     "metadata": {},
     "output_type": "execute_result"
    }
   ],
   "source": [
    "scaler.fit_transform(abalone.drop(columns=\"Sex\")).shape"
   ]
  },
  {
   "cell_type": "markdown",
   "id": "c7caa272",
   "metadata": {},
   "source": [
    "##### Column Transformer"
   ]
  },
  {
   "cell_type": "markdown",
   "id": "7f99d229",
   "metadata": {},
   "source": [
    "<i><font color=\"red\">Make custom transformer that implements `ColumnTransformer` in the `transform` method and allows flexibility parameters.</font></i>"
   ]
  },
  {
   "cell_type": "code",
   "execution_count": 33,
   "id": "5f18fcf3",
   "metadata": {},
   "outputs": [],
   "source": [
    "from sklearn.compose import ColumnTransformer"
   ]
  },
  {
   "cell_type": "code",
   "execution_count": 34,
   "id": "79f11755",
   "metadata": {},
   "outputs": [
    {
     "data": {
      "text/plain": [
       "Index(['Sex', 'Length', 'Diameter', 'Height', 'Whole_weight', 'Shucked_weight',\n",
       "       'Viscera_weight', 'Shell_weight'],\n",
       "      dtype='object')"
      ]
     },
     "execution_count": 34,
     "metadata": {},
     "output_type": "execute_result"
    }
   ],
   "source": [
    "abalone.columns"
   ]
  },
  {
   "cell_type": "code",
   "execution_count": 35,
   "id": "f50bfb24",
   "metadata": {},
   "outputs": [],
   "source": [
    "num_attribs = list(abalone.drop(columns=\"Sex\"))\n",
    "cat_attribs = [\"Sex\"]\n",
    "\n",
    "data_prep_pipeline = ColumnTransformer([\n",
    "    (\"num\", MinMaxScaler(), num_attribs),\n",
    "    (\"cat\", OneHotEncoder(), cat_attribs)\n",
    "])"
   ]
  },
  {
   "cell_type": "code",
   "execution_count": 36,
   "id": "b611053e",
   "metadata": {},
   "outputs": [
    {
     "data": {
      "text/plain": [
       "(2713, 10)"
      ]
     },
     "execution_count": 36,
     "metadata": {},
     "output_type": "execute_result"
    }
   ],
   "source": [
    "abalone_prepared = data_prep_pipeline.fit_transform(abalone)\n",
    "abalone_prepared.shape"
   ]
  },
  {
   "cell_type": "code",
   "execution_count": 57,
   "id": "29518a11",
   "metadata": {},
   "outputs": [
    {
     "data": {
      "text/plain": [
       "['Length',\n",
       " 'Diameter',\n",
       " 'Height',\n",
       " 'Whole_weight',\n",
       " 'Shucked_weight',\n",
       " 'Viscera_weight',\n",
       " 'Shell_weight',\n",
       " 'Sex']"
      ]
     },
     "execution_count": 57,
     "metadata": {},
     "output_type": "execute_result"
    }
   ],
   "source": [
    "num_attribs + cat_attribs"
   ]
  },
  {
   "cell_type": "code",
   "execution_count": 59,
   "id": "3f45627e",
   "metadata": {},
   "outputs": [
    {
     "data": {
      "text/plain": [
       "sklearn.preprocessing._data.MinMaxScaler"
      ]
     },
     "execution_count": 59,
     "metadata": {},
     "output_type": "execute_result"
    }
   ],
   "source": [
    "num_transformer=MinMaxScaler\n",
    "num_transformer"
   ]
  },
  {
   "cell_type": "code",
   "execution_count": 37,
   "id": "727b8510",
   "metadata": {},
   "outputs": [
    {
     "data": {
      "text/plain": [
       "array([[0.60135135, 0.68067227, 0.13274336, ..., 0.        , 1.        ,\n",
       "        0.        ],\n",
       "       [0.70945946, 0.73109244, 0.18584071, ..., 1.        , 0.        ,\n",
       "        0.        ],\n",
       "       [0.74324324, 0.71428571, 0.13716814, ..., 0.        , 1.        ,\n",
       "        0.        ],\n",
       "       ...,\n",
       "       [0.74324324, 0.7394958 , 0.13716814, ..., 1.        , 0.        ,\n",
       "        0.        ],\n",
       "       [0.72297297, 0.72268908, 0.15486726, ..., 1.        , 0.        ,\n",
       "        0.        ],\n",
       "       [0.53378378, 0.52941176, 0.09734513, ..., 0.        , 0.        ,\n",
       "        1.        ]])"
      ]
     },
     "execution_count": 37,
     "metadata": {},
     "output_type": "execute_result"
    }
   ],
   "source": [
    "abalone_prepared"
   ]
  },
  {
   "cell_type": "markdown",
   "id": "e82553fd",
   "metadata": {},
   "source": [
    "## Model Training Tracking with MLflow"
   ]
  },
  {
   "cell_type": "code",
   "execution_count": 18,
   "id": "d00cde3d",
   "metadata": {},
   "outputs": [],
   "source": [
    "import mlflow\n",
    "import pandas as pd\n",
    "import numpy as np\n",
    "from sklearn.linear_model import LinearRegression, Lasso, Ridge, ElasticNet\n",
    "from sklearn.ensemble import RandomForestRegressor\n",
    "from sklearn.preprocessing import MinMaxScaler, OneHotEncoder\n",
    "from sklearn.model_selection import train_test_split\n",
    "from sklearn.compose import ColumnTransformer\n",
    "from sklearn.metrics import mean_squared_error\n",
    "\n",
    "from sklearn.model_selection import GridSearchCV, RandomizedSearchCV\n",
    "\n",
    "from sklearn.metrics import mean_squared_error, mean_absolute_error\n",
    "\n",
    "import joblib"
   ]
  },
  {
   "cell_type": "raw",
   "id": "def412da",
   "metadata": {},
   "source": [
    "load_data(\"data/abalone.csv\", columns, ['Length',\n",
    " 'Diameter',\n",
    " 'Height',\n",
    " 'Whole_weight',\n",
    " 'Shucked_weight',\n",
    " 'Viscera_weight',\n",
    " 'Shell_weight',\n",
    " ], [\"Sex\"], MinMaxScaler, OneHotEncoder)"
   ]
  },
  {
   "cell_type": "code",
   "execution_count": 2,
   "id": "042f4b77",
   "metadata": {},
   "outputs": [],
   "source": [
    "def full_prep_pipeline(num_attribs, cat_attribs, num_transformer, cat_transformer):\n",
    "    pipeline = ColumnTransformer([\n",
    "        (\"num\", num_transformer(), num_attribs),\n",
    "        (\"cat\", cat_transformer(), cat_attribs)\n",
    "    ])\n",
    "    return pipeline\n",
    "\n",
    "\n",
    "def load_data(path, columns, num_attribs, cat_attribs, num_transformer, cat_transformer):\n",
    "    data = pd.read_csv(path, names=columns)\n",
    "    X = data.drop(columns=\"Rings\")\n",
    "    y = data[\"Rings\"]\n",
    "    X_train, X_test, y_train, y_test = train_test_split(X, y, \\\n",
    "                                            train_size=0.8, random_state=42)\n",
    "    \n",
    "    pipeline = full_prep_pipeline(num_attribs, cat_attribs, num_transformer, cat_transformer)\n",
    "    X_train = pipeline.fit_transform(X_train)\n",
    "    X_test = pipeline.transform(X_test)\n",
    "    \n",
    "    \n",
    "    return X_train, X_test, y_train, y_test, pipeline\n",
    "\n",
    "\n",
    "# def train_model(X_train, X_test, y_train, y_test):\n",
    "def train_model(path, columns, num_attribs, cat_attribs, \\\n",
    "                parameters, num_transformer=MinMaxScaler, \\\n",
    "                cat_transformer=OneHotEncoder):\n",
    "            \n",
    "    X_train, X_test, y_train, y_test, pipeline = load_data(path, columns,  \\\n",
    "                                                           num_attribs, cat_attribs, \n",
    "                                                           num_transformer, cat_transformer)\n",
    "    \n",
    "    # save the data preprocessor pipeline object to external file.\n",
    "    joblib.dump(pipeline, \"models/preprocessor.pkl\")\n",
    "    \n",
    "    for param in parameters:\n",
    "        with mlflow.start_run(nested=True):\n",
    "            mlflow.set_tag(\"model\", str(param['estimator']))\n",
    "            mlflow.set_tag(\"hyperparameter search\", \"RandomizedSearchCV\")\n",
    "            # log the data preprocessor pipeline object as artifact.\n",
    "            mlflow.log_artifact(\"models/preprocessor.pkl\", artifact_path=\"preprocessor\")\n",
    "\n",
    "            random_search = RandomizedSearchCV(param[\"estimator\"], param[\"param_grid\"],\n",
    "                                scoring='neg_mean_squared_error',\n",
    "                                return_train_score=True\n",
    "                              )\n",
    "            random_search.fit(X_train, y_train)\n",
    "            \n",
    "            # save the search cv object to external file.\n",
    "            joblib.dump(random_search, \"models/search_cv.pkl\")\n",
    "            mlflow.log_artifact(\"models/search_cv.pkl\", artifact_path=\"models_mlflow\")\n",
    "\n",
    "            # log evaluation metric and hyperparameters of each Search run to mlflow\n",
    "            cvres = random_search.cv_results_\n",
    "            for mean_score, params in zip(cvres[\"mean_test_score\"], cvres[\"params\"]):\n",
    "                with mlflow.start_run(nested=True):\n",
    "                    mlflow.set_tag(\"model\", str(param['estimator']))\n",
    "                    mlflow.set_tag(\"Nested Run\", \"True\")\n",
    "                    mlflow.log_metric(\"rmse\", np.sqrt(-mean_score))\n",
    "                    mlflow.log_param(\"params\", params)\n",
    "            \n",
    "            # log best model and its hyperparameters to mlflow\n",
    "            best_model = random_search.best_estimator_\n",
    "            mlflow.sklearn.log_model(best_model, artifact_path=\"models_mlflow\")\n",
    "            mlflow.log_param(\"best_params\", random_search.best_params_)\n",
    "            mlflow.log_param(\"best_index\", random_search.best_index_)\n",
    "            mlflow.log_metric(\"rmse\", np.sqrt(-random_search.best_score_))\n",
    "            \n",
    "\n",
    "#         mlflow.end_run()    \n",
    "    \n",
    "#     return random_search\n",
    "### Making predictions: EValuate the overall best model on the test set.\n"
   ]
  },
  {
   "cell_type": "code",
   "execution_count": 3,
   "id": "4f585f07",
   "metadata": {
    "scrolled": true
   },
   "outputs": [
    {
     "name": "stderr",
     "output_type": "stream",
     "text": [
      "C:\\Users\\user\\anaconda3\\envs\\anaconda3-TF2.x-GPU\\lib\\site-packages\\sklearn\\model_selection\\_search.py:285: UserWarning: The total space of parameters 1 is smaller than n_iter=10. Running 1 iterations. For exhaustive searches, use GridSearchCV.\n",
      "  warnings.warn(\n",
      "C:\\Users\\user\\anaconda3\\envs\\anaconda3-TF2.x-GPU\\lib\\site-packages\\sklearn\\model_selection\\_search.py:285: UserWarning: The total space of parameters 3 is smaller than n_iter=10. Running 3 iterations. For exhaustive searches, use GridSearchCV.\n",
      "  warnings.warn(\n",
      "C:\\Users\\user\\anaconda3\\envs\\anaconda3-TF2.x-GPU\\lib\\site-packages\\sklearn\\model_selection\\_search.py:285: UserWarning: The total space of parameters 3 is smaller than n_iter=10. Running 3 iterations. For exhaustive searches, use GridSearchCV.\n",
      "  warnings.warn(\n",
      "C:\\Users\\user\\anaconda3\\envs\\anaconda3-TF2.x-GPU\\lib\\site-packages\\sklearn\\model_selection\\_search.py:285: UserWarning: The total space of parameters 3 is smaller than n_iter=10. Running 3 iterations. For exhaustive searches, use GridSearchCV.\n",
      "  warnings.warn(\n",
      "C:\\Users\\user\\anaconda3\\envs\\anaconda3-TF2.x-GPU\\lib\\site-packages\\sklearn\\model_selection\\_search.py:285: UserWarning: The total space of parameters 6 is smaller than n_iter=10. Running 6 iterations. For exhaustive searches, use GridSearchCV.\n",
      "  warnings.warn(\n"
     ]
    }
   ],
   "source": [
    "# if __name__ == \"__main__\":\n",
    "mlflow.set_tracking_uri(\"sqlite:///mlflow.db\")\n",
    "mlflow.set_experiment(\"abalone-age-prediction\")\n",
    "\n",
    "\n",
    "path = \"data/abalone.csv\"\n",
    "columns = [\"Sex\", \"Length\", \"Diameter\", \"Height\", \"Whole_weight\", \"Shucked_weight\", \"Viscera_weight\", \"Shell_weight\", \"Rings\"]\n",
    "num_attribs = [\"Length\", \"Diameter\", \"Height\", \"Whole_weight\", \"Shucked_weight\", \"Viscera_weight\", \"Shell_weight\",]\n",
    "cat_attribs = [\"Sex\"]\n",
    "\n",
    "# params = {\"estimator\": Lasso(), \"param_grid\": {\"alpha\": [0.1, 0.5, 1]}}\n",
    "# params = {\"estimator\": RandomForestRegressor(), \"param_grid\": {\"n_estimators\": [3, 10], \"max_features\": [2, 4, 8] }}\n",
    "parameters = [{\"estimator\": LinearRegression(), \"param_grid\": {\"n_jobs\": [-1]}},\n",
    "              {\"estimator\": Lasso(), \"param_grid\": {\"alpha\": [0.1, 0.5, 1]}},\n",
    "              {\"estimator\": Ridge(), \"param_grid\": {\"alpha\": [0.1, 0.5, 1]}},\n",
    "              {\"estimator\": ElasticNet(), \"param_grid\": {\"alpha\": [0.1, 0.5, 1]}},\n",
    "              {\"estimator\": RandomForestRegressor(), \"param_grid\": {\"n_estimators\": [3, 10], \"max_features\": [2, 4, 8] }},\n",
    "            ]\n",
    "\n",
    "\n",
    "train_model(path, columns, num_attribs, cat_attribs, parameters)"
   ]
  },
  {
   "cell_type": "code",
   "execution_count": null,
   "id": "d30cfe45",
   "metadata": {},
   "outputs": [],
   "source": []
  },
  {
   "cell_type": "code",
   "execution_count": 3,
   "id": "e3f6db71",
   "metadata": {},
   "outputs": [
    {
     "name": "stderr",
     "output_type": "stream",
     "text": [
      "C:\\Users\\user\\anaconda3\\envs\\anaconda3-TF2.x-GPU\\lib\\site-packages\\sklearn\\model_selection\\_search.py:285: UserWarning: The total space of parameters 1 is smaller than n_iter=10. Running 1 iterations. For exhaustive searches, use GridSearchCV.\n",
      "  warnings.warn(\n",
      "C:\\Users\\user\\anaconda3\\envs\\anaconda3-TF2.x-GPU\\lib\\site-packages\\sklearn\\model_selection\\_search.py:285: UserWarning: The total space of parameters 3 is smaller than n_iter=10. Running 3 iterations. For exhaustive searches, use GridSearchCV.\n",
      "  warnings.warn(\n",
      "C:\\Users\\user\\anaconda3\\envs\\anaconda3-TF2.x-GPU\\lib\\site-packages\\sklearn\\model_selection\\_search.py:285: UserWarning: The total space of parameters 3 is smaller than n_iter=10. Running 3 iterations. For exhaustive searches, use GridSearchCV.\n",
      "  warnings.warn(\n",
      "C:\\Users\\user\\anaconda3\\envs\\anaconda3-TF2.x-GPU\\lib\\site-packages\\sklearn\\model_selection\\_search.py:285: UserWarning: The total space of parameters 3 is smaller than n_iter=10. Running 3 iterations. For exhaustive searches, use GridSearchCV.\n",
      "  warnings.warn(\n",
      "C:\\Users\\user\\anaconda3\\envs\\anaconda3-TF2.x-GPU\\lib\\site-packages\\sklearn\\model_selection\\_search.py:285: UserWarning: The total space of parameters 6 is smaller than n_iter=10. Running 6 iterations. For exhaustive searches, use GridSearchCV.\n",
      "  warnings.warn(\n"
     ]
    }
   ],
   "source": [
    "# WHOLE\n",
    "def full_prep_pipeline(num_attribs, cat_attribs, num_transformer, cat_transformer):\n",
    "    pipeline = ColumnTransformer([\n",
    "        (\"num\", num_transformer(), num_attribs),\n",
    "        (\"cat\", cat_transformer(), cat_attribs)\n",
    "    ])\n",
    "    return pipeline\n",
    "\n",
    "\n",
    "def load_data(path, columns, num_attribs, cat_attribs, num_transformer, cat_transformer):\n",
    "    data = pd.read_csv(path, names=columns)\n",
    "    X = data.drop(columns=\"Rings\")\n",
    "    y = data[\"Rings\"]\n",
    "    X_train, X_test, y_train, y_test = train_test_split(X, y, \\\n",
    "                                            train_size=0.8, random_state=42)\n",
    "    \n",
    "    pipeline = full_prep_pipeline(num_attribs, cat_attribs, num_transformer, cat_transformer)\n",
    "    X_train = pipeline.fit_transform(X_train)\n",
    "    X_test = pipeline.transform(X_test)\n",
    "    \n",
    "    \n",
    "    return X_train, X_test, y_train, y_test, pipeline\n",
    "\n",
    "\n",
    "# def train_model(X_train, X_test, y_train, y_test):\n",
    "def train_model(path, columns, num_attribs, cat_attribs, \\\n",
    "                parameters, num_transformer=MinMaxScaler, \\\n",
    "                cat_transformer=OneHotEncoder):\n",
    "            \n",
    "    X_train, X_test, y_train, y_test, pipeline = load_data(path, columns,  \\\n",
    "                                                           num_attribs, cat_attribs, \n",
    "                                                           num_transformer, cat_transformer)\n",
    "    \n",
    "    # save the data preprocessor pipeline object to external file.\n",
    "    joblib.dump(pipeline, \"models/preprocessor.pkl\")\n",
    "    \n",
    "    with mlflow.start_run(nested=True):\n",
    "        for param in parameters:\n",
    "            with mlflow.start_run(nested=True):\n",
    "                mlflow.set_tag(\"model\", str(param['estimator']))\n",
    "                mlflow.set_tag(\"hyperparameter search\", \"RandomizedSearchCV\")\n",
    "                # log the data preprocessor pipeline object as artifact.\n",
    "                mlflow.log_artifact(\"models/preprocessor.pkl\", artifact_path=\"preprocessor\")\n",
    "\n",
    "                searchcv = RandomizedSearchCV(param[\"estimator\"], param[\"param_grid\"],\n",
    "                                    scoring='neg_mean_squared_error',\n",
    "                                    return_train_score=True\n",
    "                                  )\n",
    "                searchcv.fit(X_train, y_train)\n",
    "\n",
    "                # save the search cv object to external file.\n",
    "                joblib.dump(searchcv, \"models/search_cv.pkl\")\n",
    "                mlflow.log_artifact(\"models/search_cv.pkl\", artifact_path=\"models_mlflow\")\n",
    "\n",
    "                # log evaluation metric and hyperparameters of each Search run to mlflow\n",
    "                cvres = searchcv.cv_results_\n",
    "                for mean_score, params in zip(cvres[\"mean_test_score\"], cvres[\"params\"]):\n",
    "                    with mlflow.start_run(nested=True):\n",
    "                        mlflow.set_tag(\"model\", str(param['estimator']))\n",
    "                        mlflow.set_tag(\"Nested Run\", \"True\")\n",
    "                        mlflow.log_metric(\"rmse\", np.sqrt(-mean_score))\n",
    "                        mlflow.log_param(\"params\", params)\n",
    "\n",
    "                # log best model and its hyperparameters to mlflow\n",
    "                best_model = searchcv.best_estimator_\n",
    "                mlflow.sklearn.log_model(best_model, artifact_path=\"models_mlflow\")\n",
    "                mlflow.log_param(\"best_params\", searchcv.best_params_)\n",
    "                mlflow.log_param(\"best_index\", searchcv.best_index_)\n",
    "                mlflow.log_metric(\"rmse\", np.sqrt(-searchcv.best_score_))\n",
    "  \n",
    "\n",
    "\n",
    "# if __name__ == \"__main__\":\n",
    "mlflow.set_tracking_uri(\"sqlite:///mlflow.db\")\n",
    "mlflow.set_experiment(\"abalone-age-prediction-whole\")\n",
    "\n",
    "\n",
    "path = \"data/abalone.csv\"\n",
    "columns = [\"Sex\", \"Length\", \"Diameter\", \"Height\", \"Whole_weight\", \"Shucked_weight\", \"Viscera_weight\", \"Shell_weight\", \"Rings\"]\n",
    "num_attribs = [\"Length\", \"Diameter\", \"Height\", \"Whole_weight\", \"Shucked_weight\", \"Viscera_weight\", \"Shell_weight\",]\n",
    "cat_attribs = [\"Sex\"]\n",
    "\n",
    "# params = {\"estimator\": Lasso(), \"param_grid\": {\"alpha\": [0.1, 0.5, 1], \"fit_intercept\": [True, False]}}\n",
    "# params = {\"estimator\": RandomForestRegressor(), \"param_grid\": {\"n_estimators\": [3, 10], \"max_features\": [2, 4, 8] }}\n",
    "parameters = [{\"estimator\": LinearRegression(), \"param_grid\": {\"n_jobs\": [-1], \"fit_intercept\": [True, False], \"positive\": [True, False]}},\n",
    "              {\"estimator\": Lasso(), \"param_grid\": {\"alpha\": [0.1, 0.3, 0.5, 0.7, 1]}}, \n",
    "              {\"estimator\": Ridge(), \"param_grid\": {\"alpha\": [0.1, 0.3, 0.5, 0.7, 1]}},\n",
    "              {\"estimator\": ElasticNet(), \"param_grid\": {\"alpha\": [0.1, 0.3, 0.5, 0.7, 1]}},\n",
    "              {\"estimator\": RandomForestRegressor(), \"param_grid\": {\"n_estimators\": [3, 10, 30], \"max_features\": [2, 4, 6, 8] }},\n",
    "            ]\n",
    "\n",
    "\n",
    "train_model(path, columns, num_attribs, cat_attribs, parameters)"
   ]
  },
  {
   "cell_type": "code",
   "execution_count": null,
   "id": "813856e8",
   "metadata": {},
   "outputs": [],
   "source": []
  },
  {
   "cell_type": "code",
   "execution_count": 1,
   "id": "22aa21e5",
   "metadata": {},
   "outputs": [],
   "source": [
    "import mlflow\n",
    "import pandas as pd\n",
    "import numpy as np\n",
    "from sklearn.linear_model import LinearRegression, Lasso, Ridge, ElasticNet\n",
    "from sklearn.ensemble import RandomForestRegressor\n",
    "from sklearn.preprocessing import MinMaxScaler, OneHotEncoder\n",
    "from sklearn.model_selection import train_test_split\n",
    "from sklearn.compose import ColumnTransformer\n",
    "from sklearn.metrics import mean_squared_error\n",
    "from sklearn.model_selection import GridSearchCV, RandomizedSearchCV\n",
    "from sklearn.metrics import mean_squared_error, mean_absolute_error\n",
    "\n",
    "from mlflow.entities import ViewType\n",
    "from mlflow.tracking import MlflowClient\n",
    "\n",
    "\n",
    "import joblib"
   ]
  },
  {
   "cell_type": "code",
   "execution_count": 2,
   "id": "b8270933",
   "metadata": {
    "scrolled": true
   },
   "outputs": [
    {
     "name": "stderr",
     "output_type": "stream",
     "text": [
      "C:\\Users\\user\\anaconda3\\envs\\anaconda3-TF2.x-GPU\\lib\\site-packages\\sklearn\\model_selection\\_search.py:285: UserWarning: The total space of parameters 1 is smaller than n_iter=10. Running 1 iterations. For exhaustive searches, use GridSearchCV.\n",
      "  warnings.warn(\n",
      "C:\\Users\\user\\anaconda3\\envs\\anaconda3-TF2.x-GPU\\lib\\site-packages\\sklearn\\model_selection\\_search.py:285: UserWarning: The total space of parameters 3 is smaller than n_iter=10. Running 3 iterations. For exhaustive searches, use GridSearchCV.\n",
      "  warnings.warn(\n",
      "C:\\Users\\user\\anaconda3\\envs\\anaconda3-TF2.x-GPU\\lib\\site-packages\\sklearn\\model_selection\\_search.py:285: UserWarning: The total space of parameters 3 is smaller than n_iter=10. Running 3 iterations. For exhaustive searches, use GridSearchCV.\n",
      "  warnings.warn(\n",
      "C:\\Users\\user\\anaconda3\\envs\\anaconda3-TF2.x-GPU\\lib\\site-packages\\sklearn\\model_selection\\_search.py:285: UserWarning: The total space of parameters 3 is smaller than n_iter=10. Running 3 iterations. For exhaustive searches, use GridSearchCV.\n",
      "  warnings.warn(\n",
      "C:\\Users\\user\\anaconda3\\envs\\anaconda3-TF2.x-GPU\\lib\\site-packages\\sklearn\\model_selection\\_search.py:285: UserWarning: The total space of parameters 6 is smaller than n_iter=10. Running 6 iterations. For exhaustive searches, use GridSearchCV.\n",
      "  warnings.warn(\n",
      "Registered model 'abalone-age-regressor-reg-testing' already exists. Creating a new version of this model...\n",
      "2022/08/25 02:15:16 INFO mlflow.tracking._model_registry.client: Waiting up to 300 seconds for model version to finish creation.                     Model name: abalone-age-regressor-reg-testing, version 1\n",
      "Created version '1' of model 'abalone-age-regressor-reg-testing'.\n",
      "Registered model 'abalone-age-regressor-reg-testing' already exists. Creating a new version of this model...\n",
      "2022/08/25 02:15:16 INFO mlflow.tracking._model_registry.client: Waiting up to 300 seconds for model version to finish creation.                     Model name: abalone-age-regressor-reg-testing, version 2\n",
      "Created version '2' of model 'abalone-age-regressor-reg-testing'.\n",
      "Registered model 'abalone-age-regressor-reg-testing' already exists. Creating a new version of this model...\n",
      "2022/08/25 02:15:16 INFO mlflow.tracking._model_registry.client: Waiting up to 300 seconds for model version to finish creation.                     Model name: abalone-age-regressor-reg-testing, version 3\n",
      "Created version '3' of model 'abalone-age-regressor-reg-testing'.\n",
      "Registered model 'abalone-age-regressor-reg-testing' already exists. Creating a new version of this model...\n",
      "2022/08/25 02:15:16 INFO mlflow.tracking._model_registry.client: Waiting up to 300 seconds for model version to finish creation.                     Model name: abalone-age-regressor-reg-testing, version 4\n",
      "Created version '4' of model 'abalone-age-regressor-reg-testing'.\n",
      "Registered model 'abalone-age-regressor-reg-testing' already exists. Creating a new version of this model...\n",
      "2022/08/25 02:15:16 INFO mlflow.tracking._model_registry.client: Waiting up to 300 seconds for model version to finish creation.                     Model name: abalone-age-regressor-reg-testing, version 5\n",
      "Created version '5' of model 'abalone-age-regressor-reg-testing'.\n"
     ]
    }
   ],
   "source": [
    "# NON NESTED\n",
    "def full_prep_pipeline(num_attribs, cat_attribs, num_transformer, cat_transformer):\n",
    "    pipeline = ColumnTransformer([\n",
    "        (\"num\", num_transformer(), num_attribs),\n",
    "        (\"cat\", cat_transformer(), cat_attribs)\n",
    "    ])\n",
    "    return pipeline\n",
    "\n",
    "\n",
    "def load_data(path, columns, num_attribs, cat_attribs, num_transformer, cat_transformer):\n",
    "    data = pd.read_csv(path, names=columns)\n",
    "    X = data.drop(columns=\"Rings\")\n",
    "    y = data[\"Rings\"]\n",
    "    X_train, X_test, y_train, y_test = train_test_split(X, y, \\\n",
    "                                            train_size=0.8, random_state=42)\n",
    "    \n",
    "    pipeline = full_prep_pipeline(num_attribs, cat_attribs, num_transformer, cat_transformer)\n",
    "    X_train = pipeline.fit_transform(X_train)\n",
    "    X_test = pipeline.transform(X_test)\n",
    "    \n",
    "    \n",
    "    return X_train, X_test, y_train, y_test, pipeline\n",
    "\n",
    "\n",
    "# def train_model(X_train, X_test, y_train, y_test):\n",
    "def train_model(path, columns, num_attribs, cat_attribs, \\\n",
    "                parameters, num_transformer=MinMaxScaler, \\\n",
    "                cat_transformer=OneHotEncoder):\n",
    "            \n",
    "    X_train, X_test, y_train, y_test, pipeline = load_data(path, columns, \\\n",
    "                                                           num_attribs, cat_attribs, \n",
    "                                                           num_transformer, cat_transformer)\n",
    "    \n",
    "    # save the data preprocessor pipeline object to external file.\n",
    "    joblib.dump(pipeline, \"models/preprocessor.pkl\")\n",
    "    \n",
    "    for param in parameters:\n",
    "        with mlflow.start_run():\n",
    "            mlflow.set_tag(\"model\", str(param['estimator']))\n",
    "#             mlflow.set_tag(\"hyperparameter search\", \"RandomizedSearchCV\")\n",
    "            # log the data preprocessor pipeline object as artifact.\n",
    "            mlflow.log_artifact(\"models/preprocessor.pkl\", artifact_path=\"preprocessor\")\n",
    "\n",
    "            searchcv = RandomizedSearchCV(param[\"estimator\"], param[\"param_grid\"],\n",
    "                                scoring='neg_mean_squared_error',\n",
    "                                return_train_score=True\n",
    "                              )\n",
    "            searchcv.fit(X_train, y_train)\n",
    "\n",
    "            # save the search cv object to external file.\n",
    "            joblib.dump(searchcv, \"models/search_cv.pkl\")\n",
    "            mlflow.log_artifact(\"models/search_cv.pkl\", artifact_path=\"models_mlflow\")\n",
    "\n",
    "            # log best model and its hyperparameters to mlflow\n",
    "            best_model = searchcv.best_estimator_\n",
    "            mlflow.sklearn.log_model(best_model, artifact_path=\"models_mlflow\")\n",
    "            mlflow.log_param(\"best_params\", searchcv.best_params_)\n",
    "            mlflow.log_param(\"best_index\", searchcv.best_index_)\n",
    "            mlflow.log_metric(\"validation_rmse\", np.sqrt(-searchcv.best_score_))\n",
    "            \n",
    "            # evaluate the model on the test set\n",
    "            test_rmse = mean_squared_error(y_test, best_model.predict(X_test), squared=False)\n",
    "            mlflow.log_metric(\"test_rmse\", test_rmse)\n",
    "\n",
    "\n",
    "def register_models(experiment_name, registered_model):\n",
    "    client = MlflowClient()\n",
    "    experiment = client.get_experiment_by_name(experiment_name)\n",
    "    \n",
    "    # Create new registered model\n",
    "    try:\n",
    "        client.create_registered_model(registered_model)\n",
    "    except mlflow.exceptions.MlflowException as e:\n",
    "        print(e)\n",
    "    \n",
    "    runs = client.search_runs(\n",
    "        experiment_ids=experiment.experiment_id,\n",
    "        filter_string=\"\",\n",
    "        run_view_type=ViewType.ACTIVE_ONLY,  # search for active runs only\n",
    "        order_by=[\"metrics.test_rmse ASC\"]\n",
    "    )\n",
    "    \n",
    "    # Register only models with status == 'FINISHED' to Mlflow Model Registry.\n",
    "    for run in runs:  # [1:]\n",
    "        if run.info.status == 'FINISHED':\n",
    "            model_uri = f\"runs:/{run.info.run_id}/model\"\n",
    "            model_version = mlflow.register_model(model_uri=model_uri, name=registered_model)\n",
    "\n",
    "            # set tags for current run model version\n",
    "            client.set_model_version_tag(registered_model, model_version.version, \"model\", run.data.tags[\"model\"])\n",
    "            client.set_model_version_tag(registered_model, model_version.version, \"experiment_id\", run.info.experiment_id)\n",
    "\n",
    "            # transition model version stage to \"Staging\"\n",
    "            new_stage = \"Staging\"\n",
    "            client.transition_model_version_stage(\n",
    "                name=registered_model,\n",
    "                version=model_version.version,\n",
    "                stage=new_stage,\n",
    "                archive_existing_versions=False\n",
    "            )\n",
    "\n",
    "            # Add description to current model version\n",
    "            client.update_model_version(\n",
    "                name=registered_model,\n",
    "                version=model_version.version,\n",
    "                description=f\"The model: {run.data.tags['model']}, test_rmse: ~{np.round(runs[0].data.metrics['test_rmse'], 3)}\"\n",
    "            )\n",
    "        \n",
    "        \n",
    "# if __name__ == \"__main__\":\n",
    "\n",
    "MLFLOW_TRACKING_URI = \"sqlite:///mlflow.db\"\n",
    "mlflow.set_tracking_uri(MLFLOW_TRACKING_URI)\n",
    "\n",
    "experiment_name = \"abalone-age-prediction-testing\"\n",
    "mlflow.set_experiment(experiment_name)  # non_nested\n",
    "\n",
    "registered_model = \"abalone-age-regressor-reg-testing\"\n",
    "\n",
    "\n",
    "path = \"data/abalone.csv\"\n",
    "columns = [\"Sex\", \"Length\", \"Diameter\", \"Height\", \"Whole_weight\", \"Shucked_weight\", \"Viscera_weight\", \"Shell_weight\", \"Rings\"]\n",
    "num_attribs = [\"Length\", \"Diameter\", \"Height\", \"Whole_weight\", \"Shucked_weight\", \"Viscera_weight\", \"Shell_weight\",]\n",
    "cat_attribs = [\"Sex\"]\n",
    "\n",
    "# parameters = [{\"estimator\": LinearRegression(), \"param_grid\": {\"n_jobs\": [-1], \"fit_intercept\": [True, False], \"positive\": [True, False]}},\n",
    "#               {\"estimator\": Lasso(), \"param_grid\": {\"alpha\": [0, 0.25, 0.5, 0.75, 1], \"fit_intercept\": [True, False]}}, \n",
    "#               {\"estimator\": Ridge(), \"param_grid\": {\"alpha\": [0, 0.25, 0.5, 0.75, 1], \"fit_intercept\": [True, False]}},\n",
    "#               {\"estimator\": ElasticNet(), \"param_grid\": {\"alpha\": [0, 0.25, 0.5, 0.755, 1], \"fit_intercept\": [True, False], \"l1_ratio\": [0, 0.25, 0.5, 0.75, 1]}},\n",
    "#               {\"estimator\": RandomForestRegressor(), \"param_grid\": {\"n_estimators\": [3, 10, 30, 50], \"max_features\": [2, 4, 6, 8, 10] }},\n",
    "#             ]\n",
    "parameters = [{\"estimator\": LinearRegression(), \"param_grid\": {\"n_jobs\": [-1]}},\n",
    "              {\"estimator\": Lasso(), \"param_grid\": {\"alpha\": [0.1, 0.5, 1]}},\n",
    "              {\"estimator\": Ridge(), \"param_grid\": {\"alpha\": [0.1, 0.5, 1]}},\n",
    "              {\"estimator\": ElasticNet(), \"param_grid\": {\"alpha\": [0.1, 0.5, 1]}},\n",
    "              {\"estimator\": RandomForestRegressor(), \"param_grid\": {\"n_estimators\": [3, 10], \"max_features\": [2, 4, 8] }},\n",
    "            ]\n",
    "\n",
    "train_model(path, columns, num_attribs, cat_attribs, parameters)\n",
    "register_models(experiment_name, registered_model)"
   ]
  },
  {
   "cell_type": "code",
   "execution_count": null,
   "id": "a16ff225",
   "metadata": {},
   "outputs": [],
   "source": []
  },
  {
   "cell_type": "code",
   "execution_count": null,
   "id": "c4617bda",
   "metadata": {},
   "outputs": [],
   "source": []
  },
  {
   "cell_type": "code",
   "execution_count": 3,
   "id": "bbdbc8a6",
   "metadata": {},
   "outputs": [],
   "source": [
    "MLFLOW_TRACKING_URI = \"sqlite:///mlflow.db\"\n",
    "client = MlflowClient(tracking_uri=MLFLOW_TRACKING_URI)"
   ]
  },
  {
   "cell_type": "raw",
   "id": "62f33e1f",
   "metadata": {},
   "source": [
    "client.delete_registered_model(\"abalone-age-regressor-reg-testing\")"
   ]
  },
  {
   "cell_type": "code",
   "execution_count": 6,
   "id": "ad0350e1",
   "metadata": {},
   "outputs": [],
   "source": [
    "# client = MlflowClient()\n",
    "\n",
    "MLFLOW_TRACKING_URI = \"sqlite:///mlflow.db\"\n",
    "client = MlflowClient(tracking_uri=MLFLOW_TRACKING_URI)\n",
    "\n",
    "runs = client.search_runs(\n",
    "    experiment_ids=4,\n",
    "    filter_string=\"\",\n",
    "    run_view_type=ViewType.ACTIVE_ONLY,  # search for active runs only\n",
    "#     max_results=,\n",
    "    order_by=[\"metrics.test_rmse ASC\"]\n",
    ")"
   ]
  },
  {
   "cell_type": "code",
   "execution_count": 15,
   "id": "cff7eab2",
   "metadata": {},
   "outputs": [
    {
     "data": {
      "text/plain": [
       "<Run: data=<RunData: metrics={'validation_rmse': 2.1971773070838956}, params={'best_index': '0', 'best_params': \"{'n_jobs': -1}\"}, tags={'mlflow.log-model.history': '[{\"run_id\": \"eeb9b465219c4f1cba945ab98e6857e4\", '\n",
       "                             '\"artifact_path\": \"models_mlflow\", '\n",
       "                             '\"utc_time_created\": \"2022-08-24 '\n",
       "                             '03:00:17.734905\", \"flavors\": {\"python_function\": '\n",
       "                             '{\"model_path\": \"model.pkl\", \"loader_module\": '\n",
       "                             '\"mlflow.sklearn\", \"python_version\": \"3.8.8\", '\n",
       "                             '\"env\": \"conda.yaml\"}, \"sklearn\": '\n",
       "                             '{\"pickled_model\": \"model.pkl\", '\n",
       "                             '\"sklearn_version\": \"0.24.1\", '\n",
       "                             '\"serialization_format\": \"cloudpickle\"}}, '\n",
       "                             '\"model_uuid\": '\n",
       "                             '\"6c992daf626447db8652d00b09c90789\"}]',\n",
       " 'mlflow.source.name': 'C:\\\\Users\\\\user\\\\anaconda3\\\\envs\\\\anaconda3-TF2.x-GPU\\\\lib\\\\site-packages\\\\ipykernel_launcher.py',\n",
       " 'mlflow.source.type': 'LOCAL',\n",
       " 'mlflow.user': 'user',\n",
       " 'model': 'LinearRegression()'}>, info=<RunInfo: artifact_uri='./mlruns/4/eeb9b465219c4f1cba945ab98e6857e4/artifacts', end_time=1661310023449, experiment_id='4', lifecycle_stage='active', run_id='eeb9b465219c4f1cba945ab98e6857e4', run_uuid='eeb9b465219c4f1cba945ab98e6857e4', start_time=1661310017646, status='FAILED', user_id='user'>>"
      ]
     },
     "execution_count": 15,
     "metadata": {},
     "output_type": "execute_result"
    }
   ],
   "source": [
    "runs[6]\n",
    "\n",
    "# for run in runs:\n",
    "#     if run.info.status == 'FINISHED':\n",
    "#         print(run.info.run_id)"
   ]
  },
  {
   "cell_type": "markdown",
   "id": "99b7a360",
   "metadata": {},
   "source": [
    "## Model Registry"
   ]
  },
  {
   "cell_type": "code",
   "execution_count": 6,
   "id": "97014771",
   "metadata": {},
   "outputs": [],
   "source": [
    "from mlflow.tracking import MlflowClient\n",
    "\n",
    "\n",
    "MLFLOW_TRACKING_URI = \"sqlite:///mlflow.db\""
   ]
  },
  {
   "cell_type": "code",
   "execution_count": 7,
   "id": "13b7ba63",
   "metadata": {},
   "outputs": [
    {
     "data": {
      "text/plain": [
       "[<Experiment: artifact_location='./mlruns/0', experiment_id='0', lifecycle_stage='active', name='Default', tags={}>,\n",
       " <Experiment: artifact_location='./mlruns/1', experiment_id='1', lifecycle_stage='active', name='abalone-age-prediction', tags={}>,\n",
       " <Experiment: artifact_location='./mlruns/2', experiment_id='2', lifecycle_stage='active', name='abalone-age-prediction-whole', tags={}>,\n",
       " <Experiment: artifact_location='./mlruns/3', experiment_id='3', lifecycle_stage='active', name='abalone-age-prediction-non_nested', tags={}>]"
      ]
     },
     "execution_count": 7,
     "metadata": {},
     "output_type": "execute_result"
    }
   ],
   "source": [
    "client = MlflowClient(tracking_uri=MLFLOW_TRACKING_URI)\n",
    "\n",
    "client.list_experiments()"
   ]
  },
  {
   "cell_type": "code",
   "execution_count": 27,
   "id": "2f114e0b",
   "metadata": {},
   "outputs": [
    {
     "data": {
      "text/plain": [
       "[<Experiment: artifact_location='./mlruns/0', experiment_id='0', lifecycle_stage='active', name='Default', tags={}>,\n",
       " <Experiment: artifact_location='./mlruns/1', experiment_id='1', lifecycle_stage='active', name='abalone-age-prediction_first_experiment', tags={}>,\n",
       " <Experiment: artifact_location='./mlruns/2', experiment_id='2', lifecycle_stage='active', name='abalone-age-prediction-whole', tags={}>,\n",
       " <Experiment: artifact_location='./mlruns/3', experiment_id='3', lifecycle_stage='active', name='abalone-age-prediction-non_nested', tags={}>,\n",
       " <Experiment: artifact_location='./mlruns/4', experiment_id='4', lifecycle_stage='active', name='abalone-age-prediction-registry', tags={}>]"
      ]
     },
     "execution_count": 27,
     "metadata": {},
     "output_type": "execute_result"
    }
   ],
   "source": [
    "# client = MlflowClient(tracking_uri=MLFLOW_TRACKING_URI)\n",
    "\n",
    "# client.delete_experiment(\"5\")\n",
    "# client.delete_registered_model('abalone-age-regressor-reg-testing')\n",
    "client.list_experiments()"
   ]
  },
  {
   "cell_type": "code",
   "execution_count": 60,
   "id": "184f4585",
   "metadata": {},
   "outputs": [
    {
     "name": "stdout",
     "output_type": "stream",
     "text": [
      "Experiment id: 0, Name: Default\n",
      "Experiment id: 1, Name: abalone-age-prediction\n",
      "Experiment id: 2, Name: abalone-age-prediction-whole\n",
      "Experiment id: 3, Name: abalone-age-prediction-non_nested\n",
      "Experiment id: 4, Name: abalone-age-prediction-registry\n"
     ]
    }
   ],
   "source": [
    "for experiment in client.list_experiments():\n",
    "    print(f\"Experiment id: {experiment.experiment_id}, Name: {experiment.name}\")\n",
    "\n",
    "# experiment[0].name"
   ]
  },
  {
   "cell_type": "code",
   "execution_count": 31,
   "id": "7a5ac7aa",
   "metadata": {},
   "outputs": [
    {
     "data": {
      "text/plain": [
       "<mlflow.tracking.client.MlflowClient at 0x235774d3820>"
      ]
     },
     "execution_count": 31,
     "metadata": {},
     "output_type": "execute_result"
    }
   ],
   "source": [
    "client.*tracking*?"
   ]
  },
  {
   "cell_type": "code",
   "execution_count": 34,
   "id": "79419abc",
   "metadata": {},
   "outputs": [],
   "source": [
    "runs = client.search_runs(\n",
    "        experiment_ids=experiment.experiment_id,\n",
    "        filter_string=\"\",\n",
    "        run_view_type=ViewType.ACTIVE_ONLY,  # search for active runs only\n",
    "        order_by=[\"metrics.test_rmse ASC\"]\n",
    "    )mlflow.*artifact*?\n",
    "# mlflow.get_tracking_uri()\n",
    "mlflow.get_artifact_uri"
   ]
  },
  {
   "cell_type": "code",
   "execution_count": null,
   "id": "4de77288",
   "metadata": {},
   "outputs": [],
   "source": []
  },
  {
   "cell_type": "code",
   "execution_count": 18,
   "id": "5843f11a",
   "metadata": {},
   "outputs": [
    {
     "name": "stdout",
     "output_type": "stream",
     "text": [
      "run id: c29d617659a841fb85bfc8e3080c32a1, test_rmse: 2.2067\n",
      "run id: e494d88e0354431b9dd7a5e407f0ca1d, test_rmse: 2.2938\n",
      "run id: 98d8d66f436c4baca13742c0286adbfb, test_rmse: 2.2966\n",
      "run id: b8da52054bc34dce804bc6b5ee5fac38, test_rmse: 2.6106\n",
      "run id: b4420374bfef4b5db656d727c02bc6af, test_rmse: 2.6106\n"
     ]
    }
   ],
   "source": [
    "from mlflow.entities import ViewType\n",
    "\n",
    "# MLFLOW_TRACKING_URI = \"sqlite:///mlflow.db\"\n",
    "\n",
    "\n",
    "tracking_server_host = \"3.140.242.166\"\n",
    "TRACKING_URI = f\"http://{tracking_server_host}:5000\"\n",
    "\n",
    "# client = MlflowClient(tracking_uri=TRACKING_URI)\n",
    "\n",
    "# client.list_experiments()\n",
    "experiment_name = \"abalone-age-prediction-cloud\"\n",
    "experiment = client.get_experiment_by_name(experiment_name)\n",
    "\n",
    "\n",
    "runs = client.search_runs(\n",
    "        experiment_ids=experiment.experiment_id,\n",
    "        filter_string=\"\",\n",
    "#         max_results=1,\n",
    "        run_view_type=ViewType.ACTIVE_ONLY,  # search for active runs only\n",
    "        order_by=[\"metrics.test_rmse ASC\"]\n",
    "    )\n",
    "\n",
    "for run in runs:\n",
    "#     print(run)\n",
    "    print(f\"run id: {run.info.run_id}, test_rmse: {run.data.metrics['test_rmse']:.4f}\")"
   ]
  },
  {
   "cell_type": "code",
   "execution_count": 37,
   "id": "87278423",
   "metadata": {},
   "outputs": [
    {
     "name": "stdout",
     "output_type": "stream",
     "text": [
      "run id: 9c77759dfdcc4e33893dc44cd5238930, test_rmse: 2.2017\n",
      "run id: af071671751f47c7850d3c90b6ade6b6, test_rmse: 2.2938\n",
      "run id: dbe1008b0be9426b87dd4dff105d0cad, test_rmse: 2.2966\n",
      "run id: f1908cfc7f514da791b430714b358205, test_rmse: 2.6106\n",
      "run id: 5b213027ade245fabf97fc5bc5c205b5, test_rmse: 2.6106\n"
     ]
    },
    {
     "data": {
      "text/plain": [
       "[<ModelVersion: creation_timestamp=1662534463763, current_stage='Staging', description='The model: LinearRegression(),             test_rmse: ~2.294', last_updated_timestamp=1662534465953, name='abalone-age-regressor-cloud2', run_id='af071671751f47c7850d3c90b6ade6b6', run_link='', source='s3://mlops-zoomcamp-artifacts-remotes/artifacts/2/af071671751f47c7850d3c90b6ade6b6/artifacts/model', status='READY', status_message='', tags={'experiment_id': '2', 'model': 'LinearRegression()'}, user_id='', version='1'>]"
      ]
     },
     "execution_count": 37,
     "metadata": {},
     "output_type": "execute_result"
    }
   ],
   "source": [
    "from mlflow.tracking import MlflowClient\n",
    "from mlflow.entities import ViewType\n",
    "\n",
    "# registered_model = \"abalone-age-regressor-cloud2\"\n",
    "\n",
    "# tracking_server_host = \"18.118.6.7\"\n",
    "# TRACKING_URI = f\"http://{tracking_server_host}:5000\"\n",
    "\n",
    "# client = MlflowClient(tracking_uri=TRACKING_URI)\n",
    "\n",
    "# # client.list_experiments()\n",
    "# experiment_name = \"abalone-age-prediction-cloud2\"\n",
    "# experiment = client.get_experiment_by_name(experiment_name)\n",
    "\n",
    "# # # Get the run with the best (lowest) test rmse score.\n",
    "# best_runs = client.search_runs(\n",
    "#         experiment_ids=experiment.experiment_id,\n",
    "#         filter_string=\"attributes.status='FINISHED'\",\n",
    "#         # max_results=3,\n",
    "#         run_view_type=ViewType.ACTIVE_ONLY,  # search for active runs only\n",
    "#         order_by=[\"metrics.test_rmse ASC\"]\n",
    "#     )\n",
    "\n",
    "for run in best_runs:\n",
    "#     print(run)\n",
    "    print(f\"run id: {run.info.run_id}, test_rmse: {run.data.metrics['test_rmse']:.4f}\")\n",
    "\n",
    "best_run = best_runs[1]\n",
    "\n",
    "# # The best run is at index 0\n",
    "# model_version = client.search_model_versions(f\"run_id = '{best_run.info.run_id}'\")\n",
    "# print(model_version)\n",
    "# client.search_model_versions(f\"name = '{registered_model}'\")\n",
    "# run_id = \"9c77759dfdcc4e33893dc44cd5238930\"\n",
    "# filter_string = \"run_id='{}'\".format(run_id)\n",
    "# client.search_model_versions(filter_string)\n",
    "# client.search_model_versions(\"run_id='9c77759dfdcc4e33893dc44cd5238930'\")\n",
    "client.search_model_versions(f\"run_id = '{best_run.info.run_id}'\")\n",
    "# best_run.info.run_id\n",
    "\n",
    "# new_stage = \"Production\"\n",
    "\n",
    "# client.transition_model_version_stage(\n",
    "#     name=registered_model,\n",
    "#     version=model_version.version,\n",
    "#     stage=new_stage,\n",
    "#     archive_existing_versions=False\n",
    "# )\n",
    "\n",
    "# best_run.info.run_id, model_version.version\n",
    "\n",
    "# model_version = client.search_model_versions(f\"run_id = '{best_run.info.run_id}'\")[0]\n",
    "# print(\"\\n\", model_version)"
   ]
  },
  {
   "cell_type": "code",
   "execution_count": 21,
   "id": "4ea3200a",
   "metadata": {
    "scrolled": false
   },
   "outputs": [
    {
     "name": "stdout",
     "output_type": "stream",
     "text": [
      "model: RandomForestRegressor(), rmse: 2.2066633540018596, status: FINISHED\n",
      "model: ElasticNet(), rmse: 2.6105529698748127, status: FINISHED\n",
      "model: Ridge(), rmse: 2.296584037643208, status: FINISHED\n",
      "model: Lasso(), rmse: 2.6105529698748127, status: FINISHED\n",
      "model: LinearRegression(), rmse: 2.293780953779515, status: FINISHED\n"
     ]
    }
   ],
   "source": [
    "fin_runs = client.search_runs(\n",
    "        experiment_ids=experiment.experiment_id,\n",
    "        filter_string=\"attributes.status='FINISHED'\",\n",
    "        # max_results=5,\n",
    "        run_view_type=ViewType.ACTIVE_ONLY,  # search for active runs only\n",
    "#         order_by=[\"metrics.test_rmse ASC\"]\n",
    "    )\n",
    "\n",
    "# # client.search_runs(\n",
    "#     exp.experiment_id, filter_string=\"params.num_boost_round='100'\", max_results=2\n",
    "# )\n",
    "\n",
    "for run in fin_runs:\n",
    "    print(f\"model: {run.data.tags['model']}, rmse: {run.data.metrics['test_rmse']}, status: {run.info.status}\")\n",
    "\n"
   ]
  },
  {
   "cell_type": "code",
   "execution_count": 10,
   "id": "f5dae047",
   "metadata": {
    "scrolled": true
   },
   "outputs": [
    {
     "data": {
      "text/plain": [
       "'Production'"
      ]
     },
     "execution_count": 10,
     "metadata": {},
     "output_type": "execute_result"
    }
   ],
   "source": [
    "client.*stage*?\n",
    "model_version.current_stage"
   ]
  },
  {
   "cell_type": "code",
   "execution_count": 35,
   "id": "34bf8324",
   "metadata": {},
   "outputs": [
    {
     "name": "stdout",
     "output_type": "stream",
     "text": [
      "[<ModelVersion: creation_timestamp=1662328709615, current_stage='Staging', description='The model: RandomForestRegressor(),                 test_rmse: ~2.207', last_updated_timestamp=1662328711823, name='abalone-age-regressor-cloud', run_id='c29d617659a841fb85bfc8e3080c32a1', run_link='', source='s3://mlops-zoomcamp-artifacts-remotes/artifacts/1/c29d617659a841fb85bfc8e3080c32a1/artifacts/model', status='READY', status_message='', tags={'experiment_id': '1', 'model': 'RandomForestRegressor()'}, user_id='', version='1'>]\n"
     ]
    },
    {
     "data": {
      "text/plain": [
       "'1'"
      ]
     },
     "execution_count": 35,
     "metadata": {},
     "output_type": "execute_result"
    }
   ],
   "source": [
    "# client.*version*?\n",
    "# client.get_model_version(registered_model, model_version.version)\n",
    "\n",
    "print(client.search_model_versions(\"run_id = 'c29d617659a841fb85bfc8e3080c32a1'\"))\n",
    "model_version = client.search_model_versions(f\"run_id = '{best_run.info.run_id}'\")[0]\n",
    "model_version.version"
   ]
  },
  {
   "cell_type": "code",
   "execution_count": 1,
   "id": "dc9e3800",
   "metadata": {},
   "outputs": [
    {
     "name": "stdout",
     "output_type": "stream",
     "text": [
      "run id: c29d617659a841fb85bfc8e3080c32a1, test_rmse: ~2.207\n",
      "run id: e494d88e0354431b9dd7a5e407f0ca1d, test_rmse: ~2.294\n",
      "run id: 98d8d66f436c4baca13742c0286adbfb, test_rmse: ~2.297\n",
      "run id: b8da52054bc34dce804bc6b5ee5fac38, test_rmse: ~2.611\n",
      "run id: b4420374bfef4b5db656d727c02bc6af, test_rmse: ~2.611\n"
     ]
    }
   ],
   "source": [
    "import mlflow\n",
    "import numpy as np\n",
    "from mlflow.tracking import MlflowClient\n",
    "from mlflow.entities import ViewType\n",
    "\n",
    "# MLFLOW_TRACKING_URI = \"sqlite:///mlflow.db\"\n",
    "\n",
    "\n",
    "tracking_server_host = \"3.140.242.166\"\n",
    "TRACKING_URI = f\"http://{tracking_server_host}:5000\"\n",
    "\n",
    "client = MlflowClient(tracking_uri=TRACKING_URI)\n",
    "\n",
    "# # client.list_experiments()\n",
    "experiment_name = \"abalone-age-prediction-cloud\"\n",
    "experiment = client.get_experiment_by_name(experiment_name)\n",
    "\n",
    "runs = client.search_runs(\n",
    "        experiment_ids=experiment.experiment_id,\n",
    "        filter_string=\"\",\n",
    "#         max_results=3,\n",
    "        run_view_type=ViewType.ACTIVE_ONLY,  # search for active runs only\n",
    "        order_by=[\"metrics.test_rmse ASC\"]\n",
    "    )\n",
    "\n",
    "for run in runs:\n",
    "#     print(run)\n",
    "    print(f\"run id: {run.info.run_id}, test_rmse: ~{np.round(run.data.metrics['test_rmse'], 3)}\")"
   ]
  },
  {
   "cell_type": "code",
   "execution_count": null,
   "id": "29512c8a",
   "metadata": {},
   "outputs": [],
   "source": []
  },
  {
   "cell_type": "code",
   "execution_count": 53,
   "id": "76172457",
   "metadata": {},
   "outputs": [
    {
     "name": "stderr",
     "output_type": "stream",
     "text": [
      "Registered model 'abalone-age-regressor' already exists. Creating a new version of this model...\n",
      "2022/08/24 04:05:08 INFO mlflow.tracking._model_registry.client: Waiting up to 300 seconds for model version to finish creation.                     Model name: abalone-age-regressor, version 2\n",
      "Created version '2' of model 'abalone-age-regressor'.\n",
      "Registered model 'abalone-age-regressor' already exists. Creating a new version of this model...\n",
      "2022/08/24 04:05:08 INFO mlflow.tracking._model_registry.client: Waiting up to 300 seconds for model version to finish creation.                     Model name: abalone-age-regressor, version 3\n",
      "Created version '3' of model 'abalone-age-regressor'.\n",
      "Registered model 'abalone-age-regressor' already exists. Creating a new version of this model...\n",
      "2022/08/24 04:05:08 INFO mlflow.tracking._model_registry.client: Waiting up to 300 seconds for model version to finish creation.                     Model name: abalone-age-regressor, version 4\n"
     ]
    },
    {
     "name": "stdout",
     "output_type": "stream",
     "text": [
      "Registered Model (name=abalone-age-regressor) already exists. Error: (sqlite3.IntegrityError) UNIQUE constraint failed: registered_models.name\n",
      "[SQL: INSERT INTO registered_models (name, creation_time, last_updated_time, description) VALUES (?, ?, ?, ?)]\n",
      "[parameters: ('abalone-age-regressor', 1661310308123, 1661310308123, None)]\n",
      "(Background on this error at: http://sqlalche.me/e/13/gkpj)\n"
     ]
    },
    {
     "name": "stderr",
     "output_type": "stream",
     "text": [
      "Created version '4' of model 'abalone-age-regressor'.\n",
      "Registered model 'abalone-age-regressor' already exists. Creating a new version of this model...\n",
      "2022/08/24 04:05:08 INFO mlflow.tracking._model_registry.client: Waiting up to 300 seconds for model version to finish creation.                     Model name: abalone-age-regressor, version 5\n",
      "Created version '5' of model 'abalone-age-regressor'.\n"
     ]
    }
   ],
   "source": [
    "from mlflow.entities import ViewType\n",
    "\n",
    "\n",
    "experiment_name = \"abalone-age-prediction-registry\"\n",
    "experiment = client.get_experiment_by_name(experiment_name)\n",
    "\n",
    "runs = client.search_runs(\n",
    "    experiment_ids=experiment.experiment_id,\n",
    "    filter_string=\"\",\n",
    "    run_view_type=ViewType.ACTIVE_ONLY,  # search for active runs only\n",
    "    max_results=5,\n",
    "    order_by=[\"metrics.test_rmse ASC\"]\n",
    ")\n",
    "\n",
    "# Create new registered model\n",
    "registered_model = \"abalone-age-regressor\"\n",
    "\n",
    "try:\n",
    "    client.create_registered_model(registered_model)\n",
    "except mlflow.exceptions.MlflowException as e:\n",
    "    print(e)\n",
    "    \n",
    "\n",
    "# Register models to Mlflow Model Registry\n",
    "for run in runs:  # [1:]\n",
    "    model_uri = f\"runs:/{run.info.run_id}/model\"\n",
    "    model_version = mlflow.register_model(model_uri=model_uri, name=registered_model)\n",
    "    \n",
    "    # set tags for current run model version\n",
    "    client.set_model_version_tag(registered_model, model_version.version, run.data.tags[\"model\"])\n",
    "    client.set_model_version_tag(registered_model, model_version.version, run.info.experiment_id)\n",
    "    # get latest model version number\n",
    "#     latest_versions = client.get_latest_versions(name=registered_model)\n",
    "#     client.get_model_version(registered_model, )\n",
    "    \n",
    "#     if len(latest_versions) != 0:\n",
    "#         model_version = latest_versions[-1].version\n",
    "#     else:\n",
    "#         model_version = 1\n",
    "    \n",
    "    # transition model version stage to \"Staging\"\n",
    "    new_stage = \"Staging\"\n",
    "    client.transition_model_version_stage(\n",
    "        name=registered_model,\n",
    "        version=model_version.version,\n",
    "        stage=new_stage,\n",
    "        archive_existing_versions=False\n",
    "    )\n",
    "    \n",
    "    # Add description to current model version\n",
    "    client.update_model_version(\n",
    "        name=registered_model,\n",
    "        description=f\"The model: {run.data.tags['model']}, test_rmse: ~{np.round(runs[0].data.metrics['rmse'], 3)}\"\n",
    "    )\n",
    "\n"
   ]
  },
  {
   "cell_type": "markdown",
   "id": "2d625e9d",
   "metadata": {},
   "source": [
    "### Transition best model to Production in Registry"
   ]
  },
  {
   "cell_type": "code",
   "execution_count": null,
   "id": "53d2c3f5",
   "metadata": {},
   "outputs": [],
   "source": [
    "# since `runs` is ordered by `test_rmse` in ascending order, the run in the first element in the list will have the lowest `test_rmse`\n",
    "# transitioning the model in the first run to \"Production\".\n",
    "^\n",
    "new_stage = \"Production\"\n",
    "    client.transition_model_version_stage(\n",
    "        name=registered_model,\n",
    "        version=model_version.version,\n",
    "        stage=new_stage,\n",
    "        archive_existing_versions=False\n",
    "    )"
   ]
  },
  {
   "cell_type": "code",
   "execution_count": null,
   "id": "71964281",
   "metadata": {},
   "outputs": [],
   "source": []
  },
  {
   "cell_type": "code",
   "execution_count": null,
   "id": "147f83a0",
   "metadata": {},
   "outputs": [],
   "source": []
  },
  {
   "cell_type": "markdown",
   "id": "2406923f",
   "metadata": {},
   "source": [
    "## Rough"
   ]
  },
  {
   "cell_type": "raw",
   "id": "127f7434",
   "metadata": {},
   "source": [
    "client.rename_experiment(\"1\", \"abalone-age-prediction_first_experiment\")"
   ]
  },
  {
   "cell_type": "raw",
   "id": "31d6dcdc",
   "metadata": {},
   "source": [
    "client.rename_registered_model(\"abalone-age-regressor\", \"abalone-age-regressor-trial\")"
   ]
  },
  {
   "cell_type": "code",
   "execution_count": 62,
   "id": "e605fc04",
   "metadata": {},
   "outputs": [
    {
     "data": {
      "text/plain": [
       "[<ModelVersion: creation_timestamp=1661310308337, current_stage='None', description=None, last_updated_timestamp=1661310308337, name='abalone-age-regressor', run_id='114b0c1401664fe0a31428d6a87b0bac', run_link=None, source='./mlruns/3/114b0c1401664fe0a31428d6a87b0bac/artifacts/model', status='READY', status_message=None, tags={}, user_id=None, version=5>,\n",
       " <ModelVersion: creation_timestamp=1661310308136, current_stage='Staging', description=None, last_updated_timestamp=1661310308363, name='abalone-age-regressor', run_id='42f5f50e821e4b09ab40b504b8cd10ae', run_link=None, source='./mlruns/3/42f5f50e821e4b09ab40b504b8cd10ae/artifacts/model', status='READY', status_message=None, tags={}, user_id=None, version=2>]"
      ]
     },
     "execution_count": 62,
     "metadata": {},
     "output_type": "execute_result"
    }
   ],
   "source": [
    "registered_model = \"abalone-age-regressor\"\n",
    "\n",
    "client.get_latest_versions(name=registered_model)[0]\n"
   ]
  },
  {
   "cell_type": "code",
   "execution_count": null,
   "id": "303322cd",
   "metadata": {},
   "outputs": [],
   "source": [
    "mlflow.entities.model_registry.ModelVersion.version"
   ]
  },
  {
   "cell_type": "code",
   "execution_count": 105,
   "id": "93386969",
   "metadata": {},
   "outputs": [
    {
     "data": {
      "text/plain": [
       "<bound method MlflowClient.update_model_version of <mlflow.tracking.client.MlflowClient object at 0x000001E1378A6C10>>"
      ]
     },
     "execution_count": 105,
     "metadata": {},
     "output_type": "execute_result"
    }
   ],
   "source": [
    "client.*registered*?\n",
    "# client.get_model_version\n",
    "# client.search_model_versions\n",
    "# client.delete_model_version\n",
    "# client.update_model_version\n",
    "# client.delete_registered_model"
   ]
  },
  {
   "cell_type": "code",
   "execution_count": 72,
   "id": "65260f24",
   "metadata": {},
   "outputs": [
    {
     "data": {
      "text/plain": [
       "mlflow.store.entities.paged_list.PagedList"
      ]
     },
     "execution_count": 72,
     "metadata": {},
     "output_type": "execute_result"
    }
   ],
   "source": [
    "type(runs)"
   ]
  },
  {
   "cell_type": "code",
   "execution_count": 77,
   "id": "8f1da682",
   "metadata": {
    "scrolled": true
   },
   "outputs": [
    {
     "data": {
      "text/plain": [
       "<Run: data=<RunData: metrics={'rmse': 2.2540875515008505}, params={'best_index': '5', 'best_params': \"{'n_estimators': 10, 'max_features': 8}\"}, tags={'hyperparameter search': 'RandomizedSearchCV',\n",
       " 'mlflow.log-model.history': '[{\"run_id\": \"557e1bfc8385484498484e9a6935b3f4\", '\n",
       "                             '\"artifact_path\": \"models_mlflow\", '\n",
       "                             '\"utc_time_created\": \"2022-08-23 '\n",
       "                             '08:33:12.489148\", \"flavors\": {\"python_function\": '\n",
       "                             '{\"model_path\": \"model.pkl\", \"loader_module\": '\n",
       "                             '\"mlflow.sklearn\", \"python_version\": \"3.8.8\", '\n",
       "                             '\"env\": \"conda.yaml\"}, \"sklearn\": '\n",
       "                             '{\"pickled_model\": \"model.pkl\", '\n",
       "                             '\"sklearn_version\": \"0.24.1\", '\n",
       "                             '\"serialization_format\": \"cloudpickle\"}}, '\n",
       "                             '\"model_uuid\": '\n",
       "                             '\"be51db7ee4f24727a428b6e93e234526\"}]',\n",
       " 'mlflow.source.name': 'C:\\\\Users\\\\user\\\\anaconda3\\\\envs\\\\anaconda3-TF2.x-GPU\\\\lib\\\\site-packages\\\\ipykernel_launcher.py',\n",
       " 'mlflow.source.type': 'LOCAL',\n",
       " 'mlflow.user': 'user',\n",
       " 'model': 'RandomForestRegressor()'}>, info=<RunInfo: artifact_uri='./mlruns/3/557e1bfc8385484498484e9a6935b3f4/artifacts', end_time=1661243601409, experiment_id='3', lifecycle_stage='active', run_id='557e1bfc8385484498484e9a6935b3f4', run_uuid='557e1bfc8385484498484e9a6935b3f4', start_time=1661243590812, status='FINISHED', user_id='user'>>"
      ]
     },
     "execution_count": 77,
     "metadata": {},
     "output_type": "execute_result"
    }
   ],
   "source": [
    "runs[0]"
   ]
  },
  {
   "cell_type": "code",
   "execution_count": 80,
   "id": "3e8fcc15",
   "metadata": {},
   "outputs": [
    {
     "data": {
      "text/plain": [
       "'3'"
      ]
     },
     "execution_count": 80,
     "metadata": {},
     "output_type": "execute_result"
    }
   ],
   "source": [
    "runs[0].info.experiment_id"
   ]
  },
  {
   "cell_type": "code",
   "execution_count": 68,
   "id": "7317626c",
   "metadata": {},
   "outputs": [
    {
     "data": {
      "text/plain": [
       "'RandomForestRegressor()'"
      ]
     },
     "execution_count": 68,
     "metadata": {},
     "output_type": "execute_result"
    }
   ],
   "source": [
    "runs[0].data.tags[\"model\"]"
   ]
  },
  {
   "cell_type": "code",
   "execution_count": 31,
   "id": "260e2653",
   "metadata": {},
   "outputs": [
    {
     "name": "stdout",
     "output_type": "stream",
     "text": [
      "run id: 310b8f87ec144fc7b923643573686d04, rmse: 2.1966, model: Ridge()\n",
      "run id: 114b0c1401664fe0a31428d6a87b0bac, rmse: 2.1972, model: LinearRegression()\n",
      "run id: 557e1bfc8385484498484e9a6935b3f4, rmse: 2.2541, model: RandomForestRegressor()\n",
      "run id: 02fd13ac481c419ea04c0071cb278170, rmse: 2.5943, model: Lasso()\n",
      "run id: 42f5f50e821e4b09ab40b504b8cd10ae, rmse: 2.6743, model: ElasticNet()\n"
     ]
    }
   ],
   "source": [
    "for run in runs:\n",
    "    print(f\"run id: {run.info.run_id}, rmse: {run.data.metrics['rmse']:.4f}, model: {run.data.tags['model']}\")"
   ]
  },
  {
   "cell_type": "code",
   "execution_count": 58,
   "id": "7c849350",
   "metadata": {},
   "outputs": [
    {
     "name": "stdout",
     "output_type": "stream",
     "text": [
      "run id: 557e1bfc8385484498484e9a6935b3f4, rmse: 2.2541, model: RandomForestRegressor()\n",
      "run id: 42f5f50e821e4b09ab40b504b8cd10ae, rmse: 2.6743, model: ElasticNet()\n",
      "run id: 310b8f87ec144fc7b923643573686d04, rmse: 2.1966, model: Ridge()\n",
      "run id: 02fd13ac481c419ea04c0071cb278170, rmse: 2.5943, model: Lasso()\n",
      "run id: 114b0c1401664fe0a31428d6a87b0bac, rmse: 2.1972, model: LinearRegression()\n"
     ]
    }
   ],
   "source": [
    "for run in runs:\n",
    "    print(f\"run id: {run.info.run_id}, rmse: {run.data.metrics['rmse']:.4f}, model: {run.data.tags['model']}\")"
   ]
  },
  {
   "cell_type": "code",
   "execution_count": 59,
   "id": "05390508",
   "metadata": {},
   "outputs": [
    {
     "ename": "KeyError",
     "evalue": "'test_rmse'",
     "output_type": "error",
     "traceback": [
      "\u001b[1;31m---------------------------------------------------------------------------\u001b[0m",
      "\u001b[1;31mKeyError\u001b[0m                                  Traceback (most recent call last)",
      "\u001b[1;32m<ipython-input-59-93fcb77e5e90>\u001b[0m in \u001b[0;36m<module>\u001b[1;34m\u001b[0m\n\u001b[0;32m      1\u001b[0m \u001b[1;32mfor\u001b[0m \u001b[0mrun\u001b[0m \u001b[1;32min\u001b[0m \u001b[0mruns\u001b[0m\u001b[1;33m:\u001b[0m\u001b[1;33m\u001b[0m\u001b[1;33m\u001b[0m\u001b[0m\n\u001b[1;32m----> 2\u001b[1;33m     \u001b[0mprint\u001b[0m\u001b[1;33m(\u001b[0m\u001b[1;34mf\"run id: {run.info.run_id}, rmse: {run.data.metrics['test_rmse']:.4f}, model: {run.data.tags['model']}\"\u001b[0m\u001b[1;33m)\u001b[0m\u001b[1;33m\u001b[0m\u001b[1;33m\u001b[0m\u001b[0m\n\u001b[0m",
      "\u001b[1;31mKeyError\u001b[0m: 'test_rmse'"
     ]
    }
   ],
   "source": [
    "for run in runs:\n",
    "    print(f\"run id: {run.info.run_id}, rmse: {run.data.metrics['test_rmse']:.4f}, model: {run.data.tags['model']}\")"
   ]
  },
  {
   "cell_type": "code",
   "execution_count": 24,
   "id": "d2c9fbc0",
   "metadata": {},
   "outputs": [
    {
     "data": {
      "text/plain": [
       "<RunData: metrics={'rmse': 2.674319622848165}, params={'best_index': '0', 'best_params': \"{'alpha': 0.1}\"}, tags={'hyperparameter search': 'RandomizedSearchCV',\n",
       " 'mlflow.log-model.history': '[{\"run_id\": \"42f5f50e821e4b09ab40b504b8cd10ae\", '\n",
       "                             '\"artifact_path\": \"models_mlflow\", '\n",
       "                             '\"utc_time_created\": \"2022-08-23 '\n",
       "                             '08:33:02.279991\", \"flavors\": {\"python_function\": '\n",
       "                             '{\"model_path\": \"model.pkl\", \"loader_module\": '\n",
       "                             '\"mlflow.sklearn\", \"python_version\": \"3.8.8\", '\n",
       "                             '\"env\": \"conda.yaml\"}, \"sklearn\": '\n",
       "                             '{\"pickled_model\": \"model.pkl\", '\n",
       "                             '\"sklearn_version\": \"0.24.1\", '\n",
       "                             '\"serialization_format\": \"cloudpickle\"}}, '\n",
       "                             '\"model_uuid\": '\n",
       "                             '\"0b11b34cc0724b6e8b42fb8994705c89\"}]',\n",
       " 'mlflow.source.name': 'C:\\\\Users\\\\user\\\\anaconda3\\\\envs\\\\anaconda3-TF2.x-GPU\\\\lib\\\\site-packages\\\\ipykernel_launcher.py',\n",
       " 'mlflow.source.type': 'LOCAL',\n",
       " 'mlflow.user': 'user',\n",
       " 'model': 'ElasticNet()'}>"
      ]
     },
     "execution_count": 24,
     "metadata": {},
     "output_type": "execute_result"
    }
   ],
   "source": [
    "run.data\n",
    "mlflow.pyfunc.load_model(f\"models:/{name}/{stage}\")"
   ]
  },
  {
   "cell_type": "code",
   "execution_count": 25,
   "id": "8fe6af34",
   "metadata": {},
   "outputs": [
    {
     "data": {
      "text/plain": [
       "<RunInfo: artifact_uri='./mlruns/3/42f5f50e821e4b09ab40b504b8cd10ae/artifacts', end_time=1661243590775, experiment_id='3', lifecycle_stage='active', run_id='42f5f50e821e4b09ab40b504b8cd10ae', run_uuid='42f5f50e821e4b09ab40b504b8cd10ae', start_time=1661243581966, status='FINISHED', user_id='user'>"
      ]
     },
     "execution_count": 25,
     "metadata": {},
     "output_type": "execute_result"
    }
   ],
   "source": [
    "run.info"
   ]
  },
  {
   "cell_type": "code",
   "execution_count": 32,
   "id": "62950bbe",
   "metadata": {},
   "outputs": [
    {
     "data": {
      "text/plain": [
       "<RegisteredModel: creation_timestamp=1661306925205, description=None, last_updated_timestamp=1661306925205, latest_versions=[], name='abalone-age-regressor', tags={}>"
      ]
     },
     "execution_count": 32,
     "metadata": {},
     "output_type": "execute_result"
    }
   ],
   "source": [
    "client.create_registered_model(\"abalone-age-regressor\")"
   ]
  },
  {
   "cell_type": "code",
   "execution_count": 42,
   "id": "17ff66f1",
   "metadata": {},
   "outputs": [
    {
     "name": "stdout",
     "output_type": "stream",
     "text": [
      "Registered Model (name=abalone-age-regressor) already exists. Error: (sqlite3.IntegrityError) UNIQUE constraint failed: registered_models.name\n",
      "[SQL: INSERT INTO registered_models (name, creation_time, last_updated_time, description) VALUES (?, ?, ?, ?)]\n",
      "[parameters: ('abalone-age-regressor', 1661307260774, 1661307260774, None)]\n",
      "(Background on this error at: http://sqlalche.me/e/13/gkpj)\n"
     ]
    }
   ],
   "source": [
    "try:\n",
    "    client.create_registered_model(\"abalone-age-regressor\")\n",
    "except mlflow.exceptions.MlflowException as e:\n",
    "    print(e)"
   ]
  },
  {
   "cell_type": "code",
   "execution_count": 44,
   "id": "85419779",
   "metadata": {},
   "outputs": [
    {
     "data": {
      "text/plain": [
       "mlflow.exceptions.MlflowException"
      ]
     },
     "execution_count": 44,
     "metadata": {},
     "output_type": "execute_result"
    }
   ],
   "source": [
    "mlflow.exceptions.MlflowException"
   ]
  },
  {
   "cell_type": "code",
   "execution_count": 56,
   "id": "5b271ef0",
   "metadata": {},
   "outputs": [
    {
     "data": {
      "text/plain": [
       "<Run: data=<RunData: metrics={'rmse': 2.2540875515008505}, params={'best_index': '5', 'best_params': \"{'n_estimators': 10, 'max_features': 8}\"}, tags={'hyperparameter search': 'RandomizedSearchCV',\n",
       " 'mlflow.log-model.history': '[{\"run_id\": \"557e1bfc8385484498484e9a6935b3f4\", '\n",
       "                             '\"artifact_path\": \"models_mlflow\", '\n",
       "                             '\"utc_time_created\": \"2022-08-23 '\n",
       "                             '08:33:12.489148\", \"flavors\": {\"python_function\": '\n",
       "                             '{\"model_path\": \"model.pkl\", \"loader_module\": '\n",
       "                             '\"mlflow.sklearn\", \"python_version\": \"3.8.8\", '\n",
       "                             '\"env\": \"conda.yaml\"}, \"sklearn\": '\n",
       "                             '{\"pickled_model\": \"model.pkl\", '\n",
       "                             '\"sklearn_version\": \"0.24.1\", '\n",
       "                             '\"serialization_format\": \"cloudpickle\"}}, '\n",
       "                             '\"model_uuid\": '\n",
       "                             '\"be51db7ee4f24727a428b6e93e234526\"}]',\n",
       " 'mlflow.source.name': 'C:\\\\Users\\\\user\\\\anaconda3\\\\envs\\\\anaconda3-TF2.x-GPU\\\\lib\\\\site-packages\\\\ipykernel_launcher.py',\n",
       " 'mlflow.source.type': 'LOCAL',\n",
       " 'mlflow.user': 'user',\n",
       " 'model': 'RandomForestRegressor()'}>, info=<RunInfo: artifact_uri='./mlruns/3/557e1bfc8385484498484e9a6935b3f4/artifacts', end_time=1661243601409, experiment_id='3', lifecycle_stage='active', run_id='557e1bfc8385484498484e9a6935b3f4', run_uuid='557e1bfc8385484498484e9a6935b3f4', start_time=1661243590812, status='FINISHED', user_id='user'>>"
      ]
     },
     "execution_count": 56,
     "metadata": {},
     "output_type": "execute_result"
    }
   ],
   "source": [
    "runs = client.search_runs(\n",
    "    experiment_ids=experiment.experiment_id,\n",
    "    filter_string=\"\",\n",
    "    run_view_type=ViewType.ACTIVE_ONLY,  # search for active runs only\n",
    "    max_results=5,\n",
    "    order_by=[\"metrics.test_rmse ASC\"]\n",
    ")\n",
    "runs[0]"
   ]
  },
  {
   "cell_type": "code",
   "execution_count": null,
   "id": "6a308f85",
   "metadata": {},
   "outputs": [],
   "source": []
  },
  {
   "cell_type": "code",
   "execution_count": null,
   "id": "af1dcafe",
   "metadata": {},
   "outputs": [],
   "source": []
  },
  {
   "cell_type": "code",
   "execution_count": null,
   "id": "12dd8bd7",
   "metadata": {},
   "outputs": [],
   "source": []
  },
  {
   "cell_type": "code",
   "execution_count": null,
   "id": "5a2d2b89",
   "metadata": {},
   "outputs": [],
   "source": []
  },
  {
   "cell_type": "code",
   "execution_count": 3,
   "id": "55e6b617",
   "metadata": {
    "collapsed": true
   },
   "outputs": [
    {
     "name": "stderr",
     "output_type": "stream",
     "text": [
      "C:\\Users\\user\\anaconda3\\envs\\anaconda3-TF2.x-GPU\\lib\\site-packages\\sklearn\\model_selection\\_search.py:285: UserWarning: The total space of parameters 1 is smaller than n_iter=10. Running 1 iterations. For exhaustive searches, use GridSearchCV.\n",
      "  warnings.warn(\n",
      "C:\\Users\\user\\anaconda3\\envs\\anaconda3-TF2.x-GPU\\lib\\site-packages\\sklearn\\model_selection\\_search.py:285: UserWarning: The total space of parameters 3 is smaller than n_iter=10. Running 3 iterations. For exhaustive searches, use GridSearchCV.\n",
      "  warnings.warn(\n",
      "C:\\Users\\user\\anaconda3\\envs\\anaconda3-TF2.x-GPU\\lib\\site-packages\\sklearn\\model_selection\\_search.py:285: UserWarning: The total space of parameters 3 is smaller than n_iter=10. Running 3 iterations. For exhaustive searches, use GridSearchCV.\n",
      "  warnings.warn(\n",
      "C:\\Users\\user\\anaconda3\\envs\\anaconda3-TF2.x-GPU\\lib\\site-packages\\sklearn\\model_selection\\_search.py:285: UserWarning: The total space of parameters 3 is smaller than n_iter=10. Running 3 iterations. For exhaustive searches, use GridSearchCV.\n",
      "  warnings.warn(\n",
      "C:\\Users\\user\\anaconda3\\envs\\anaconda3-TF2.x-GPU\\lib\\site-packages\\sklearn\\model_selection\\_search.py:285: UserWarning: The total space of parameters 6 is smaller than n_iter=10. Running 6 iterations. For exhaustive searches, use GridSearchCV.\n",
      "  warnings.warn(\n"
     ]
    }
   ],
   "source": []
  },
  {
   "cell_type": "code",
   "execution_count": null,
   "id": "63dcd577",
   "metadata": {},
   "outputs": [],
   "source": []
  },
  {
   "cell_type": "code",
   "execution_count": 5,
   "id": "b0ee43f3",
   "metadata": {},
   "outputs": [
    {
     "data": {
      "text/plain": [
       "GridSearchCV(estimator=Lasso(), param_grid={'alpha': [0.1, 0.5, 1]},\n",
       "             return_train_score=True, scoring='neg_mean_squared_error')"
      ]
     },
     "execution_count": 5,
     "metadata": {},
     "output_type": "execute_result"
    }
   ],
   "source": [
    "X_train, X_test, y_train, y_test, pipeline = load_data(\"data/abalone.csv\", columns, num_attribs, \\\n",
    "                                                       cat_attribs, MinMaxScaler, OneHotEncoder)\n",
    "\n",
    "# train_model(X_train, X_test, y_train, y_test)\n",
    "# GridSearchCV\n",
    "# RandomizedSearchCV\n",
    "params = {\"estimator\": Lasso(), \"param_grid\": {\"alpha\": [0.1, 0.5, 1]}}\n",
    "\n",
    "rcv = GridSearchCV(params[\"estimator\"], params[\"param_grid\"],\n",
    "                            scoring='neg_mean_squared_error',\n",
    "                            return_train_score=True\n",
    "                          ).fit(X_train, y_train)  #.best_estimator_  # .best_params_\n",
    "\n",
    "rcv"
   ]
  },
  {
   "cell_type": "code",
   "execution_count": 6,
   "id": "0d6d3339",
   "metadata": {},
   "outputs": [
    {
     "data": {
      "text/plain": [
       "-6.7304801917205905"
      ]
     },
     "execution_count": 6,
     "metadata": {},
     "output_type": "execute_result"
    }
   ],
   "source": [
    "rcv.best_score_"
   ]
  },
  {
   "cell_type": "code",
   "execution_count": 5,
   "id": "5379e686",
   "metadata": {
    "collapsed": true
   },
   "outputs": [
    {
     "ename": "MlflowException",
     "evalue": "Experiment(name=abalone-age-prediction) already exists. Error: (raised as a result of Query-invoked autoflush; consider using a session.no_autoflush block if this flush is occurring prematurely)\n(sqlite3.IntegrityError) UNIQUE constraint failed: experiments.name\n[SQL: INSERT INTO experiments (name, artifact_location, lifecycle_stage) VALUES (?, ?, ?)]\n[parameters: ('abalone-age-prediction', None, 'active')]\n(Background on this error at: http://sqlalche.me/e/13/gkpj)",
     "output_type": "error",
     "traceback": [
      "\u001b[1;31m---------------------------------------------------------------------------\u001b[0m",
      "\u001b[1;31mIntegrityError\u001b[0m                            Traceback (most recent call last)",
      "\u001b[1;32m~\\anaconda3\\envs\\anaconda3-TF2.x-GPU\\lib\\site-packages\\sqlalchemy\\engine\\base.py\u001b[0m in \u001b[0;36m_execute_context\u001b[1;34m(self, dialect, constructor, statement, parameters, *args)\u001b[0m\n\u001b[0;32m   1275\u001b[0m                 \u001b[1;32mif\u001b[0m \u001b[1;32mnot\u001b[0m \u001b[0mevt_handled\u001b[0m\u001b[1;33m:\u001b[0m\u001b[1;33m\u001b[0m\u001b[1;33m\u001b[0m\u001b[0m\n\u001b[1;32m-> 1276\u001b[1;33m                     self.dialect.do_execute(\n\u001b[0m\u001b[0;32m   1277\u001b[0m                         \u001b[0mcursor\u001b[0m\u001b[1;33m,\u001b[0m \u001b[0mstatement\u001b[0m\u001b[1;33m,\u001b[0m \u001b[0mparameters\u001b[0m\u001b[1;33m,\u001b[0m \u001b[0mcontext\u001b[0m\u001b[1;33m\u001b[0m\u001b[1;33m\u001b[0m\u001b[0m\n",
      "\u001b[1;32m~\\anaconda3\\envs\\anaconda3-TF2.x-GPU\\lib\\site-packages\\sqlalchemy\\engine\\default.py\u001b[0m in \u001b[0;36mdo_execute\u001b[1;34m(self, cursor, statement, parameters, context)\u001b[0m\n\u001b[0;32m    607\u001b[0m     \u001b[1;32mdef\u001b[0m \u001b[0mdo_execute\u001b[0m\u001b[1;33m(\u001b[0m\u001b[0mself\u001b[0m\u001b[1;33m,\u001b[0m \u001b[0mcursor\u001b[0m\u001b[1;33m,\u001b[0m \u001b[0mstatement\u001b[0m\u001b[1;33m,\u001b[0m \u001b[0mparameters\u001b[0m\u001b[1;33m,\u001b[0m \u001b[0mcontext\u001b[0m\u001b[1;33m=\u001b[0m\u001b[1;32mNone\u001b[0m\u001b[1;33m)\u001b[0m\u001b[1;33m:\u001b[0m\u001b[1;33m\u001b[0m\u001b[1;33m\u001b[0m\u001b[0m\n\u001b[1;32m--> 608\u001b[1;33m         \u001b[0mcursor\u001b[0m\u001b[1;33m.\u001b[0m\u001b[0mexecute\u001b[0m\u001b[1;33m(\u001b[0m\u001b[0mstatement\u001b[0m\u001b[1;33m,\u001b[0m \u001b[0mparameters\u001b[0m\u001b[1;33m)\u001b[0m\u001b[1;33m\u001b[0m\u001b[1;33m\u001b[0m\u001b[0m\n\u001b[0m\u001b[0;32m    609\u001b[0m \u001b[1;33m\u001b[0m\u001b[0m\n",
      "\u001b[1;31mIntegrityError\u001b[0m: UNIQUE constraint failed: experiments.name",
      "\nThe above exception was the direct cause of the following exception:\n",
      "\u001b[1;31mIntegrityError\u001b[0m                            Traceback (most recent call last)",
      "\u001b[1;32m~\\anaconda3\\envs\\anaconda3-TF2.x-GPU\\lib\\site-packages\\mlflow\\store\\tracking\\sqlalchemy_store.py\u001b[0m in \u001b[0;36mcreate_experiment\u001b[1;34m(self, name, artifact_location, tags)\u001b[0m\n\u001b[0;32m    243\u001b[0m                     \u001b[1;31m# this requires a double write. The first one to generate an autoincrement-ed ID\u001b[0m\u001b[1;33m\u001b[0m\u001b[1;33m\u001b[0m\u001b[1;33m\u001b[0m\u001b[0m\n\u001b[1;32m--> 244\u001b[1;33m                     \u001b[0meid\u001b[0m \u001b[1;33m=\u001b[0m \u001b[0msession\u001b[0m\u001b[1;33m.\u001b[0m\u001b[0mquery\u001b[0m\u001b[1;33m(\u001b[0m\u001b[0mSqlExperiment\u001b[0m\u001b[1;33m)\u001b[0m\u001b[1;33m.\u001b[0m\u001b[0mfilter_by\u001b[0m\u001b[1;33m(\u001b[0m\u001b[0mname\u001b[0m\u001b[1;33m=\u001b[0m\u001b[0mname\u001b[0m\u001b[1;33m)\u001b[0m\u001b[1;33m.\u001b[0m\u001b[0mfirst\u001b[0m\u001b[1;33m(\u001b[0m\u001b[1;33m)\u001b[0m\u001b[1;33m.\u001b[0m\u001b[0mexperiment_id\u001b[0m\u001b[1;33m\u001b[0m\u001b[1;33m\u001b[0m\u001b[0m\n\u001b[0m\u001b[0;32m    245\u001b[0m                     \u001b[0mexperiment\u001b[0m\u001b[1;33m.\u001b[0m\u001b[0martifact_location\u001b[0m \u001b[1;33m=\u001b[0m \u001b[0mself\u001b[0m\u001b[1;33m.\u001b[0m\u001b[0m_get_artifact_location\u001b[0m\u001b[1;33m(\u001b[0m\u001b[0meid\u001b[0m\u001b[1;33m)\u001b[0m\u001b[1;33m\u001b[0m\u001b[1;33m\u001b[0m\u001b[0m\n",
      "\u001b[1;32m~\\anaconda3\\envs\\anaconda3-TF2.x-GPU\\lib\\site-packages\\sqlalchemy\\orm\\query.py\u001b[0m in \u001b[0;36mfirst\u001b[1;34m(self)\u001b[0m\n\u001b[0;32m   3428\u001b[0m         \u001b[1;32melse\u001b[0m\u001b[1;33m:\u001b[0m\u001b[1;33m\u001b[0m\u001b[1;33m\u001b[0m\u001b[0m\n\u001b[1;32m-> 3429\u001b[1;33m             \u001b[0mret\u001b[0m \u001b[1;33m=\u001b[0m \u001b[0mlist\u001b[0m\u001b[1;33m(\u001b[0m\u001b[0mself\u001b[0m\u001b[1;33m[\u001b[0m\u001b[1;36m0\u001b[0m\u001b[1;33m:\u001b[0m\u001b[1;36m1\u001b[0m\u001b[1;33m]\u001b[0m\u001b[1;33m)\u001b[0m\u001b[1;33m\u001b[0m\u001b[1;33m\u001b[0m\u001b[0m\n\u001b[0m\u001b[0;32m   3430\u001b[0m         \u001b[1;32mif\u001b[0m \u001b[0mlen\u001b[0m\u001b[1;33m(\u001b[0m\u001b[0mret\u001b[0m\u001b[1;33m)\u001b[0m \u001b[1;33m>\u001b[0m \u001b[1;36m0\u001b[0m\u001b[1;33m:\u001b[0m\u001b[1;33m\u001b[0m\u001b[1;33m\u001b[0m\u001b[0m\n",
      "\u001b[1;32m~\\anaconda3\\envs\\anaconda3-TF2.x-GPU\\lib\\site-packages\\sqlalchemy\\orm\\query.py\u001b[0m in \u001b[0;36m__getitem__\u001b[1;34m(self, item)\u001b[0m\n\u001b[0;32m   3202\u001b[0m             \u001b[1;32melse\u001b[0m\u001b[1;33m:\u001b[0m\u001b[1;33m\u001b[0m\u001b[1;33m\u001b[0m\u001b[0m\n\u001b[1;32m-> 3203\u001b[1;33m                 \u001b[1;32mreturn\u001b[0m \u001b[0mlist\u001b[0m\u001b[1;33m(\u001b[0m\u001b[0mres\u001b[0m\u001b[1;33m)\u001b[0m\u001b[1;33m\u001b[0m\u001b[1;33m\u001b[0m\u001b[0m\n\u001b[0m\u001b[0;32m   3204\u001b[0m         \u001b[1;32melse\u001b[0m\u001b[1;33m:\u001b[0m\u001b[1;33m\u001b[0m\u001b[1;33m\u001b[0m\u001b[0m\n",
      "\u001b[1;32m~\\anaconda3\\envs\\anaconda3-TF2.x-GPU\\lib\\site-packages\\sqlalchemy\\orm\\query.py\u001b[0m in \u001b[0;36m__iter__\u001b[1;34m(self)\u001b[0m\n\u001b[0;32m   3533\u001b[0m         \u001b[1;32mif\u001b[0m \u001b[0mself\u001b[0m\u001b[1;33m.\u001b[0m\u001b[0m_autoflush\u001b[0m \u001b[1;32mand\u001b[0m \u001b[1;32mnot\u001b[0m \u001b[0mself\u001b[0m\u001b[1;33m.\u001b[0m\u001b[0m_populate_existing\u001b[0m\u001b[1;33m:\u001b[0m\u001b[1;33m\u001b[0m\u001b[1;33m\u001b[0m\u001b[0m\n\u001b[1;32m-> 3534\u001b[1;33m             \u001b[0mself\u001b[0m\u001b[1;33m.\u001b[0m\u001b[0msession\u001b[0m\u001b[1;33m.\u001b[0m\u001b[0m_autoflush\u001b[0m\u001b[1;33m(\u001b[0m\u001b[1;33m)\u001b[0m\u001b[1;33m\u001b[0m\u001b[1;33m\u001b[0m\u001b[0m\n\u001b[0m\u001b[0;32m   3535\u001b[0m         \u001b[1;32mreturn\u001b[0m \u001b[0mself\u001b[0m\u001b[1;33m.\u001b[0m\u001b[0m_execute_and_instances\u001b[0m\u001b[1;33m(\u001b[0m\u001b[0mcontext\u001b[0m\u001b[1;33m)\u001b[0m\u001b[1;33m\u001b[0m\u001b[1;33m\u001b[0m\u001b[0m\n",
      "\u001b[1;32m~\\anaconda3\\envs\\anaconda3-TF2.x-GPU\\lib\\site-packages\\sqlalchemy\\orm\\session.py\u001b[0m in \u001b[0;36m_autoflush\u001b[1;34m(self)\u001b[0m\n\u001b[0;32m   1632\u001b[0m                 )\n\u001b[1;32m-> 1633\u001b[1;33m                 \u001b[0mutil\u001b[0m\u001b[1;33m.\u001b[0m\u001b[0mraise_\u001b[0m\u001b[1;33m(\u001b[0m\u001b[0me\u001b[0m\u001b[1;33m,\u001b[0m \u001b[0mwith_traceback\u001b[0m\u001b[1;33m=\u001b[0m\u001b[0msys\u001b[0m\u001b[1;33m.\u001b[0m\u001b[0mexc_info\u001b[0m\u001b[1;33m(\u001b[0m\u001b[1;33m)\u001b[0m\u001b[1;33m[\u001b[0m\u001b[1;36m2\u001b[0m\u001b[1;33m]\u001b[0m\u001b[1;33m)\u001b[0m\u001b[1;33m\u001b[0m\u001b[1;33m\u001b[0m\u001b[0m\n\u001b[0m\u001b[0;32m   1634\u001b[0m \u001b[1;33m\u001b[0m\u001b[0m\n",
      "\u001b[1;32m~\\anaconda3\\envs\\anaconda3-TF2.x-GPU\\lib\\site-packages\\sqlalchemy\\util\\compat.py\u001b[0m in \u001b[0;36mraise_\u001b[1;34m(***failed resolving arguments***)\u001b[0m\n\u001b[0;32m    181\u001b[0m         \u001b[1;32mtry\u001b[0m\u001b[1;33m:\u001b[0m\u001b[1;33m\u001b[0m\u001b[1;33m\u001b[0m\u001b[0m\n\u001b[1;32m--> 182\u001b[1;33m             \u001b[1;32mraise\u001b[0m \u001b[0mexception\u001b[0m\u001b[1;33m\u001b[0m\u001b[1;33m\u001b[0m\u001b[0m\n\u001b[0m\u001b[0;32m    183\u001b[0m         \u001b[1;32mfinally\u001b[0m\u001b[1;33m:\u001b[0m\u001b[1;33m\u001b[0m\u001b[1;33m\u001b[0m\u001b[0m\n",
      "\u001b[1;32m~\\anaconda3\\envs\\anaconda3-TF2.x-GPU\\lib\\site-packages\\sqlalchemy\\orm\\session.py\u001b[0m in \u001b[0;36m_autoflush\u001b[1;34m(self)\u001b[0m\n\u001b[0;32m   1621\u001b[0m             \u001b[1;32mtry\u001b[0m\u001b[1;33m:\u001b[0m\u001b[1;33m\u001b[0m\u001b[1;33m\u001b[0m\u001b[0m\n\u001b[1;32m-> 1622\u001b[1;33m                 \u001b[0mself\u001b[0m\u001b[1;33m.\u001b[0m\u001b[0mflush\u001b[0m\u001b[1;33m(\u001b[0m\u001b[1;33m)\u001b[0m\u001b[1;33m\u001b[0m\u001b[1;33m\u001b[0m\u001b[0m\n\u001b[0m\u001b[0;32m   1623\u001b[0m             \u001b[1;32mexcept\u001b[0m \u001b[0msa_exc\u001b[0m\u001b[1;33m.\u001b[0m\u001b[0mStatementError\u001b[0m \u001b[1;32mas\u001b[0m \u001b[0me\u001b[0m\u001b[1;33m:\u001b[0m\u001b[1;33m\u001b[0m\u001b[1;33m\u001b[0m\u001b[0m\n",
      "\u001b[1;32m~\\anaconda3\\envs\\anaconda3-TF2.x-GPU\\lib\\site-packages\\sqlalchemy\\orm\\session.py\u001b[0m in \u001b[0;36mflush\u001b[1;34m(self, objects)\u001b[0m\n\u001b[0;32m   2539\u001b[0m             \u001b[0mself\u001b[0m\u001b[1;33m.\u001b[0m\u001b[0m_flushing\u001b[0m \u001b[1;33m=\u001b[0m \u001b[1;32mTrue\u001b[0m\u001b[1;33m\u001b[0m\u001b[1;33m\u001b[0m\u001b[0m\n\u001b[1;32m-> 2540\u001b[1;33m             \u001b[0mself\u001b[0m\u001b[1;33m.\u001b[0m\u001b[0m_flush\u001b[0m\u001b[1;33m(\u001b[0m\u001b[0mobjects\u001b[0m\u001b[1;33m)\u001b[0m\u001b[1;33m\u001b[0m\u001b[1;33m\u001b[0m\u001b[0m\n\u001b[0m\u001b[0;32m   2541\u001b[0m         \u001b[1;32mfinally\u001b[0m\u001b[1;33m:\u001b[0m\u001b[1;33m\u001b[0m\u001b[1;33m\u001b[0m\u001b[0m\n",
      "\u001b[1;32m~\\anaconda3\\envs\\anaconda3-TF2.x-GPU\\lib\\site-packages\\sqlalchemy\\orm\\session.py\u001b[0m in \u001b[0;36m_flush\u001b[1;34m(self, objects)\u001b[0m\n\u001b[0;32m   2681\u001b[0m             \u001b[1;32mwith\u001b[0m \u001b[0mutil\u001b[0m\u001b[1;33m.\u001b[0m\u001b[0msafe_reraise\u001b[0m\u001b[1;33m(\u001b[0m\u001b[1;33m)\u001b[0m\u001b[1;33m:\u001b[0m\u001b[1;33m\u001b[0m\u001b[1;33m\u001b[0m\u001b[0m\n\u001b[1;32m-> 2682\u001b[1;33m                 \u001b[0mtransaction\u001b[0m\u001b[1;33m.\u001b[0m\u001b[0mrollback\u001b[0m\u001b[1;33m(\u001b[0m\u001b[0m_capture_exception\u001b[0m\u001b[1;33m=\u001b[0m\u001b[1;32mTrue\u001b[0m\u001b[1;33m)\u001b[0m\u001b[1;33m\u001b[0m\u001b[1;33m\u001b[0m\u001b[0m\n\u001b[0m\u001b[0;32m   2683\u001b[0m \u001b[1;33m\u001b[0m\u001b[0m\n",
      "\u001b[1;32m~\\anaconda3\\envs\\anaconda3-TF2.x-GPU\\lib\\site-packages\\sqlalchemy\\util\\langhelpers.py\u001b[0m in \u001b[0;36m__exit__\u001b[1;34m(self, type_, value, traceback)\u001b[0m\n\u001b[0;32m     67\u001b[0m             \u001b[1;32mif\u001b[0m \u001b[1;32mnot\u001b[0m \u001b[0mself\u001b[0m\u001b[1;33m.\u001b[0m\u001b[0mwarn_only\u001b[0m\u001b[1;33m:\u001b[0m\u001b[1;33m\u001b[0m\u001b[1;33m\u001b[0m\u001b[0m\n\u001b[1;32m---> 68\u001b[1;33m                 compat.raise_(\n\u001b[0m\u001b[0;32m     69\u001b[0m                     \u001b[0mexc_value\u001b[0m\u001b[1;33m,\u001b[0m\u001b[1;33m\u001b[0m\u001b[1;33m\u001b[0m\u001b[0m\n",
      "\u001b[1;32m~\\anaconda3\\envs\\anaconda3-TF2.x-GPU\\lib\\site-packages\\sqlalchemy\\util\\compat.py\u001b[0m in \u001b[0;36mraise_\u001b[1;34m(***failed resolving arguments***)\u001b[0m\n\u001b[0;32m    181\u001b[0m         \u001b[1;32mtry\u001b[0m\u001b[1;33m:\u001b[0m\u001b[1;33m\u001b[0m\u001b[1;33m\u001b[0m\u001b[0m\n\u001b[1;32m--> 182\u001b[1;33m             \u001b[1;32mraise\u001b[0m \u001b[0mexception\u001b[0m\u001b[1;33m\u001b[0m\u001b[1;33m\u001b[0m\u001b[0m\n\u001b[0m\u001b[0;32m    183\u001b[0m         \u001b[1;32mfinally\u001b[0m\u001b[1;33m:\u001b[0m\u001b[1;33m\u001b[0m\u001b[1;33m\u001b[0m\u001b[0m\n",
      "\u001b[1;32m~\\anaconda3\\envs\\anaconda3-TF2.x-GPU\\lib\\site-packages\\sqlalchemy\\orm\\session.py\u001b[0m in \u001b[0;36m_flush\u001b[1;34m(self, objects)\u001b[0m\n\u001b[0;32m   2641\u001b[0m             \u001b[1;32mtry\u001b[0m\u001b[1;33m:\u001b[0m\u001b[1;33m\u001b[0m\u001b[1;33m\u001b[0m\u001b[0m\n\u001b[1;32m-> 2642\u001b[1;33m                 \u001b[0mflush_context\u001b[0m\u001b[1;33m.\u001b[0m\u001b[0mexecute\u001b[0m\u001b[1;33m(\u001b[0m\u001b[1;33m)\u001b[0m\u001b[1;33m\u001b[0m\u001b[1;33m\u001b[0m\u001b[0m\n\u001b[0m\u001b[0;32m   2643\u001b[0m             \u001b[1;32mfinally\u001b[0m\u001b[1;33m:\u001b[0m\u001b[1;33m\u001b[0m\u001b[1;33m\u001b[0m\u001b[0m\n",
      "\u001b[1;32m~\\anaconda3\\envs\\anaconda3-TF2.x-GPU\\lib\\site-packages\\sqlalchemy\\orm\\unitofwork.py\u001b[0m in \u001b[0;36mexecute\u001b[1;34m(self)\u001b[0m\n\u001b[0;32m    421\u001b[0m             \u001b[1;32mfor\u001b[0m \u001b[0mrec\u001b[0m \u001b[1;32min\u001b[0m \u001b[0mtopological\u001b[0m\u001b[1;33m.\u001b[0m\u001b[0msort\u001b[0m\u001b[1;33m(\u001b[0m\u001b[0mself\u001b[0m\u001b[1;33m.\u001b[0m\u001b[0mdependencies\u001b[0m\u001b[1;33m,\u001b[0m \u001b[0mpostsort_actions\u001b[0m\u001b[1;33m)\u001b[0m\u001b[1;33m:\u001b[0m\u001b[1;33m\u001b[0m\u001b[1;33m\u001b[0m\u001b[0m\n\u001b[1;32m--> 422\u001b[1;33m                 \u001b[0mrec\u001b[0m\u001b[1;33m.\u001b[0m\u001b[0mexecute\u001b[0m\u001b[1;33m(\u001b[0m\u001b[0mself\u001b[0m\u001b[1;33m)\u001b[0m\u001b[1;33m\u001b[0m\u001b[1;33m\u001b[0m\u001b[0m\n\u001b[0m\u001b[0;32m    423\u001b[0m \u001b[1;33m\u001b[0m\u001b[0m\n",
      "\u001b[1;32m~\\anaconda3\\envs\\anaconda3-TF2.x-GPU\\lib\\site-packages\\sqlalchemy\\orm\\unitofwork.py\u001b[0m in \u001b[0;36mexecute\u001b[1;34m(self, uow)\u001b[0m\n\u001b[0;32m    585\u001b[0m     \u001b[1;32mdef\u001b[0m \u001b[0mexecute\u001b[0m\u001b[1;33m(\u001b[0m\u001b[0mself\u001b[0m\u001b[1;33m,\u001b[0m \u001b[0muow\u001b[0m\u001b[1;33m)\u001b[0m\u001b[1;33m:\u001b[0m\u001b[1;33m\u001b[0m\u001b[1;33m\u001b[0m\u001b[0m\n\u001b[1;32m--> 586\u001b[1;33m         persistence.save_obj(\n\u001b[0m\u001b[0;32m    587\u001b[0m             \u001b[0mself\u001b[0m\u001b[1;33m.\u001b[0m\u001b[0mmapper\u001b[0m\u001b[1;33m,\u001b[0m\u001b[1;33m\u001b[0m\u001b[1;33m\u001b[0m\u001b[0m\n",
      "\u001b[1;32m~\\anaconda3\\envs\\anaconda3-TF2.x-GPU\\lib\\site-packages\\sqlalchemy\\orm\\persistence.py\u001b[0m in \u001b[0;36msave_obj\u001b[1;34m(base_mapper, states, uowtransaction, single)\u001b[0m\n\u001b[0;32m    238\u001b[0m \u001b[1;33m\u001b[0m\u001b[0m\n\u001b[1;32m--> 239\u001b[1;33m         _emit_insert_statements(\n\u001b[0m\u001b[0;32m    240\u001b[0m             \u001b[0mbase_mapper\u001b[0m\u001b[1;33m,\u001b[0m\u001b[1;33m\u001b[0m\u001b[1;33m\u001b[0m\u001b[0m\n",
      "\u001b[1;32m~\\anaconda3\\envs\\anaconda3-TF2.x-GPU\\lib\\site-packages\\sqlalchemy\\orm\\persistence.py\u001b[0m in \u001b[0;36m_emit_insert_statements\u001b[1;34m(base_mapper, uowtransaction, cached_connections, mapper, table, insert, bookkeeping)\u001b[0m\n\u001b[0;32m   1134\u001b[0m                 \u001b[1;32melse\u001b[0m\u001b[1;33m:\u001b[0m\u001b[1;33m\u001b[0m\u001b[1;33m\u001b[0m\u001b[0m\n\u001b[1;32m-> 1135\u001b[1;33m                     result = cached_connections[connection].execute(\n\u001b[0m\u001b[0;32m   1136\u001b[0m                         \u001b[0mstatement\u001b[0m\u001b[1;33m,\u001b[0m \u001b[0mparams\u001b[0m\u001b[1;33m\u001b[0m\u001b[1;33m\u001b[0m\u001b[0m\n",
      "\u001b[1;32m~\\anaconda3\\envs\\anaconda3-TF2.x-GPU\\lib\\site-packages\\sqlalchemy\\engine\\base.py\u001b[0m in \u001b[0;36mexecute\u001b[1;34m(self, object_, *multiparams, **params)\u001b[0m\n\u001b[0;32m   1010\u001b[0m         \u001b[1;32melse\u001b[0m\u001b[1;33m:\u001b[0m\u001b[1;33m\u001b[0m\u001b[1;33m\u001b[0m\u001b[0m\n\u001b[1;32m-> 1011\u001b[1;33m             \u001b[1;32mreturn\u001b[0m \u001b[0mmeth\u001b[0m\u001b[1;33m(\u001b[0m\u001b[0mself\u001b[0m\u001b[1;33m,\u001b[0m \u001b[0mmultiparams\u001b[0m\u001b[1;33m,\u001b[0m \u001b[0mparams\u001b[0m\u001b[1;33m)\u001b[0m\u001b[1;33m\u001b[0m\u001b[1;33m\u001b[0m\u001b[0m\n\u001b[0m\u001b[0;32m   1012\u001b[0m \u001b[1;33m\u001b[0m\u001b[0m\n",
      "\u001b[1;32m~\\anaconda3\\envs\\anaconda3-TF2.x-GPU\\lib\\site-packages\\sqlalchemy\\sql\\elements.py\u001b[0m in \u001b[0;36m_execute_on_connection\u001b[1;34m(self, connection, multiparams, params)\u001b[0m\n\u001b[0;32m    297\u001b[0m         \u001b[1;32mif\u001b[0m \u001b[0mself\u001b[0m\u001b[1;33m.\u001b[0m\u001b[0msupports_execution\u001b[0m\u001b[1;33m:\u001b[0m\u001b[1;33m\u001b[0m\u001b[1;33m\u001b[0m\u001b[0m\n\u001b[1;32m--> 298\u001b[1;33m             \u001b[1;32mreturn\u001b[0m \u001b[0mconnection\u001b[0m\u001b[1;33m.\u001b[0m\u001b[0m_execute_clauseelement\u001b[0m\u001b[1;33m(\u001b[0m\u001b[0mself\u001b[0m\u001b[1;33m,\u001b[0m \u001b[0mmultiparams\u001b[0m\u001b[1;33m,\u001b[0m \u001b[0mparams\u001b[0m\u001b[1;33m)\u001b[0m\u001b[1;33m\u001b[0m\u001b[1;33m\u001b[0m\u001b[0m\n\u001b[0m\u001b[0;32m    299\u001b[0m         \u001b[1;32melse\u001b[0m\u001b[1;33m:\u001b[0m\u001b[1;33m\u001b[0m\u001b[1;33m\u001b[0m\u001b[0m\n",
      "\u001b[1;32m~\\anaconda3\\envs\\anaconda3-TF2.x-GPU\\lib\\site-packages\\sqlalchemy\\engine\\base.py\u001b[0m in \u001b[0;36m_execute_clauseelement\u001b[1;34m(self, elem, multiparams, params)\u001b[0m\n\u001b[0;32m   1123\u001b[0m \u001b[1;33m\u001b[0m\u001b[0m\n\u001b[1;32m-> 1124\u001b[1;33m         ret = self._execute_context(\n\u001b[0m\u001b[0;32m   1125\u001b[0m             \u001b[0mdialect\u001b[0m\u001b[1;33m,\u001b[0m\u001b[1;33m\u001b[0m\u001b[1;33m\u001b[0m\u001b[0m\n",
      "\u001b[1;32m~\\anaconda3\\envs\\anaconda3-TF2.x-GPU\\lib\\site-packages\\sqlalchemy\\engine\\base.py\u001b[0m in \u001b[0;36m_execute_context\u001b[1;34m(self, dialect, constructor, statement, parameters, *args)\u001b[0m\n\u001b[0;32m   1315\u001b[0m         \u001b[1;32mexcept\u001b[0m \u001b[0mBaseException\u001b[0m \u001b[1;32mas\u001b[0m \u001b[0me\u001b[0m\u001b[1;33m:\u001b[0m\u001b[1;33m\u001b[0m\u001b[1;33m\u001b[0m\u001b[0m\n\u001b[1;32m-> 1316\u001b[1;33m             self._handle_dbapi_exception(\n\u001b[0m\u001b[0;32m   1317\u001b[0m                 \u001b[0me\u001b[0m\u001b[1;33m,\u001b[0m \u001b[0mstatement\u001b[0m\u001b[1;33m,\u001b[0m \u001b[0mparameters\u001b[0m\u001b[1;33m,\u001b[0m \u001b[0mcursor\u001b[0m\u001b[1;33m,\u001b[0m \u001b[0mcontext\u001b[0m\u001b[1;33m\u001b[0m\u001b[1;33m\u001b[0m\u001b[0m\n",
      "\u001b[1;32m~\\anaconda3\\envs\\anaconda3-TF2.x-GPU\\lib\\site-packages\\sqlalchemy\\engine\\base.py\u001b[0m in \u001b[0;36m_handle_dbapi_exception\u001b[1;34m(self, e, statement, parameters, cursor, context)\u001b[0m\n\u001b[0;32m   1509\u001b[0m             \u001b[1;32melif\u001b[0m \u001b[0mshould_wrap\u001b[0m\u001b[1;33m:\u001b[0m\u001b[1;33m\u001b[0m\u001b[1;33m\u001b[0m\u001b[0m\n\u001b[1;32m-> 1510\u001b[1;33m                 util.raise_(\n\u001b[0m\u001b[0;32m   1511\u001b[0m                     \u001b[0msqlalchemy_exception\u001b[0m\u001b[1;33m,\u001b[0m \u001b[0mwith_traceback\u001b[0m\u001b[1;33m=\u001b[0m\u001b[0mexc_info\u001b[0m\u001b[1;33m[\u001b[0m\u001b[1;36m2\u001b[0m\u001b[1;33m]\u001b[0m\u001b[1;33m,\u001b[0m \u001b[0mfrom_\u001b[0m\u001b[1;33m=\u001b[0m\u001b[0me\u001b[0m\u001b[1;33m\u001b[0m\u001b[1;33m\u001b[0m\u001b[0m\n",
      "\u001b[1;32m~\\anaconda3\\envs\\anaconda3-TF2.x-GPU\\lib\\site-packages\\sqlalchemy\\util\\compat.py\u001b[0m in \u001b[0;36mraise_\u001b[1;34m(***failed resolving arguments***)\u001b[0m\n\u001b[0;32m    181\u001b[0m         \u001b[1;32mtry\u001b[0m\u001b[1;33m:\u001b[0m\u001b[1;33m\u001b[0m\u001b[1;33m\u001b[0m\u001b[0m\n\u001b[1;32m--> 182\u001b[1;33m             \u001b[1;32mraise\u001b[0m \u001b[0mexception\u001b[0m\u001b[1;33m\u001b[0m\u001b[1;33m\u001b[0m\u001b[0m\n\u001b[0m\u001b[0;32m    183\u001b[0m         \u001b[1;32mfinally\u001b[0m\u001b[1;33m:\u001b[0m\u001b[1;33m\u001b[0m\u001b[1;33m\u001b[0m\u001b[0m\n",
      "\u001b[1;32m~\\anaconda3\\envs\\anaconda3-TF2.x-GPU\\lib\\site-packages\\sqlalchemy\\engine\\base.py\u001b[0m in \u001b[0;36m_execute_context\u001b[1;34m(self, dialect, constructor, statement, parameters, *args)\u001b[0m\n\u001b[0;32m   1275\u001b[0m                 \u001b[1;32mif\u001b[0m \u001b[1;32mnot\u001b[0m \u001b[0mevt_handled\u001b[0m\u001b[1;33m:\u001b[0m\u001b[1;33m\u001b[0m\u001b[1;33m\u001b[0m\u001b[0m\n\u001b[1;32m-> 1276\u001b[1;33m                     self.dialect.do_execute(\n\u001b[0m\u001b[0;32m   1277\u001b[0m                         \u001b[0mcursor\u001b[0m\u001b[1;33m,\u001b[0m \u001b[0mstatement\u001b[0m\u001b[1;33m,\u001b[0m \u001b[0mparameters\u001b[0m\u001b[1;33m,\u001b[0m \u001b[0mcontext\u001b[0m\u001b[1;33m\u001b[0m\u001b[1;33m\u001b[0m\u001b[0m\n",
      "\u001b[1;32m~\\anaconda3\\envs\\anaconda3-TF2.x-GPU\\lib\\site-packages\\sqlalchemy\\engine\\default.py\u001b[0m in \u001b[0;36mdo_execute\u001b[1;34m(self, cursor, statement, parameters, context)\u001b[0m\n\u001b[0;32m    607\u001b[0m     \u001b[1;32mdef\u001b[0m \u001b[0mdo_execute\u001b[0m\u001b[1;33m(\u001b[0m\u001b[0mself\u001b[0m\u001b[1;33m,\u001b[0m \u001b[0mcursor\u001b[0m\u001b[1;33m,\u001b[0m \u001b[0mstatement\u001b[0m\u001b[1;33m,\u001b[0m \u001b[0mparameters\u001b[0m\u001b[1;33m,\u001b[0m \u001b[0mcontext\u001b[0m\u001b[1;33m=\u001b[0m\u001b[1;32mNone\u001b[0m\u001b[1;33m)\u001b[0m\u001b[1;33m:\u001b[0m\u001b[1;33m\u001b[0m\u001b[1;33m\u001b[0m\u001b[0m\n\u001b[1;32m--> 608\u001b[1;33m         \u001b[0mcursor\u001b[0m\u001b[1;33m.\u001b[0m\u001b[0mexecute\u001b[0m\u001b[1;33m(\u001b[0m\u001b[0mstatement\u001b[0m\u001b[1;33m,\u001b[0m \u001b[0mparameters\u001b[0m\u001b[1;33m)\u001b[0m\u001b[1;33m\u001b[0m\u001b[1;33m\u001b[0m\u001b[0m\n\u001b[0m\u001b[0;32m    609\u001b[0m \u001b[1;33m\u001b[0m\u001b[0m\n",
      "\u001b[1;31mIntegrityError\u001b[0m: (raised as a result of Query-invoked autoflush; consider using a session.no_autoflush block if this flush is occurring prematurely)\n(sqlite3.IntegrityError) UNIQUE constraint failed: experiments.name\n[SQL: INSERT INTO experiments (name, artifact_location, lifecycle_stage) VALUES (?, ?, ?)]\n[parameters: ('abalone-age-prediction', None, 'active')]\n(Background on this error at: http://sqlalche.me/e/13/gkpj)",
      "\nDuring handling of the above exception, another exception occurred:\n",
      "\u001b[1;31mMlflowException\u001b[0m                           Traceback (most recent call last)",
      "\u001b[1;32m<ipython-input-5-263b28d0f49e>\u001b[0m in \u001b[0;36m<module>\u001b[1;34m\u001b[0m\n\u001b[0;32m      1\u001b[0m \u001b[1;31m# mlflow.*create*?\u001b[0m\u001b[1;33m\u001b[0m\u001b[1;33m\u001b[0m\u001b[1;33m\u001b[0m\u001b[0m\n\u001b[1;32m----> 2\u001b[1;33m \u001b[0mmlflow\u001b[0m\u001b[1;33m.\u001b[0m\u001b[0mcreate_experiment\u001b[0m\u001b[1;33m(\u001b[0m\u001b[1;34m\"abalone-age-prediction\"\u001b[0m\u001b[1;33m)\u001b[0m\u001b[1;33m\u001b[0m\u001b[1;33m\u001b[0m\u001b[0m\n\u001b[0m",
      "\u001b[1;32m~\\anaconda3\\envs\\anaconda3-TF2.x-GPU\\lib\\site-packages\\mlflow\\tracking\\fluent.py\u001b[0m in \u001b[0;36mcreate_experiment\u001b[1;34m(name, artifact_location, tags)\u001b[0m\n\u001b[0;32m    934\u001b[0m         \u001b[0mLifecycle_stage\u001b[0m\u001b[1;33m:\u001b[0m \u001b[0mactive\u001b[0m\u001b[1;33m\u001b[0m\u001b[1;33m\u001b[0m\u001b[0m\n\u001b[0;32m    935\u001b[0m     \"\"\"\n\u001b[1;32m--> 936\u001b[1;33m     \u001b[1;32mreturn\u001b[0m \u001b[0mMlflowClient\u001b[0m\u001b[1;33m(\u001b[0m\u001b[1;33m)\u001b[0m\u001b[1;33m.\u001b[0m\u001b[0mcreate_experiment\u001b[0m\u001b[1;33m(\u001b[0m\u001b[0mname\u001b[0m\u001b[1;33m,\u001b[0m \u001b[0martifact_location\u001b[0m\u001b[1;33m,\u001b[0m \u001b[0mtags\u001b[0m\u001b[1;33m)\u001b[0m\u001b[1;33m\u001b[0m\u001b[1;33m\u001b[0m\u001b[0m\n\u001b[0m\u001b[0;32m    937\u001b[0m \u001b[1;33m\u001b[0m\u001b[0m\n\u001b[0;32m    938\u001b[0m \u001b[1;33m\u001b[0m\u001b[0m\n",
      "\u001b[1;32m~\\anaconda3\\envs\\anaconda3-TF2.x-GPU\\lib\\site-packages\\mlflow\\tracking\\client.py\u001b[0m in \u001b[0;36mcreate_experiment\u001b[1;34m(self, name, artifact_location, tags)\u001b[0m\n\u001b[0;32m    505\u001b[0m             \u001b[0mLifecycle_stage\u001b[0m\u001b[1;33m:\u001b[0m \u001b[0mactive\u001b[0m\u001b[1;33m\u001b[0m\u001b[1;33m\u001b[0m\u001b[0m\n\u001b[0;32m    506\u001b[0m         \"\"\"\n\u001b[1;32m--> 507\u001b[1;33m         \u001b[1;32mreturn\u001b[0m \u001b[0mself\u001b[0m\u001b[1;33m.\u001b[0m\u001b[0m_tracking_client\u001b[0m\u001b[1;33m.\u001b[0m\u001b[0mcreate_experiment\u001b[0m\u001b[1;33m(\u001b[0m\u001b[0mname\u001b[0m\u001b[1;33m,\u001b[0m \u001b[0martifact_location\u001b[0m\u001b[1;33m,\u001b[0m \u001b[0mtags\u001b[0m\u001b[1;33m)\u001b[0m\u001b[1;33m\u001b[0m\u001b[1;33m\u001b[0m\u001b[0m\n\u001b[0m\u001b[0;32m    508\u001b[0m \u001b[1;33m\u001b[0m\u001b[0m\n\u001b[0;32m    509\u001b[0m     \u001b[1;32mdef\u001b[0m \u001b[0mdelete_experiment\u001b[0m\u001b[1;33m(\u001b[0m\u001b[0mself\u001b[0m\u001b[1;33m,\u001b[0m \u001b[0mexperiment_id\u001b[0m\u001b[1;33m:\u001b[0m \u001b[0mstr\u001b[0m\u001b[1;33m)\u001b[0m \u001b[1;33m->\u001b[0m \u001b[1;32mNone\u001b[0m\u001b[1;33m:\u001b[0m\u001b[1;33m\u001b[0m\u001b[1;33m\u001b[0m\u001b[0m\n",
      "\u001b[1;32m~\\anaconda3\\envs\\anaconda3-TF2.x-GPU\\lib\\site-packages\\mlflow\\tracking\\_tracking_service\\client.py\u001b[0m in \u001b[0;36mcreate_experiment\u001b[1;34m(self, name, artifact_location, tags)\u001b[0m\n\u001b[0;32m    180\u001b[0m         \u001b[0m_validate_experiment_artifact_location\u001b[0m\u001b[1;33m(\u001b[0m\u001b[0martifact_location\u001b[0m\u001b[1;33m)\u001b[0m\u001b[1;33m\u001b[0m\u001b[1;33m\u001b[0m\u001b[0m\n\u001b[0;32m    181\u001b[0m \u001b[1;33m\u001b[0m\u001b[0m\n\u001b[1;32m--> 182\u001b[1;33m         return self.store.create_experiment(\n\u001b[0m\u001b[0;32m    183\u001b[0m             \u001b[0mname\u001b[0m\u001b[1;33m=\u001b[0m\u001b[0mname\u001b[0m\u001b[1;33m,\u001b[0m\u001b[1;33m\u001b[0m\u001b[1;33m\u001b[0m\u001b[0m\n\u001b[0;32m    184\u001b[0m             \u001b[0martifact_location\u001b[0m\u001b[1;33m=\u001b[0m\u001b[0martifact_location\u001b[0m\u001b[1;33m,\u001b[0m\u001b[1;33m\u001b[0m\u001b[1;33m\u001b[0m\u001b[0m\n",
      "\u001b[1;32m~\\anaconda3\\envs\\anaconda3-TF2.x-GPU\\lib\\site-packages\\mlflow\\store\\tracking\\sqlalchemy_store.py\u001b[0m in \u001b[0;36mcreate_experiment\u001b[1;34m(self, name, artifact_location, tags)\u001b[0m\n\u001b[0;32m    245\u001b[0m                     \u001b[0mexperiment\u001b[0m\u001b[1;33m.\u001b[0m\u001b[0martifact_location\u001b[0m \u001b[1;33m=\u001b[0m \u001b[0mself\u001b[0m\u001b[1;33m.\u001b[0m\u001b[0m_get_artifact_location\u001b[0m\u001b[1;33m(\u001b[0m\u001b[0meid\u001b[0m\u001b[1;33m)\u001b[0m\u001b[1;33m\u001b[0m\u001b[1;33m\u001b[0m\u001b[0m\n\u001b[0;32m    246\u001b[0m             \u001b[1;32mexcept\u001b[0m \u001b[0msqlalchemy\u001b[0m\u001b[1;33m.\u001b[0m\u001b[0mexc\u001b[0m\u001b[1;33m.\u001b[0m\u001b[0mIntegrityError\u001b[0m \u001b[1;32mas\u001b[0m \u001b[0me\u001b[0m\u001b[1;33m:\u001b[0m\u001b[1;33m\u001b[0m\u001b[1;33m\u001b[0m\u001b[0m\n\u001b[1;32m--> 247\u001b[1;33m                 raise MlflowException(\n\u001b[0m\u001b[0;32m    248\u001b[0m                     \u001b[1;34m\"Experiment(name={}) already exists. \"\u001b[0m \u001b[1;34m\"Error: {}\"\u001b[0m\u001b[1;33m.\u001b[0m\u001b[0mformat\u001b[0m\u001b[1;33m(\u001b[0m\u001b[0mname\u001b[0m\u001b[1;33m,\u001b[0m \u001b[0mstr\u001b[0m\u001b[1;33m(\u001b[0m\u001b[0me\u001b[0m\u001b[1;33m)\u001b[0m\u001b[1;33m)\u001b[0m\u001b[1;33m,\u001b[0m\u001b[1;33m\u001b[0m\u001b[1;33m\u001b[0m\u001b[0m\n\u001b[0;32m    249\u001b[0m                     \u001b[0mRESOURCE_ALREADY_EXISTS\u001b[0m\u001b[1;33m,\u001b[0m\u001b[1;33m\u001b[0m\u001b[1;33m\u001b[0m\u001b[0m\n",
      "\u001b[1;31mMlflowException\u001b[0m: Experiment(name=abalone-age-prediction) already exists. Error: (raised as a result of Query-invoked autoflush; consider using a session.no_autoflush block if this flush is occurring prematurely)\n(sqlite3.IntegrityError) UNIQUE constraint failed: experiments.name\n[SQL: INSERT INTO experiments (name, artifact_location, lifecycle_stage) VALUES (?, ?, ?)]\n[parameters: ('abalone-age-prediction', None, 'active')]\n(Background on this error at: http://sqlalche.me/e/13/gkpj)"
     ]
    }
   ],
   "source": [
    "# mlflow.*create*?\n",
    "mlflow.create_experiment(\"abalone-age-prediction\")"
   ]
  },
  {
   "cell_type": "code",
   "execution_count": 6,
   "id": "754659de",
   "metadata": {
    "collapsed": true
   },
   "outputs": [
    {
     "ename": "MlflowException",
     "evalue": "No Experiment with id=1 exists",
     "output_type": "error",
     "traceback": [
      "\u001b[1;31m---------------------------------------------------------------------------\u001b[0m",
      "\u001b[1;31mMlflowException\u001b[0m                           Traceback (most recent call last)",
      "\u001b[1;32m<ipython-input-6-236ee1658727>\u001b[0m in \u001b[0;36m<module>\u001b[1;34m\u001b[0m\n\u001b[0;32m      1\u001b[0m \u001b[1;31m# mlflow.*delete*?\u001b[0m\u001b[1;33m\u001b[0m\u001b[1;33m\u001b[0m\u001b[1;33m\u001b[0m\u001b[0m\n\u001b[1;32m----> 2\u001b[1;33m \u001b[0mmlflow\u001b[0m\u001b[1;33m.\u001b[0m\u001b[0mdelete_experiment\u001b[0m\u001b[1;33m(\u001b[0m\u001b[0mexperiment_id\u001b[0m\u001b[1;33m=\u001b[0m\u001b[1;36m1\u001b[0m\u001b[1;33m)\u001b[0m\u001b[1;33m\u001b[0m\u001b[1;33m\u001b[0m\u001b[0m\n\u001b[0m",
      "\u001b[1;32m~\\anaconda3\\envs\\anaconda3-TF2.x-GPU\\lib\\site-packages\\mlflow\\tracking\\fluent.py\u001b[0m in \u001b[0;36mdelete_experiment\u001b[1;34m(experiment_id)\u001b[0m\n\u001b[0;32m    964\u001b[0m         \u001b[0mLifecycle_stage\u001b[0m\u001b[1;33m:\u001b[0m \u001b[0mdeleted\u001b[0m\u001b[1;33m\u001b[0m\u001b[1;33m\u001b[0m\u001b[0m\n\u001b[0;32m    965\u001b[0m     \"\"\"\n\u001b[1;32m--> 966\u001b[1;33m     \u001b[0mMlflowClient\u001b[0m\u001b[1;33m(\u001b[0m\u001b[1;33m)\u001b[0m\u001b[1;33m.\u001b[0m\u001b[0mdelete_experiment\u001b[0m\u001b[1;33m(\u001b[0m\u001b[0mexperiment_id\u001b[0m\u001b[1;33m)\u001b[0m\u001b[1;33m\u001b[0m\u001b[1;33m\u001b[0m\u001b[0m\n\u001b[0m\u001b[0;32m    967\u001b[0m \u001b[1;33m\u001b[0m\u001b[0m\n\u001b[0;32m    968\u001b[0m \u001b[1;33m\u001b[0m\u001b[0m\n",
      "\u001b[1;32m~\\anaconda3\\envs\\anaconda3-TF2.x-GPU\\lib\\site-packages\\mlflow\\tracking\\client.py\u001b[0m in \u001b[0;36mdelete_experiment\u001b[1;34m(self, experiment_id)\u001b[0m\n\u001b[0;32m    536\u001b[0m             \u001b[0mLifecycle_stage\u001b[0m\u001b[1;33m:\u001b[0m \u001b[0mdeleted\u001b[0m\u001b[1;33m\u001b[0m\u001b[1;33m\u001b[0m\u001b[0m\n\u001b[0;32m    537\u001b[0m         \"\"\"\n\u001b[1;32m--> 538\u001b[1;33m         \u001b[0mself\u001b[0m\u001b[1;33m.\u001b[0m\u001b[0m_tracking_client\u001b[0m\u001b[1;33m.\u001b[0m\u001b[0mdelete_experiment\u001b[0m\u001b[1;33m(\u001b[0m\u001b[0mexperiment_id\u001b[0m\u001b[1;33m)\u001b[0m\u001b[1;33m\u001b[0m\u001b[1;33m\u001b[0m\u001b[0m\n\u001b[0m\u001b[0;32m    539\u001b[0m \u001b[1;33m\u001b[0m\u001b[0m\n\u001b[0;32m    540\u001b[0m     \u001b[1;32mdef\u001b[0m \u001b[0mrestore_experiment\u001b[0m\u001b[1;33m(\u001b[0m\u001b[0mself\u001b[0m\u001b[1;33m,\u001b[0m \u001b[0mexperiment_id\u001b[0m\u001b[1;33m:\u001b[0m \u001b[0mstr\u001b[0m\u001b[1;33m)\u001b[0m \u001b[1;33m->\u001b[0m \u001b[1;32mNone\u001b[0m\u001b[1;33m:\u001b[0m\u001b[1;33m\u001b[0m\u001b[1;33m\u001b[0m\u001b[0m\n",
      "\u001b[1;32m~\\anaconda3\\envs\\anaconda3-TF2.x-GPU\\lib\\site-packages\\mlflow\\tracking\\_tracking_service\\client.py\u001b[0m in \u001b[0;36mdelete_experiment\u001b[1;34m(self, experiment_id)\u001b[0m\n\u001b[0;32m    192\u001b[0m         \u001b[1;33m:\u001b[0m\u001b[0mparam\u001b[0m \u001b[0mexperiment_id\u001b[0m\u001b[1;33m:\u001b[0m \u001b[0mThe\u001b[0m \u001b[0mexperiment\u001b[0m \u001b[0mID\u001b[0m \u001b[0mreturned\u001b[0m \u001b[1;32mfrom\u001b[0m\u001b[0;31m \u001b[0m\u001b[0;31m`\u001b[0m\u001b[0;31m`\u001b[0m\u001b[0mcreate_experiment\u001b[0m\u001b[0;31m`\u001b[0m\u001b[0;31m`\u001b[0m\u001b[1;33m.\u001b[0m\u001b[1;33m\u001b[0m\u001b[1;33m\u001b[0m\u001b[0m\n\u001b[0;32m    193\u001b[0m         \"\"\"\n\u001b[1;32m--> 194\u001b[1;33m         \u001b[0mself\u001b[0m\u001b[1;33m.\u001b[0m\u001b[0mstore\u001b[0m\u001b[1;33m.\u001b[0m\u001b[0mdelete_experiment\u001b[0m\u001b[1;33m(\u001b[0m\u001b[0mexperiment_id\u001b[0m\u001b[1;33m)\u001b[0m\u001b[1;33m\u001b[0m\u001b[1;33m\u001b[0m\u001b[0m\n\u001b[0m\u001b[0;32m    195\u001b[0m \u001b[1;33m\u001b[0m\u001b[0m\n\u001b[0;32m    196\u001b[0m     \u001b[1;32mdef\u001b[0m \u001b[0mrestore_experiment\u001b[0m\u001b[1;33m(\u001b[0m\u001b[0mself\u001b[0m\u001b[1;33m,\u001b[0m \u001b[0mexperiment_id\u001b[0m\u001b[1;33m)\u001b[0m\u001b[1;33m:\u001b[0m\u001b[1;33m\u001b[0m\u001b[1;33m\u001b[0m\u001b[0m\n",
      "\u001b[1;32m~\\anaconda3\\envs\\anaconda3-TF2.x-GPU\\lib\\site-packages\\mlflow\\store\\tracking\\sqlalchemy_store.py\u001b[0m in \u001b[0;36mdelete_experiment\u001b[1;34m(self, experiment_id)\u001b[0m\n\u001b[0;32m    396\u001b[0m     \u001b[1;32mdef\u001b[0m \u001b[0mdelete_experiment\u001b[0m\u001b[1;33m(\u001b[0m\u001b[0mself\u001b[0m\u001b[1;33m,\u001b[0m \u001b[0mexperiment_id\u001b[0m\u001b[1;33m)\u001b[0m\u001b[1;33m:\u001b[0m\u001b[1;33m\u001b[0m\u001b[1;33m\u001b[0m\u001b[0m\n\u001b[0;32m    397\u001b[0m         \u001b[1;32mwith\u001b[0m \u001b[0mself\u001b[0m\u001b[1;33m.\u001b[0m\u001b[0mManagedSessionMaker\u001b[0m\u001b[1;33m(\u001b[0m\u001b[1;33m)\u001b[0m \u001b[1;32mas\u001b[0m \u001b[0msession\u001b[0m\u001b[1;33m:\u001b[0m\u001b[1;33m\u001b[0m\u001b[1;33m\u001b[0m\u001b[0m\n\u001b[1;32m--> 398\u001b[1;33m             \u001b[0mexperiment\u001b[0m \u001b[1;33m=\u001b[0m \u001b[0mself\u001b[0m\u001b[1;33m.\u001b[0m\u001b[0m_get_experiment\u001b[0m\u001b[1;33m(\u001b[0m\u001b[0msession\u001b[0m\u001b[1;33m,\u001b[0m \u001b[0mexperiment_id\u001b[0m\u001b[1;33m,\u001b[0m \u001b[0mViewType\u001b[0m\u001b[1;33m.\u001b[0m\u001b[0mACTIVE_ONLY\u001b[0m\u001b[1;33m)\u001b[0m\u001b[1;33m\u001b[0m\u001b[1;33m\u001b[0m\u001b[0m\n\u001b[0m\u001b[0;32m    399\u001b[0m             \u001b[0mexperiment\u001b[0m\u001b[1;33m.\u001b[0m\u001b[0mlifecycle_stage\u001b[0m \u001b[1;33m=\u001b[0m \u001b[0mLifecycleStage\u001b[0m\u001b[1;33m.\u001b[0m\u001b[0mDELETED\u001b[0m\u001b[1;33m\u001b[0m\u001b[1;33m\u001b[0m\u001b[0m\n\u001b[0;32m    400\u001b[0m             \u001b[0mself\u001b[0m\u001b[1;33m.\u001b[0m\u001b[0m_save_to_db\u001b[0m\u001b[1;33m(\u001b[0m\u001b[0mobjs\u001b[0m\u001b[1;33m=\u001b[0m\u001b[0mexperiment\u001b[0m\u001b[1;33m,\u001b[0m \u001b[0msession\u001b[0m\u001b[1;33m=\u001b[0m\u001b[0msession\u001b[0m\u001b[1;33m)\u001b[0m\u001b[1;33m\u001b[0m\u001b[1;33m\u001b[0m\u001b[0m\n",
      "\u001b[1;32m~\\anaconda3\\envs\\anaconda3-TF2.x-GPU\\lib\\site-packages\\mlflow\\store\\tracking\\sqlalchemy_store.py\u001b[0m in \u001b[0;36m_get_experiment\u001b[1;34m(self, session, experiment_id, view_type, eager)\u001b[0m\n\u001b[0;32m    352\u001b[0m \u001b[1;33m\u001b[0m\u001b[0m\n\u001b[0;32m    353\u001b[0m         \u001b[1;32mif\u001b[0m \u001b[0mexperiment\u001b[0m \u001b[1;32mis\u001b[0m \u001b[1;32mNone\u001b[0m\u001b[1;33m:\u001b[0m\u001b[1;33m\u001b[0m\u001b[1;33m\u001b[0m\u001b[0m\n\u001b[1;32m--> 354\u001b[1;33m             raise MlflowException(\n\u001b[0m\u001b[0;32m    355\u001b[0m                 \u001b[1;34m\"No Experiment with id={} exists\"\u001b[0m\u001b[1;33m.\u001b[0m\u001b[0mformat\u001b[0m\u001b[1;33m(\u001b[0m\u001b[0mexperiment_id\u001b[0m\u001b[1;33m)\u001b[0m\u001b[1;33m,\u001b[0m \u001b[0mRESOURCE_DOES_NOT_EXIST\u001b[0m\u001b[1;33m\u001b[0m\u001b[1;33m\u001b[0m\u001b[0m\n\u001b[0;32m    356\u001b[0m             )\n",
      "\u001b[1;31mMlflowException\u001b[0m: No Experiment with id=1 exists"
     ]
    }
   ],
   "source": [
    "# mlflow.*delete*?\n",
    "mlflow.delete_experiment(experiment_id=1)"
   ]
  },
  {
   "cell_type": "code",
   "execution_count": null,
   "id": "07ddf5b7",
   "metadata": {},
   "outputs": [],
   "source": []
  },
  {
   "cell_type": "code",
   "execution_count": 11,
   "id": "a8090523",
   "metadata": {},
   "outputs": [],
   "source": [
    "def full_prep_pipeline(num_attribs, cat_attribs, num_transformer, cat_transformer):\n",
    "    pipeline = ColumnTransformer([\n",
    "        (\"num\", num_transformer(), num_attribs),\n",
    "        (\"cat\", cat_transformer(), cat_attribs)\n",
    "    ])\n",
    "    return pipeline\n",
    "\n",
    "\n",
    "def load_data(path, columns, num_attribs, cat_attribs, num_transformer, cat_transformer):\n",
    "    data = pd.read_csv(path, names=columns)\n",
    "    X = data.drop(columns=\"Rings\")\n",
    "    y = data[\"Rings\"]\n",
    "    X_train, X_test, y_train, y_test = train_test_split(X, y, \\\n",
    "                                            train_size=0.8, random_state=42)\n",
    "    \n",
    "    pipeline = full_prep_pipeline(num_attribs, cat_attribs, num_transformer, cat_transformer)\n",
    "    X_train = pipeline.fit_transform(X_train)\n",
    "    X_test = pipeline.transform(X_test)\n",
    "    \n",
    "    \n",
    "    return X_train, X_test, y_train, y_test, pipeline\n",
    "\n",
    "\n",
    "# def train_model(X_train, X_test, y_train, y_test):\n",
    "def train_model(path, columns, num_attribs, cat_attribs, \\\n",
    "                parameters, num_transformer=MinMaxScaler, \\\n",
    "                cat_transformer=OneHotEncoder):\n",
    "            \n",
    "    X_train, X_test, y_train, y_test, pipeline = load_data(path, columns,  \\\n",
    "                                                           num_attribs, cat_attribs, \n",
    "                                                           num_transformer, cat_transformer)\n",
    "    \n",
    "    # save the data preprocessor pipeline object to external file.\n",
    "    joblib.dump(pipeline, \"models/preprocessor.pkl\")\n",
    "    \n",
    "    for param in parameters:\n",
    "        with mlflow.start_run(nested=True):\n",
    "            mlflow.set_tag(\"model\", str(param['estimator']))\n",
    "            mlflow.set_tag(\"hyperparameter search\", \"RandomizedSearchCV\")\n",
    "            # log the data preprocessor pipeline object as artifact.\n",
    "            mlflow.log_artifact(\"models/preprocessor.pkl\", artifact_path=\"preprocessor\")\n",
    "\n",
    "            random_search = RandomizedSearchCV(param[\"estimator\"], param[\"param_grid\"],\n",
    "                                scoring='neg_mean_squared_error',\n",
    "                                return_train_score=True\n",
    "                              )\n",
    "            random_search.fit(X_train, y_train)\n",
    "\n",
    "            # log best model to mlflow\n",
    "            best_model = random_search.best_estimator_\n",
    "            mlflow.sklearn.log_model(best_model, artifact_path=\"models_mlflow\")\n",
    "\n",
    "            # log evaluation metric and hyperparameters to mlflow\n",
    "            cvres = random_search.cv_results_\n",
    "            for mean_score, params in zip(cvres[\"mean_test_score\"], cvres[\"params\"]):\n",
    "                with mlflow.start_run(nested=True):\n",
    "                    mlflow.set_tag(\"model\", str(param['estimator']))\n",
    "                    mlflow.set_tag(\"Nested Run\", \"True\")\n",
    "                    mlflow.log_metric(\"rmse\", np.sqrt(-mean_score))\n",
    "                with mlflow.start_run(nested=True):\n",
    "                    mlflow.set_tag(\"model\", str(param['estimator']))\n",
    "                    mlflow.set_tag(\"Nested Run\", \"True\")\n",
    "                    mlflow.log_param(\"params\", params)\n",
    "\n",
    "#         mlflow.end_run()    \n",
    "    \n",
    "#     return random_search\n",
    "### Making predictions: EValuate the overall best model on the test set.\n"
   ]
  },
  {
   "cell_type": "code",
   "execution_count": 10,
   "id": "4919efcb",
   "metadata": {},
   "outputs": [
    {
     "data": {
      "text/plain": [
       "['Length',\n",
       " 'Diameter',\n",
       " 'Height',\n",
       " 'Whole_weight',\n",
       " 'Shucked_weight',\n",
       " 'Viscera_weight',\n",
       " 'Shell_weight',\n",
       " 'Rings']"
      ]
     },
     "execution_count": 10,
     "metadata": {},
     "output_type": "execute_result"
    }
   ],
   "source": [
    "_ = [\"Sex\", \"Length\", \"Diameter\", \"Height\", \"Whole_weight\", \"Shucked_weight\", \"Viscera_weight\", \"Shell_weight\", \"Rings\"]\n",
    "_.remove(\"Sex\")\n",
    "_"
   ]
  },
  {
   "cell_type": "raw",
   "id": "2f374583",
   "metadata": {},
   "source": [
    "LinearRegression(n_jobs=-1)\n",
    "Lasso(\"alpha\": [0.1, 0.5, 1])\n",
    "Ridge(\"alpha\": [0.1, 0.5, 1])\n",
    "ElasticNet(\"alpha\": [0.1, 0.5, 1], )\n",
    "RandomForestRegressor({'n_estimators': [3, 10], 'max_features': [2, 4, 8]},\n",
    "{'bootstrap': [False], 'n_estimators': [3, 10], 'max_features': [2, 3, 4]})"
   ]
  },
  {
   "cell_type": "raw",
   "id": "08cc906f",
   "metadata": {},
   "source": [
    "params = [{\"estimator\": LinearRegression(), param_grid:{\"n_jobs\": [-1]}},\n",
    "          {\"estimator\": Lasso(), param_grid:{\"alpha\": [0.1, 0.5, 1]}},\n",
    "          {\"estimator\": Ridge(), param_grid:{\"alpha\": [0.1, 0.5, 1]}},\n",
    "          {\"estimator\": ElasticNet(), param_grid:{\"alpha\": [0.1, 0.5, 1]}},\n",
    "          {\"estimator\": RandomForestRegressor(), param_grid:{\"n_estimators\": [3, 10], \"max_features\": [2, 4, 8] }},\n",
    "        ]\n",
    "\n",
    "for param in params:\n",
    "    random_srch = RandomizedSearchCV(param[\"estimator\"], param[\"param_grid\"],\n",
    "                        scoring='neg_mean_squared_error',\n",
    "                        return_train_score=True\n",
    "                      )"
   ]
  },
  {
   "cell_type": "code",
   "execution_count": null,
   "id": "dad7cfd7",
   "metadata": {},
   "outputs": [],
   "source": []
  },
  {
   "cell_type": "code",
   "execution_count": 97,
   "id": "9fa4a2c2",
   "metadata": {
    "scrolled": true
   },
   "outputs": [
    {
     "name": "stderr",
     "output_type": "stream",
     "text": [
      "C:\\Users\\user\\anaconda3\\envs\\anaconda3-TF2.x-GPU\\lib\\site-packages\\sklearn\\model_selection\\_search.py:285: UserWarning: The total space of parameters 6 is smaller than n_iter=10. Running 6 iterations. For exhaustive searches, use GridSearchCV.\n",
      "  warnings.warn(\n"
     ]
    },
    {
     "data": {
      "text/plain": [
       "{'mean_fit_time': array([0.01519608, 0.03599939, 0.01483312, 0.04874253, 0.04584818,\n",
       "        0.10183072]),\n",
       " 'std_fit_time': array([2.98790144e-03, 1.32442325e-05, 1.58463914e-03, 1.61448209e-03,\n",
       "        2.09454812e-02, 5.41444047e-02]),\n",
       " 'mean_score_time': array([8.00275803e-04, 2.40044594e-03, 1.59997940e-03, 1.63078308e-05,\n",
       "        3.31416130e-03, 2.39310265e-03]),\n",
       " 'std_score_time': array([1.60055161e-03, 1.96001162e-03, 1.95956657e-03, 3.26156616e-05,\n",
       "        2.13809882e-03, 1.95398918e-03]),\n",
       " 'param_n_estimators': masked_array(data=[3, 10, 3, 10, 3, 10],\n",
       "              mask=[False, False, False, False, False, False],\n",
       "        fill_value='?',\n",
       "             dtype=object),\n",
       " 'param_max_features': masked_array(data=[2, 2, 4, 4, 8, 8],\n",
       "              mask=[False, False, False, False, False, False],\n",
       "        fill_value='?',\n",
       "             dtype=object),\n",
       " 'params': [{'n_estimators': 3, 'max_features': 2},\n",
       "  {'n_estimators': 10, 'max_features': 2},\n",
       "  {'n_estimators': 3, 'max_features': 4},\n",
       "  {'n_estimators': 10, 'max_features': 4},\n",
       "  {'n_estimators': 3, 'max_features': 8},\n",
       "  {'n_estimators': 10, 'max_features': 8}],\n",
       " 'split0_test_score': array([-6.50066477, -5.1957265 , -6.14700855, -5.02866667, -6.29591643,\n",
       "        -5.32381197]),\n",
       " 'split1_test_score': array([-6.79848053, -5.58950427, -6.24330484, -5.18603419, -6.17188984,\n",
       "        -5.15470085]),\n",
       " 'split2_test_score': array([-6.74434948, -6.174     , -7.74605888, -6.26676923, -7.37587844,\n",
       "        -5.91823932]),\n",
       " 'split3_test_score': array([-5.51255708, -3.87825342, -5.02644597, -4.1782363 , -5.10692542,\n",
       "        -4.23328767]),\n",
       " 'split4_test_score': array([-6.82324962, -5.32145548, -5.88888889, -5.4082363 , -5.69691781,\n",
       "        -5.49765411]),\n",
       " 'mean_test_score': array([-6.47586029, -5.23178793, -6.21034143, -5.21358854, -6.12950559,\n",
       "        -5.22553878]),\n",
       " 'std_test_score': array([0.49505918, 0.75592604, 0.87959831, 0.67141446, 0.75043143,\n",
       "        0.55733629]),\n",
       " 'rank_test_score': array([6, 3, 5, 1, 4, 2]),\n",
       " 'split0_train_score': array([-1.63154643, -0.92353721, -1.68496341, -0.95294696, -1.64181161,\n",
       "        -0.87022669]),\n",
       " 'split1_train_score': array([-1.57456516, -0.88209581, -1.69019105, -0.92703593, -1.53640338,\n",
       "        -0.8856929 ]),\n",
       " 'split2_train_score': array([-1.65825492, -0.87372113, -1.59884992, -0.87992301, -1.44720084,\n",
       "        -0.83929855]),\n",
       " 'split3_train_score': array([-1.82100613, -1.03100043, -1.51731509, -1.00587431, -1.64310484,\n",
       "        -1.0225481 ]),\n",
       " 'split4_train_score': array([-1.64049214, -0.91366396, -1.54823999, -1.02747755, -1.56885659,\n",
       "        -0.9000171 ]),\n",
       " 'mean_train_score': array([-1.66517295, -0.92480371, -1.60791189, -0.95865155, -1.56747545,\n",
       "        -0.90355667]),\n",
       " 'std_train_score': array([0.08280277, 0.05627937, 0.070082  , 0.05328655, 0.07304661,\n",
       "        0.06281815])}"
      ]
     },
     "execution_count": 97,
     "metadata": {},
     "output_type": "execute_result"
    }
   ],
   "source": [
    "# X_train, X_test, y_train, y_test = load_data(\"data/abalone.csv\", columns, num_attribs, cat_attribs)\n",
    "\n",
    "# train_model(X_train, X_test, y_train, y_test)\n",
    "\n",
    "RandomizedSearchCV(params[\"estimator\"], params[\"param_grid\"],\n",
    "                            scoring='neg_mean_squared_error',\n",
    "                            return_train_score=True\n",
    "                          ).fit(X_train, y_train).cv_results_  # .best_params_"
   ]
  },
  {
   "cell_type": "code",
   "execution_count": 5,
   "id": "634ed7f4",
   "metadata": {},
   "outputs": [
    {
     "data": {
      "text/plain": [
       "GridSearchCV(estimator=Lasso(), param_grid={'alpha': [0.1, 0.5, 1]},\n",
       "             return_train_score=True, scoring='neg_mean_squared_error')"
      ]
     },
     "execution_count": 5,
     "metadata": {},
     "output_type": "execute_result"
    }
   ],
   "source": [
    "X_train, X_test, y_train, y_test, pipeline = load_data(\"data/abalone.csv\", columns, num_attribs, \\\n",
    "                                                       cat_attribs, MinMaxScaler, OneHotEncoder)\n",
    "\n",
    "# train_model(X_train, X_test, y_train, y_test)\n",
    "# GridSearchCV\n",
    "# RandomizedSearchCV\n",
    "params = {\"estimator\": Lasso(), \"param_grid\": {\"alpha\": [0.1, 0.5, 1]}}\n",
    "\n",
    "rcv = GridSearchCV(params[\"estimator\"], params[\"param_grid\"],\n",
    "                            scoring='neg_mean_squared_error',\n",
    "                            return_train_score=True\n",
    "                          ).fit(X_train, y_train)  #.best_estimator_  # .best_params_\n",
    "\n",
    "rcv"
   ]
  },
  {
   "cell_type": "code",
   "execution_count": 6,
   "id": "a914691e",
   "metadata": {},
   "outputs": [
    {
     "data": {
      "text/plain": [
       "-6.7304801917205905"
      ]
     },
     "execution_count": 6,
     "metadata": {},
     "output_type": "execute_result"
    }
   ],
   "source": [
    "rcv.best_score_"
   ]
  },
  {
   "cell_type": "code",
   "execution_count": 101,
   "id": "35d3b709",
   "metadata": {
    "scrolled": true
   },
   "outputs": [
    {
     "name": "stderr",
     "output_type": "stream",
     "text": [
      "C:\\Users\\user\\anaconda3\\envs\\anaconda3-TF2.x-GPU\\lib\\site-packages\\sklearn\\model_selection\\_search.py:285: UserWarning: The total space of parameters 6 is smaller than n_iter=10. Running 6 iterations. For exhaustive searches, use GridSearchCV.\n",
      "  warnings.warn(\n"
     ]
    },
    {
     "data": {
      "text/plain": [
       "{'mean_fit_time': array([0.0127934 , 0.0400034 , 0.01523223, 0.0467443 , 0.02375598,\n",
       "        0.07974267]),\n",
       " 'std_fit_time': array([0.00160559, 0.01011818, 0.00161863, 0.00134408, 0.00205752,\n",
       "        0.0033195 ]),\n",
       " 'mean_score_time': array([0.00160379, 0.00320039, 0.00080018, 0.00200276, 0.00119815,\n",
       "        0.00400581]),\n",
       " 'std_score_time': array([1.96424695e-03, 1.60019402e-03, 1.60036087e-03, 2.53408880e-03,\n",
       "        1.59894564e-03, 9.61107847e-06]),\n",
       " 'param_n_estimators': masked_array(data=[3, 10, 3, 10, 3, 10],\n",
       "              mask=[False, False, False, False, False, False],\n",
       "        fill_value='?',\n",
       "             dtype=object),\n",
       " 'param_max_features': masked_array(data=[2, 2, 4, 4, 8, 8],\n",
       "              mask=[False, False, False, False, False, False],\n",
       "        fill_value='?',\n",
       "             dtype=object),\n",
       " 'params': [{'n_estimators': 3, 'max_features': 2},\n",
       "  {'n_estimators': 10, 'max_features': 2},\n",
       "  {'n_estimators': 3, 'max_features': 4},\n",
       "  {'n_estimators': 10, 'max_features': 4},\n",
       "  {'n_estimators': 3, 'max_features': 8},\n",
       "  {'n_estimators': 10, 'max_features': 8}],\n",
       " 'split0_test_score': array([-5.8379867 , -5.25994872, -6.18784425, -5.2577094 , -6.80018993,\n",
       "        -5.1762906 ]),\n",
       " 'split1_test_score': array([-6.76695157, -5.64273504, -6.36847104, -5.3511453 , -6.53675214,\n",
       "        -5.20070085]),\n",
       " 'split2_test_score': array([-6.97094017, -6.18411966, -7.46533713, -5.96876923, -7.08983856,\n",
       "        -5.87594872]),\n",
       " 'split3_test_score': array([-5.76484018, -4.46724315, -5.47983257, -4.21      , -5.18892694,\n",
       "        -4.32344178]),\n",
       " 'split4_test_score': array([-6.24391172, -5.37464041, -5.86872146, -4.98135274, -6.48097412,\n",
       "        -4.99267123]),\n",
       " 'mean_test_score': array([-6.31692607, -5.3857374 , -6.27404129, -5.15379533, -6.41933634,\n",
       "        -5.11381064]),\n",
       " 'std_test_score': array([0.48368796, 0.55911352, 0.66791981, 0.5717366 , 0.65209135,\n",
       "        0.49631961]),\n",
       " 'rank_test_score': array([5, 3, 4, 2, 6, 1]),\n",
       " 'split0_train_score': array([-1.67688433, -0.90399914, -1.58449767, -0.89739093, -1.488119  ,\n",
       "        -0.9104491 ]),\n",
       " 'split1_train_score': array([-1.62489307, -0.99749786, -1.68529607, -0.94368263, -1.49605551,\n",
       "        -0.91316082]),\n",
       " 'split2_train_score': array([-1.63335234, -0.95784431, -1.38822355, -0.87532079, -1.34402623,\n",
       "        -0.91857998]),\n",
       " 'split3_train_score': array([-1.71127262, -1.02513895, -1.67493231, -0.98082514, -1.73972733,\n",
       "        -1.00185549]),\n",
       " 'split4_train_score': array([-1.52486818, -0.9915776 , -1.60966225, -0.92266353, -1.6645765 ,\n",
       "        -0.912531  ]),\n",
       " 'mean_train_score': array([-1.63425411, -0.97521157, -1.58852237, -0.9239766 , -1.54650091,\n",
       "        -0.93131528]),\n",
       " 'std_train_score': array([0.06293316, 0.0415454 , 0.10715833, 0.03659507, 0.14016239,\n",
       "        0.03537214])}"
      ]
     },
     "execution_count": 101,
     "metadata": {},
     "output_type": "execute_result"
    }
   ],
   "source": [
    "# X_train, X_test, y_train, y_test = load_data(\"data/abalone.csv\", columns, num_attribs, cat_attribs)\n",
    "\n",
    "# train_model(X_train, X_test, y_train, y_test)\n",
    "\n",
    "RandomizedSearchCV(params[\"estimator\"], params[\"param_grid\"],\n",
    "                            scoring='neg_mean_squared_error',\n",
    "                            return_train_score=True\n",
    "                          ).fit(X_train, y_train).cv_results_  # .best_params_"
   ]
  },
  {
   "cell_type": "code",
   "execution_count": 7,
   "id": "14539825",
   "metadata": {},
   "outputs": [
    {
     "data": {
      "text/plain": [
       "{'alpha': 0.1}"
      ]
     },
     "execution_count": 7,
     "metadata": {},
     "output_type": "execute_result"
    }
   ],
   "source": [
    "X_train, X_test, y_train, y_test, pipeline = load_data(\"data/abalone.csv\", columns, num_attribs, \\\n",
    "                                                       cat_attribs, MinMaxScaler, OneHotEncoder)\n",
    "\n",
    "# train_model(X_train, X_test, y_train, y_test)\n",
    "# GridSearchCV\n",
    "# RandomizedSearchCV\n",
    "params = {\"estimator\": Lasso(), \"param_grid\": {\"alpha\": [0.1, 0.5, 1]}}\n",
    "GridSearchCV(params[\"estimator\"], params[\"param_grid\"],\n",
    "                            scoring='neg_mean_squared_error',\n",
    "                            return_train_score=True\n",
    "                          ).fit(X_train, y_train).best_params_\n"
   ]
  },
  {
   "cell_type": "code",
   "execution_count": 5,
   "id": "d785fab0",
   "metadata": {},
   "outputs": [
    {
     "data": {
      "text/plain": [
       "GridSearchCV(estimator=Lasso(), param_grid={'alpha': [0.1, 0.5, 1]},\n",
       "             return_train_score=True, scoring='neg_mean_squared_error')"
      ]
     },
     "execution_count": 5,
     "metadata": {},
     "output_type": "execute_result"
    }
   ],
   "source": [
    "X_train, X_test, y_train, y_test, pipeline = load_data(\"data/abalone.csv\", columns, num_attribs, \\\n",
    "                                                       cat_attribs, MinMaxScaler, OneHotEncoder)\n",
    "\n",
    "# train_model(X_train, X_test, y_train, y_test)\n",
    "# GridSearchCV\n",
    "# RandomizedSearchCV\n",
    "best = GridSearchCV(params[\"estimator\"], params[\"param_grid\"],\n",
    "                            scoring='neg_mean_squared_error',\n",
    "                            return_train_score=True\n",
    "                          ).fit(X_train, y_train)  #.best_estimator_  # .best_params_\n",
    "\n",
    "print(type(best))\n",
    "best.best_estimator_"
   ]
  },
  {
   "cell_type": "code",
   "execution_count": null,
   "id": "a3c39e4e",
   "metadata": {},
   "outputs": [],
   "source": [
    "best.predict()"
   ]
  },
  {
   "cell_type": "code",
   "execution_count": 106,
   "id": "a7db4359",
   "metadata": {},
   "outputs": [
    {
     "data": {
      "text/plain": [
       "sklearn.ensemble._forest.RandomForestRegressor"
      ]
     },
     "execution_count": 106,
     "metadata": {},
     "output_type": "execute_result"
    }
   ],
   "source": [
    "_ = RandomForestRegressor()\n",
    "type(_)"
   ]
  },
  {
   "cell_type": "code",
   "execution_count": 94,
   "id": "af69e08c",
   "metadata": {},
   "outputs": [
    {
     "data": {
      "text/plain": [
       "2.606254143401982"
      ]
     },
     "execution_count": 94,
     "metadata": {},
     "output_type": "execute_result"
    }
   ],
   "source": [
    "np.sqrt(6.79256066)"
   ]
  },
  {
   "cell_type": "code",
   "execution_count": 75,
   "id": "feaf927b",
   "metadata": {},
   "outputs": [
    {
     "data": {
      "text/html": [
       "<div>\n",
       "<style scoped>\n",
       "    .dataframe tbody tr th:only-of-type {\n",
       "        vertical-align: middle;\n",
       "    }\n",
       "\n",
       "    .dataframe tbody tr th {\n",
       "        vertical-align: top;\n",
       "    }\n",
       "\n",
       "    .dataframe thead th {\n",
       "        text-align: right;\n",
       "    }\n",
       "</style>\n",
       "<table border=\"1\" class=\"dataframe\">\n",
       "  <thead>\n",
       "    <tr style=\"text-align: right;\">\n",
       "      <th></th>\n",
       "      <th>Sex</th>\n",
       "      <th>Length</th>\n",
       "      <th>Diameter</th>\n",
       "      <th>Height</th>\n",
       "      <th>Whole_weight</th>\n",
       "      <th>Shucked_weight</th>\n",
       "      <th>Viscera_weight</th>\n",
       "      <th>Shell_weight</th>\n",
       "      <th>Rings</th>\n",
       "    </tr>\n",
       "  </thead>\n",
       "  <tbody>\n",
       "    <tr>\n",
       "      <th>0</th>\n",
       "      <td>3</td>\n",
       "      <td>0.400</td>\n",
       "      <td>0.305</td>\n",
       "      <td>0.100</td>\n",
       "      <td>0.3415</td>\n",
       "      <td>0.1760</td>\n",
       "      <td>0.0625</td>\n",
       "      <td>0.0865</td>\n",
       "      <td>7</td>\n",
       "    </tr>\n",
       "    <tr>\n",
       "      <th>1</th>\n",
       "      <td>2</td>\n",
       "      <td>0.635</td>\n",
       "      <td>0.500</td>\n",
       "      <td>0.150</td>\n",
       "      <td>1.3760</td>\n",
       "      <td>0.6495</td>\n",
       "      <td>0.3610</td>\n",
       "      <td>0.3100</td>\n",
       "      <td>10</td>\n",
       "    </tr>\n",
       "    <tr>\n",
       "      <th>2</th>\n",
       "      <td>3</td>\n",
       "      <td>0.370</td>\n",
       "      <td>0.270</td>\n",
       "      <td>0.090</td>\n",
       "      <td>0.1855</td>\n",
       "      <td>0.0700</td>\n",
       "      <td>0.0425</td>\n",
       "      <td>0.0650</td>\n",
       "      <td>7</td>\n",
       "    </tr>\n",
       "    <tr>\n",
       "      <th>3</th>\n",
       "      <td>1</td>\n",
       "      <td>0.680</td>\n",
       "      <td>0.540</td>\n",
       "      <td>0.155</td>\n",
       "      <td>1.5340</td>\n",
       "      <td>0.6710</td>\n",
       "      <td>0.3790</td>\n",
       "      <td>0.3840</td>\n",
       "      <td>10</td>\n",
       "    </tr>\n",
       "    <tr>\n",
       "      <th>4</th>\n",
       "      <td>3</td>\n",
       "      <td>0.375</td>\n",
       "      <td>0.285</td>\n",
       "      <td>0.090</td>\n",
       "      <td>0.2545</td>\n",
       "      <td>0.1190</td>\n",
       "      <td>0.0595</td>\n",
       "      <td>0.0675</td>\n",
       "      <td>6</td>\n",
       "    </tr>\n",
       "  </tbody>\n",
       "</table>\n",
       "</div>"
      ],
      "text/plain": [
       "   Sex  Length  Diameter  Height  Whole_weight  Shucked_weight  \\\n",
       "0    3   0.400     0.305   0.100        0.3415          0.1760   \n",
       "1    2   0.635     0.500   0.150        1.3760          0.6495   \n",
       "2    3   0.370     0.270   0.090        0.1855          0.0700   \n",
       "3    1   0.680     0.540   0.155        1.5340          0.6710   \n",
       "4    3   0.375     0.285   0.090        0.2545          0.1190   \n",
       "\n",
       "   Viscera_weight  Shell_weight  Rings  \n",
       "0          0.0625        0.0865      7  \n",
       "1          0.3610        0.3100     10  \n",
       "2          0.0425        0.0650      7  \n",
       "3          0.3790        0.3840     10  \n",
       "4          0.0595        0.0675      6  "
      ]
     },
     "execution_count": 75,
     "metadata": {},
     "output_type": "execute_result"
    }
   ],
   "source": [
    "df.head()"
   ]
  },
  {
   "cell_type": "code",
   "execution_count": 40,
   "id": "9304140f",
   "metadata": {},
   "outputs": [
    {
     "data": {
      "text/plain": [
       "LinearRegression()"
      ]
     },
     "execution_count": 40,
     "metadata": {},
     "output_type": "execute_result"
    }
   ],
   "source": [
    "lin_reg = LinearRegression()\n",
    "lin_reg.fit(abalone_prepared, abalone_labels)"
   ]
  },
  {
   "cell_type": "code",
   "execution_count": 41,
   "id": "695dd48a",
   "metadata": {},
   "outputs": [
    {
     "name": "stdout",
     "output_type": "stream",
     "text": [
      "Predictions: [9.12315413 8.98732299 9.95997328 6.3981309  8.96025193]\n"
     ]
    }
   ],
   "source": [
    "# some_data = abalone.iloc[:5]\n",
    "# some_labels = abalone_labels.iloc[:5]\n",
    "\n",
    "# some_data_prepared = data_prep_pipeline.transform(abalone.iloc[:5])\n",
    "print(\"Predictions:\", lin_reg.predict(data_prep_pipeline.transform(abalone.iloc[:5])))"
   ]
  },
  {
   "cell_type": "code",
   "execution_count": 42,
   "id": "98608a99",
   "metadata": {
    "scrolled": true
   },
   "outputs": [
    {
     "data": {
      "text/plain": [
       "22       7\n",
       "2794    10\n",
       "2506    12\n",
       "1632     5\n",
       "695     13\n",
       "Name: Rings, dtype: int64"
      ]
     },
     "execution_count": 42,
     "metadata": {},
     "output_type": "execute_result"
    }
   ],
   "source": [
    "abalone_labels.iloc[:5]"
   ]
  },
  {
   "cell_type": "code",
   "execution_count": 53,
   "id": "41f0f510",
   "metadata": {},
   "outputs": [
    {
     "data": {
      "text/plain": [
       "2.1338537176740027"
      ]
     },
     "execution_count": 53,
     "metadata": {},
     "output_type": "execute_result"
    }
   ],
   "source": [
    "abalone_predictions = lin_reg.predict(abalone_prepared)\n",
    "lin_rmse = mean_squared_error(abalone_labels, abalone_predictions, squared=False)\n",
    "lin_rmse"
   ]
  },
  {
   "cell_type": "code",
   "execution_count": 46,
   "id": "1a4d5fb9",
   "metadata": {},
   "outputs": [
    {
     "data": {
      "text/plain": [
       "1.5492118420753"
      ]
     },
     "execution_count": 46,
     "metadata": {},
     "output_type": "execute_result"
    }
   ],
   "source": [
    "lin_mae = mean_absolute_error(abalone_labels, abalone_predictions)\n",
    "lin_mae"
   ]
  },
  {
   "cell_type": "code",
   "execution_count": null,
   "id": "e7ad6c7b",
   "metadata": {},
   "outputs": [],
   "source": []
  },
  {
   "cell_type": "code",
   "execution_count": 20,
   "id": "c71e0055",
   "metadata": {},
   "outputs": [
    {
     "data": {
      "text/plain": [
       "8"
      ]
     },
     "execution_count": 20,
     "metadata": {},
     "output_type": "execute_result"
    }
   ],
   "source": [
    "def prod(z, x=2, y=3):\n",
    "    return x * y + z\n",
    "\n",
    "prod(2)"
   ]
  },
  {
   "cell_type": "code",
   "execution_count": 29,
   "id": "40980fae",
   "metadata": {},
   "outputs": [
    {
     "data": {
      "text/plain": [
       "'0.24.1'"
      ]
     },
     "execution_count": 29,
     "metadata": {},
     "output_type": "execute_result"
    }
   ],
   "source": [
    "import sklearn\n",
    "\n",
    "sklearn.__version__"
   ]
  },
  {
   "cell_type": "code",
   "execution_count": 14,
   "id": "476aa58f",
   "metadata": {},
   "outputs": [
    {
     "name": "stdout",
     "output_type": "stream",
     "text": [
      "Name of registered model to create in MLFlow Model Registry if it does not already exist\n"
     ]
    }
   ],
   "source": [
    "hlp=\"Name of registered model to create in MLFlow Model Registry \\\n",
    "if it does not already exist\"\n",
    "    \n",
    "print(hlp)"
   ]
  },
  {
   "cell_type": "code",
   "execution_count": 57,
   "id": "5bad40c7",
   "metadata": {},
   "outputs": [
    {
     "data": {
      "text/plain": [
       "<bound method _ActionsContainer.add_argument of ArgumentParser(prog='ipykernel_launcher.py', usage=None, description=None, formatter_class=<class 'argparse.HelpFormatter'>, conflict_handler='error', add_help=True)>"
      ]
     },
     "execution_count": 57,
     "metadata": {},
     "output_type": "execute_result"
    }
   ],
   "source": [
    "import argparse\n",
    "\n",
    "parser = argparse.ArgumentParser()\n",
    "parser.add_argument"
   ]
  },
  {
   "cell_type": "code",
   "execution_count": 3,
   "id": "448f6462",
   "metadata": {},
   "outputs": [
    {
     "data": {
      "text/plain": [
       "'C:\\\\Users\\\\user\\\\Documents\\\\Projects - Unpublished\\\\MLOps_project'"
      ]
     },
     "execution_count": 3,
     "metadata": {},
     "output_type": "execute_result"
    }
   ],
   "source": [
    "pwd"
   ]
  },
  {
   "cell_type": "code",
   "execution_count": 4,
   "id": "ed4a1ed8",
   "metadata": {},
   "outputs": [],
   "source": [
    "import mlflow\n",
    "from mlflow.tracking import MlflowClient\n"
   ]
  },
  {
   "cell_type": "code",
   "execution_count": 5,
   "id": "4961bdd5",
   "metadata": {
    "collapsed": true
   },
   "outputs": [
    {
     "ename": "MlflowException",
     "evalue": "Detected out-of-date database schema (found version cc1f77228345, but expected c48cb773bb87). Take a backup of your database, then run 'mlflow db upgrade <database_uri>' to migrate your database to the latest schema. NOTE: schema migration may result in database downtime - please consult your database's documentation for more detail.",
     "output_type": "error",
     "traceback": [
      "\u001b[1;31m---------------------------------------------------------------------------\u001b[0m",
      "\u001b[1;31mMlflowException\u001b[0m                           Traceback (most recent call last)",
      "\u001b[1;32m<ipython-input-5-a26e7f3b2515>\u001b[0m in \u001b[0;36m<module>\u001b[1;34m\u001b[0m\n\u001b[1;32m----> 1\u001b[1;33m \u001b[0mclient\u001b[0m \u001b[1;33m=\u001b[0m \u001b[0mMlflowClient\u001b[0m\u001b[1;33m(\u001b[0m\u001b[1;34m\"sqlite:///mlops_proj.db\"\u001b[0m\u001b[1;33m)\u001b[0m\u001b[1;33m\u001b[0m\u001b[1;33m\u001b[0m\u001b[0m\n\u001b[0m",
      "\u001b[1;32m~\\anaconda3\\envs\\anaconda3-TF2.x-GPU\\lib\\site-packages\\mlflow\\tracking\\client.py\u001b[0m in \u001b[0;36m__init__\u001b[1;34m(self, tracking_uri, registry_uri)\u001b[0m\n\u001b[0;32m     68\u001b[0m         \u001b[0mfinal_tracking_uri\u001b[0m \u001b[1;33m=\u001b[0m \u001b[0mutils\u001b[0m\u001b[1;33m.\u001b[0m\u001b[0m_resolve_tracking_uri\u001b[0m\u001b[1;33m(\u001b[0m\u001b[0mtracking_uri\u001b[0m\u001b[1;33m)\u001b[0m\u001b[1;33m\u001b[0m\u001b[1;33m\u001b[0m\u001b[0m\n\u001b[0;32m     69\u001b[0m         \u001b[0mself\u001b[0m\u001b[1;33m.\u001b[0m\u001b[0m_registry_uri\u001b[0m \u001b[1;33m=\u001b[0m \u001b[0mregistry_utils\u001b[0m\u001b[1;33m.\u001b[0m\u001b[0m_resolve_registry_uri\u001b[0m\u001b[1;33m(\u001b[0m\u001b[0mregistry_uri\u001b[0m\u001b[1;33m,\u001b[0m \u001b[0mtracking_uri\u001b[0m\u001b[1;33m)\u001b[0m\u001b[1;33m\u001b[0m\u001b[1;33m\u001b[0m\u001b[0m\n\u001b[1;32m---> 70\u001b[1;33m         \u001b[0mself\u001b[0m\u001b[1;33m.\u001b[0m\u001b[0m_tracking_client\u001b[0m \u001b[1;33m=\u001b[0m \u001b[0mTrackingServiceClient\u001b[0m\u001b[1;33m(\u001b[0m\u001b[0mfinal_tracking_uri\u001b[0m\u001b[1;33m)\u001b[0m\u001b[1;33m\u001b[0m\u001b[1;33m\u001b[0m\u001b[0m\n\u001b[0m\u001b[0;32m     71\u001b[0m         \u001b[1;31m# `MlflowClient` also references a `ModelRegistryClient` instance that is provided by the\u001b[0m\u001b[1;33m\u001b[0m\u001b[1;33m\u001b[0m\u001b[1;33m\u001b[0m\u001b[0m\n\u001b[0;32m     72\u001b[0m         \u001b[1;31m# `MlflowClient._get_registry_client()` method. This `ModelRegistryClient` is not explicitly\u001b[0m\u001b[1;33m\u001b[0m\u001b[1;33m\u001b[0m\u001b[1;33m\u001b[0m\u001b[0m\n",
      "\u001b[1;32m~\\anaconda3\\envs\\anaconda3-TF2.x-GPU\\lib\\site-packages\\mlflow\\tracking\\_tracking_service\\client.py\u001b[0m in \u001b[0;36m__init__\u001b[1;34m(self, tracking_uri)\u001b[0m\n\u001b[0;32m     46\u001b[0m         \u001b[1;31m# property method to ensure that the client is serializable, even if the store is not\u001b[0m\u001b[1;33m\u001b[0m\u001b[1;33m\u001b[0m\u001b[1;33m\u001b[0m\u001b[0m\n\u001b[0;32m     47\u001b[0m         \u001b[1;31m# self.store  # pylint: disable=pointless-statement\u001b[0m\u001b[1;33m\u001b[0m\u001b[1;33m\u001b[0m\u001b[1;33m\u001b[0m\u001b[0m\n\u001b[1;32m---> 48\u001b[1;33m         \u001b[0mself\u001b[0m\u001b[1;33m.\u001b[0m\u001b[0mstore\u001b[0m\u001b[1;33m\u001b[0m\u001b[1;33m\u001b[0m\u001b[0m\n\u001b[0m\u001b[0;32m     49\u001b[0m \u001b[1;33m\u001b[0m\u001b[0m\n\u001b[0;32m     50\u001b[0m     \u001b[1;33m@\u001b[0m\u001b[0mproperty\u001b[0m\u001b[1;33m\u001b[0m\u001b[1;33m\u001b[0m\u001b[0m\n",
      "\u001b[1;32m~\\anaconda3\\envs\\anaconda3-TF2.x-GPU\\lib\\site-packages\\mlflow\\tracking\\_tracking_service\\client.py\u001b[0m in \u001b[0;36mstore\u001b[1;34m(self)\u001b[0m\n\u001b[0;32m     50\u001b[0m     \u001b[1;33m@\u001b[0m\u001b[0mproperty\u001b[0m\u001b[1;33m\u001b[0m\u001b[1;33m\u001b[0m\u001b[0m\n\u001b[0;32m     51\u001b[0m     \u001b[1;32mdef\u001b[0m \u001b[0mstore\u001b[0m\u001b[1;33m(\u001b[0m\u001b[0mself\u001b[0m\u001b[1;33m)\u001b[0m\u001b[1;33m:\u001b[0m\u001b[1;33m\u001b[0m\u001b[1;33m\u001b[0m\u001b[0m\n\u001b[1;32m---> 52\u001b[1;33m         \u001b[1;32mreturn\u001b[0m \u001b[0mutils\u001b[0m\u001b[1;33m.\u001b[0m\u001b[0m_get_store\u001b[0m\u001b[1;33m(\u001b[0m\u001b[0mself\u001b[0m\u001b[1;33m.\u001b[0m\u001b[0mtracking_uri\u001b[0m\u001b[1;33m)\u001b[0m\u001b[1;33m\u001b[0m\u001b[1;33m\u001b[0m\u001b[0m\n\u001b[0m\u001b[0;32m     53\u001b[0m \u001b[1;33m\u001b[0m\u001b[0m\n\u001b[0;32m     54\u001b[0m     \u001b[1;32mdef\u001b[0m \u001b[0mget_run\u001b[0m\u001b[1;33m(\u001b[0m\u001b[0mself\u001b[0m\u001b[1;33m,\u001b[0m \u001b[0mrun_id\u001b[0m\u001b[1;33m)\u001b[0m\u001b[1;33m:\u001b[0m\u001b[1;33m\u001b[0m\u001b[1;33m\u001b[0m\u001b[0m\n",
      "\u001b[1;32m~\\anaconda3\\envs\\anaconda3-TF2.x-GPU\\lib\\site-packages\\mlflow\\tracking\\_tracking_service\\utils.py\u001b[0m in \u001b[0;36m_get_store\u001b[1;34m(store_uri, artifact_uri)\u001b[0m\n\u001b[0;32m    153\u001b[0m \u001b[1;33m\u001b[0m\u001b[0m\n\u001b[0;32m    154\u001b[0m \u001b[1;32mdef\u001b[0m \u001b[0m_get_store\u001b[0m\u001b[1;33m(\u001b[0m\u001b[0mstore_uri\u001b[0m\u001b[1;33m=\u001b[0m\u001b[1;32mNone\u001b[0m\u001b[1;33m,\u001b[0m \u001b[0martifact_uri\u001b[0m\u001b[1;33m=\u001b[0m\u001b[1;32mNone\u001b[0m\u001b[1;33m)\u001b[0m\u001b[1;33m:\u001b[0m\u001b[1;33m\u001b[0m\u001b[1;33m\u001b[0m\u001b[0m\n\u001b[1;32m--> 155\u001b[1;33m     \u001b[1;32mreturn\u001b[0m \u001b[0m_tracking_store_registry\u001b[0m\u001b[1;33m.\u001b[0m\u001b[0mget_store\u001b[0m\u001b[1;33m(\u001b[0m\u001b[0mstore_uri\u001b[0m\u001b[1;33m,\u001b[0m \u001b[0martifact_uri\u001b[0m\u001b[1;33m)\u001b[0m\u001b[1;33m\u001b[0m\u001b[1;33m\u001b[0m\u001b[0m\n\u001b[0m\u001b[0;32m    156\u001b[0m \u001b[1;33m\u001b[0m\u001b[0m\n\u001b[0;32m    157\u001b[0m \u001b[1;33m\u001b[0m\u001b[0m\n",
      "\u001b[1;32m~\\anaconda3\\envs\\anaconda3-TF2.x-GPU\\lib\\site-packages\\mlflow\\tracking\\_tracking_service\\registry.py\u001b[0m in \u001b[0;36mget_store\u001b[1;34m(self, store_uri, artifact_uri)\u001b[0m\n\u001b[0;32m     37\u001b[0m \u001b[1;33m\u001b[0m\u001b[0m\n\u001b[0;32m     38\u001b[0m         \u001b[0mresolved_store_uri\u001b[0m \u001b[1;33m=\u001b[0m \u001b[0mutils\u001b[0m\u001b[1;33m.\u001b[0m\u001b[0m_resolve_tracking_uri\u001b[0m\u001b[1;33m(\u001b[0m\u001b[0mstore_uri\u001b[0m\u001b[1;33m)\u001b[0m\u001b[1;33m\u001b[0m\u001b[1;33m\u001b[0m\u001b[0m\n\u001b[1;32m---> 39\u001b[1;33m         \u001b[1;32mreturn\u001b[0m \u001b[0mself\u001b[0m\u001b[1;33m.\u001b[0m\u001b[0m_get_store_with_resolved_uri\u001b[0m\u001b[1;33m(\u001b[0m\u001b[0mresolved_store_uri\u001b[0m\u001b[1;33m,\u001b[0m \u001b[0martifact_uri\u001b[0m\u001b[1;33m)\u001b[0m\u001b[1;33m\u001b[0m\u001b[1;33m\u001b[0m\u001b[0m\n\u001b[0m\u001b[0;32m     40\u001b[0m \u001b[1;33m\u001b[0m\u001b[0m\n\u001b[0;32m     41\u001b[0m     \u001b[1;33m@\u001b[0m\u001b[0mlru_cache\u001b[0m\u001b[1;33m(\u001b[0m\u001b[0mmaxsize\u001b[0m\u001b[1;33m=\u001b[0m\u001b[1;36m100\u001b[0m\u001b[1;33m)\u001b[0m\u001b[1;33m\u001b[0m\u001b[1;33m\u001b[0m\u001b[0m\n",
      "\u001b[1;32m~\\anaconda3\\envs\\anaconda3-TF2.x-GPU\\lib\\site-packages\\mlflow\\tracking\\_tracking_service\\registry.py\u001b[0m in \u001b[0;36m_get_store_with_resolved_uri\u001b[1;34m(self, resolved_store_uri, artifact_uri)\u001b[0m\n\u001b[0;32m     47\u001b[0m         \"\"\"\n\u001b[0;32m     48\u001b[0m         \u001b[0mbuilder\u001b[0m \u001b[1;33m=\u001b[0m \u001b[0mself\u001b[0m\u001b[1;33m.\u001b[0m\u001b[0mget_store_builder\u001b[0m\u001b[1;33m(\u001b[0m\u001b[0mresolved_store_uri\u001b[0m\u001b[1;33m)\u001b[0m\u001b[1;33m\u001b[0m\u001b[1;33m\u001b[0m\u001b[0m\n\u001b[1;32m---> 49\u001b[1;33m         \u001b[1;32mreturn\u001b[0m \u001b[0mbuilder\u001b[0m\u001b[1;33m(\u001b[0m\u001b[0mstore_uri\u001b[0m\u001b[1;33m=\u001b[0m\u001b[0mresolved_store_uri\u001b[0m\u001b[1;33m,\u001b[0m \u001b[0martifact_uri\u001b[0m\u001b[1;33m=\u001b[0m\u001b[0martifact_uri\u001b[0m\u001b[1;33m)\u001b[0m\u001b[1;33m\u001b[0m\u001b[1;33m\u001b[0m\u001b[0m\n\u001b[0m",
      "\u001b[1;32m~\\anaconda3\\envs\\anaconda3-TF2.x-GPU\\lib\\site-packages\\mlflow\\tracking\\_tracking_service\\utils.py\u001b[0m in \u001b[0;36m_get_sqlalchemy_store\u001b[1;34m(store_uri, artifact_uri)\u001b[0m\n\u001b[0;32m    115\u001b[0m     \u001b[1;32mif\u001b[0m \u001b[0martifact_uri\u001b[0m \u001b[1;32mis\u001b[0m \u001b[1;32mNone\u001b[0m\u001b[1;33m:\u001b[0m\u001b[1;33m\u001b[0m\u001b[1;33m\u001b[0m\u001b[0m\n\u001b[0;32m    116\u001b[0m         \u001b[0martifact_uri\u001b[0m \u001b[1;33m=\u001b[0m \u001b[0mDEFAULT_LOCAL_FILE_AND_ARTIFACT_PATH\u001b[0m\u001b[1;33m\u001b[0m\u001b[1;33m\u001b[0m\u001b[0m\n\u001b[1;32m--> 117\u001b[1;33m     \u001b[1;32mreturn\u001b[0m \u001b[0mSqlAlchemyStore\u001b[0m\u001b[1;33m(\u001b[0m\u001b[0mstore_uri\u001b[0m\u001b[1;33m,\u001b[0m \u001b[0martifact_uri\u001b[0m\u001b[1;33m)\u001b[0m\u001b[1;33m\u001b[0m\u001b[1;33m\u001b[0m\u001b[0m\n\u001b[0m\u001b[0;32m    118\u001b[0m \u001b[1;33m\u001b[0m\u001b[0m\n\u001b[0;32m    119\u001b[0m \u001b[1;33m\u001b[0m\u001b[0m\n",
      "\u001b[1;32m~\\anaconda3\\envs\\anaconda3-TF2.x-GPU\\lib\\site-packages\\mlflow\\store\\tracking\\sqlalchemy_store.py\u001b[0m in \u001b[0;36m__init__\u001b[1;34m(self, db_uri, default_artifact_root)\u001b[0m\n\u001b[0;32m    138\u001b[0m             \u001b[0mSessionMaker\u001b[0m\u001b[1;33m,\u001b[0m \u001b[0mself\u001b[0m\u001b[1;33m.\u001b[0m\u001b[0mdb_type\u001b[0m\u001b[1;33m\u001b[0m\u001b[1;33m\u001b[0m\u001b[0m\n\u001b[0;32m    139\u001b[0m         )\n\u001b[1;32m--> 140\u001b[1;33m         \u001b[0mmlflow\u001b[0m\u001b[1;33m.\u001b[0m\u001b[0mstore\u001b[0m\u001b[1;33m.\u001b[0m\u001b[0mdb\u001b[0m\u001b[1;33m.\u001b[0m\u001b[0mutils\u001b[0m\u001b[1;33m.\u001b[0m\u001b[0m_verify_schema\u001b[0m\u001b[1;33m(\u001b[0m\u001b[0mself\u001b[0m\u001b[1;33m.\u001b[0m\u001b[0mengine\u001b[0m\u001b[1;33m)\u001b[0m\u001b[1;33m\u001b[0m\u001b[1;33m\u001b[0m\u001b[0m\n\u001b[0m\u001b[0;32m    141\u001b[0m \u001b[1;33m\u001b[0m\u001b[0m\n\u001b[0;32m    142\u001b[0m         \u001b[1;32mif\u001b[0m \u001b[0mis_local_uri\u001b[0m\u001b[1;33m(\u001b[0m\u001b[0mdefault_artifact_root\u001b[0m\u001b[1;33m)\u001b[0m\u001b[1;33m:\u001b[0m\u001b[1;33m\u001b[0m\u001b[1;33m\u001b[0m\u001b[0m\n",
      "\u001b[1;32m~\\anaconda3\\envs\\anaconda3-TF2.x-GPU\\lib\\site-packages\\mlflow\\store\\db\\utils.py\u001b[0m in \u001b[0;36m_verify_schema\u001b[1;34m(engine)\u001b[0m\n\u001b[0;32m     51\u001b[0m     \u001b[0mcurrent_rev\u001b[0m \u001b[1;33m=\u001b[0m \u001b[0m_get_schema_version\u001b[0m\u001b[1;33m(\u001b[0m\u001b[0mengine\u001b[0m\u001b[1;33m)\u001b[0m\u001b[1;33m\u001b[0m\u001b[1;33m\u001b[0m\u001b[0m\n\u001b[0;32m     52\u001b[0m     \u001b[1;32mif\u001b[0m \u001b[0mcurrent_rev\u001b[0m \u001b[1;33m!=\u001b[0m \u001b[0mhead_revision\u001b[0m\u001b[1;33m:\u001b[0m\u001b[1;33m\u001b[0m\u001b[1;33m\u001b[0m\u001b[0m\n\u001b[1;32m---> 53\u001b[1;33m         raise MlflowException(\n\u001b[0m\u001b[0;32m     54\u001b[0m             \u001b[1;34m\"Detected out-of-date database schema (found version %s, but expected %s). \"\u001b[0m\u001b[1;33m\u001b[0m\u001b[1;33m\u001b[0m\u001b[0m\n\u001b[0;32m     55\u001b[0m             \u001b[1;34m\"Take a backup of your database, then run 'mlflow db upgrade <database_uri>' \"\u001b[0m\u001b[1;33m\u001b[0m\u001b[1;33m\u001b[0m\u001b[0m\n",
      "\u001b[1;31mMlflowException\u001b[0m: Detected out-of-date database schema (found version cc1f77228345, but expected c48cb773bb87). Take a backup of your database, then run 'mlflow db upgrade <database_uri>' to migrate your database to the latest schema. NOTE: schema migration may result in database downtime - please consult your database's documentation for more detail."
     ]
    }
   ],
   "source": [
    "client = MlflowClient(\"sqlite:///mlops_proj.db\")"
   ]
  },
  {
   "cell_type": "code",
   "execution_count": 18,
   "id": "31e88b86",
   "metadata": {},
   "outputs": [
    {
     "data": {
      "text/plain": [
       "'2022_09_04_11_07_18_198736'"
      ]
     },
     "execution_count": 18,
     "metadata": {},
     "output_type": "execute_result"
    }
   ],
   "source": [
    "from datetime import datetime\n",
    "datetime.now().strftime(\"%Y_%m_%d_%H_%M_%S_%f\")"
   ]
  },
  {
   "cell_type": "code",
   "execution_count": 11,
   "id": "0370dae5",
   "metadata": {},
   "outputs": [],
   "source": [
    "mlflow.*get*?"
   ]
  },
  {
   "cell_type": "code",
   "execution_count": 14,
   "id": "5c46d3dc",
   "metadata": {},
   "outputs": [
    {
     "data": {
      "text/plain": [
       "'file:///C:/Users/user/Documents/Projects%20-%20Unpublished/MLOps_project/mlruns'"
      ]
     },
     "execution_count": 14,
     "metadata": {},
     "output_type": "execute_result"
    }
   ],
   "source": [
    "mlflow.get_registry_uri()"
   ]
  },
  {
   "cell_type": "code",
   "execution_count": null,
   "id": "1dfe78ca",
   "metadata": {},
   "outputs": [],
   "source": []
  },
  {
   "cell_type": "markdown",
   "id": "df85277b",
   "metadata": {},
   "source": [
    "## Application"
   ]
  },
  {
   "cell_type": "code",
   "execution_count": 2,
   "id": "b4e6e5a4",
   "metadata": {},
   "outputs": [
    {
     "data": {
      "text/html": [
       "<div>\n",
       "<style scoped>\n",
       "    .dataframe tbody tr th:only-of-type {\n",
       "        vertical-align: middle;\n",
       "    }\n",
       "\n",
       "    .dataframe tbody tr th {\n",
       "        vertical-align: top;\n",
       "    }\n",
       "\n",
       "    .dataframe thead th {\n",
       "        text-align: right;\n",
       "    }\n",
       "</style>\n",
       "<table border=\"1\" class=\"dataframe\">\n",
       "  <thead>\n",
       "    <tr style=\"text-align: right;\">\n",
       "      <th></th>\n",
       "      <th>Sex</th>\n",
       "      <th>Length</th>\n",
       "      <th>Diameter</th>\n",
       "      <th>Height</th>\n",
       "      <th>Whole_weight</th>\n",
       "      <th>Shucked_weight</th>\n",
       "      <th>Viscera_weight</th>\n",
       "      <th>Shell_weight</th>\n",
       "    </tr>\n",
       "  </thead>\n",
       "  <tbody>\n",
       "    <tr>\n",
       "      <th>0</th>\n",
       "      <td>3</td>\n",
       "      <td>0.400</td>\n",
       "      <td>0.305</td>\n",
       "      <td>0.100</td>\n",
       "      <td>0.3415</td>\n",
       "      <td>0.1760</td>\n",
       "      <td>0.0625</td>\n",
       "      <td>0.0865</td>\n",
       "    </tr>\n",
       "    <tr>\n",
       "      <th>1</th>\n",
       "      <td>2</td>\n",
       "      <td>0.635</td>\n",
       "      <td>0.500</td>\n",
       "      <td>0.150</td>\n",
       "      <td>1.3760</td>\n",
       "      <td>0.6495</td>\n",
       "      <td>0.3610</td>\n",
       "      <td>0.3100</td>\n",
       "    </tr>\n",
       "    <tr>\n",
       "      <th>2</th>\n",
       "      <td>3</td>\n",
       "      <td>0.370</td>\n",
       "      <td>0.270</td>\n",
       "      <td>0.090</td>\n",
       "      <td>0.1855</td>\n",
       "      <td>0.0700</td>\n",
       "      <td>0.0425</td>\n",
       "      <td>0.0650</td>\n",
       "    </tr>\n",
       "    <tr>\n",
       "      <th>3</th>\n",
       "      <td>1</td>\n",
       "      <td>0.680</td>\n",
       "      <td>0.540</td>\n",
       "      <td>0.155</td>\n",
       "      <td>1.5340</td>\n",
       "      <td>0.6710</td>\n",
       "      <td>0.3790</td>\n",
       "      <td>0.3840</td>\n",
       "    </tr>\n",
       "    <tr>\n",
       "      <th>4</th>\n",
       "      <td>3</td>\n",
       "      <td>0.375</td>\n",
       "      <td>0.285</td>\n",
       "      <td>0.090</td>\n",
       "      <td>0.2545</td>\n",
       "      <td>0.1190</td>\n",
       "      <td>0.0595</td>\n",
       "      <td>0.0675</td>\n",
       "    </tr>\n",
       "  </tbody>\n",
       "</table>\n",
       "</div>"
      ],
      "text/plain": [
       "   Sex  Length  Diameter  Height  Whole_weight  Shucked_weight  \\\n",
       "0    3   0.400     0.305   0.100        0.3415          0.1760   \n",
       "1    2   0.635     0.500   0.150        1.3760          0.6495   \n",
       "2    3   0.370     0.270   0.090        0.1855          0.0700   \n",
       "3    1   0.680     0.540   0.155        1.5340          0.6710   \n",
       "4    3   0.375     0.285   0.090        0.2545          0.1190   \n",
       "\n",
       "   Viscera_weight  Shell_weight  \n",
       "0          0.0625        0.0865  \n",
       "1          0.3610        0.3100  \n",
       "2          0.0425        0.0650  \n",
       "3          0.3790        0.3840  \n",
       "4          0.0595        0.0675  "
      ]
     },
     "execution_count": 2,
     "metadata": {},
     "output_type": "execute_result"
    }
   ],
   "source": [
    "import joblib\n",
    "import sklearn\n",
    "from sklearn.pipeline import make_pipeline\n",
    "import pandas as pd\n",
    "\n",
    "path = \"data/abalone.csv\"\n",
    "\n",
    "columns = [\"Sex\", \"Length\", \"Diameter\", \"Height\", \"Whole_weight\",\n",
    "               \"Shucked_weight\", \"Viscera_weight\", \"Shell_weight\", \"Rings\"]\n",
    "target = \"Rings\"\n",
    "\n",
    "# num_attribs = [\"Length\", \"Diameter\", \"Height\", \"Whole_weight\", \"Shucked_weight\", \"Viscera_weight\", \"Shell_weight\"]\n",
    "\n",
    "# cat_attribs = [\"Sex\"]\n",
    "\n",
    "data = pd.read_csv(path, names=columns)\n",
    "\n",
    "X = data.iloc[:200, :].drop(columns=target)\n",
    "\n",
    "y = data.iloc[:200, -1]\n",
    "\n",
    "X.head()"
   ]
  },
  {
   "cell_type": "code",
   "execution_count": 3,
   "id": "009728ea",
   "metadata": {},
   "outputs": [
    {
     "data": {
      "text/plain": [
       "Pipeline(steps=[('columntransformer',\n",
       "                 ColumnTransformer(transformers=[('num', MinMaxScaler(),\n",
       "                                                  ['Length', 'Diameter',\n",
       "                                                   'Height', 'Whole_weight',\n",
       "                                                   'Shucked_weight',\n",
       "                                                   'Viscera_weight',\n",
       "                                                   'Shell_weight']),\n",
       "                                                 ('cat', OneHotEncoder(),\n",
       "                                                  ['Sex'])])),\n",
       "                ('randomforestregressor',\n",
       "                 RandomForestRegressor(max_features=2, n_estimators=10))])"
      ]
     },
     "execution_count": 3,
     "metadata": {},
     "output_type": "execute_result"
    }
   ],
   "source": [
    "preprocessor = joblib.load(\"data/full_model.pkl\")\n",
    "\n",
    "preprocessor.fit(X, y)"
   ]
  },
  {
   "cell_type": "code",
   "execution_count": 6,
   "id": "3a97d8a4",
   "metadata": {},
   "outputs": [
    {
     "data": {
      "text/plain": [
       "array([ 7.1, 10. ,  6.6, 10.6,  6.1, 10.4, 13.3, 10. ,  9.3, 11.3,  4. ,\n",
       "       14.1,  9.1, 13.5,  9.9,  7.8, 10.8,  9.6,  7.4, 10.1, 10.1,  8.6,\n",
       "        8.6,  5.7, 12.2,  5. ,  6.6, 12.4, 11.3,  8.5, 18.4, 10.4, 10.3,\n",
       "        9.8,  9.2,  9. , 10. , 11. ,  7.5,  6.2,  7.6, 10.9, 13.2, 12.8,\n",
       "        4.4,  3.6, 10.8, 14.7, 11.4,  9.4, 11.7,  8.4,  9.6,  9.9, 10.1,\n",
       "       12.7,  9. ,  9.5, 12. , 10.9,  9.2,  8. , 10.9, 11.5, 10.2, 11.4,\n",
       "        8.4,  9.2, 12.5, 10.7, 14.1, 11. , 10.9, 11. , 11.4,  8.6, 12. ,\n",
       "       11. ,  9. , 10.4, 10.4, 13.3,  7.9, 10.6,  7.7,  9.2, 13.6,  5.9,\n",
       "       10.8, 10. ,  9.9,  8.7,  3.2,  8. , 10.9, 12.2, 15.8,  7.8,  9.6,\n",
       "       12.5,  9.9,  6.2,  9. ,  6. ,  6.3,  7. , 13.3, 13.8,  6.8, 20.9,\n",
       "       10.9, 10.8,  9. , 10.9,  9.1,  9. ,  8. , 10.6, 11.2, 12.7,  7.5,\n",
       "       13.3,  9.2, 16.8,  8. ,  9.3, 11.7, 11.8, 12.6,  8.9, 10.3, 10.2,\n",
       "       10.4,  9.4,  8.5,  8. ,  7.2, 13.9,  9. , 11.2,  7. ,  8.2, 15.6,\n",
       "        5.4,  7.4, 11.2,  7.9,  7. ,  9.9, 13.5, 10.8,  9.5, 15.1,  9.3,\n",
       "       10.6, 18.4, 11.7,  9. , 11.9,  9.9,  9. , 10.5,  9.7,  7.3, 12.3,\n",
       "       11.6, 10.2, 20.3,  6.1,  7.7,  9.7, 10.7,  9.4,  9.8,  8.5,  7.7,\n",
       "        7.9,  9.1, 11.6,  9.8, 11.8,  8.9, 10. , 10.9, 13.9, 16.6,  8.5,\n",
       "       13.8,  8.9,  6.8, 11.5, 10.3, 10.5,  5.7,  8.3, 10.8, 10.8,  8. ,\n",
       "       10.6,  5.6])"
      ]
     },
     "execution_count": 6,
     "metadata": {},
     "output_type": "execute_result"
    }
   ],
   "source": [
    "preprocessor.predict(X)"
   ]
  },
  {
   "cell_type": "code",
   "execution_count": null,
   "id": "342508bc",
   "metadata": {},
   "outputs": [],
   "source": [
    " model = make_pipeline(\n",
    "        pipeline,\n",
    "        best_model\n",
    "    )\n",
    "\n",
    "    # registered_model\n",
    "    mlflow.set_experiment(f\"{experiment_name}_production\")\n",
    "    mlflow.sklearn.log_model(model, artifact_path=\"prod_models\")"
   ]
  },
  {
   "cell_type": "code",
   "execution_count": null,
   "id": "5c2b8f01",
   "metadata": {},
   "outputs": [],
   "source": []
  },
  {
   "cell_type": "code",
   "execution_count": 47,
   "id": "841f2981",
   "metadata": {},
   "outputs": [
    {
     "data": {
      "text/plain": [
       "'s3://mlops-zoomcamp-artifacts-remotes/artifacts/2/3890e36a19b74e1692e8f18596e792a6/artifacts/model'"
      ]
     },
     "execution_count": 47,
     "metadata": {},
     "output_type": "execute_result"
    }
   ],
   "source": [
    "tracking_server_host = \"3.145.137.10\"\n",
    "TRACKING_URI = f\"http://{tracking_server_host}:5000\"\n",
    "\n",
    "client = MlflowClient(tracking_uri=TRACKING_URI)\n",
    "\n",
    "client.get_model_version_download_uri(registered_model, 15)"
   ]
  },
  {
   "cell_type": "code",
   "execution_count": 49,
   "id": "ea2a4491",
   "metadata": {},
   "outputs": [],
   "source": [
    "run_id = \"cdd99c2996c042ab9e7bf93845357d48\""
   ]
  },
  {
   "cell_type": "code",
   "execution_count": 55,
   "id": "0a523144",
   "metadata": {},
   "outputs": [
    {
     "data": {
      "text/plain": [
       "<Run: data=<RunData: metrics={}, params={}, tags={'mlflow.log-model.history': '[{\"run_id\": \"cdd99c2996c042ab9e7bf93845357d48\", '\n",
       "                             '\"artifact_path\": \"prod_models\", '\n",
       "                             '\"utc_time_created\": \"2022-09-07 '\n",
       "                             '07:49:40.622310\", \"flavors\": {\"python_function\": '\n",
       "                             '{\"model_path\": \"model.pkl\", \"loader_module\": '\n",
       "                             '\"mlflow.sklearn\", \"python_version\": \"3.8.8\", '\n",
       "                             '\"env\": \"conda.yaml\"}, \"sklearn\": '\n",
       "                             '{\"pickled_model\": \"model.pkl\", '\n",
       "                             '\"sklearn_version\": \"1.0.2\", '\n",
       "                             '\"serialization_format\": \"cloudpickle\", \"code\": '\n",
       "                             'null}}, \"model_uuid\": '\n",
       "                             '\"5fa3d3e9c615415abe3cace568668344\", '\n",
       "                             '\"mlflow_version\": \"1.28.0\"}]',\n",
       " 'mlflow.source.git.commit': '478c9175f72fc498ec0646f0927501dac20e1a6a',\n",
       " 'mlflow.source.name': '.\\\\main_flow4.py',\n",
       " 'mlflow.source.type': 'LOCAL',\n",
       " 'mlflow.user': 'user'}>, info=<RunInfo: artifact_uri='s3://mlops-zoomcamp-artifacts-remotes/artifacts/3/cdd99c2996c042ab9e7bf93845357d48/artifacts', end_time=1662537053151, experiment_id='3', lifecycle_stage='active', run_id='cdd99c2996c042ab9e7bf93845357d48', run_uuid='cdd99c2996c042ab9e7bf93845357d48', start_time=1662536979891, status='FINISHED', user_id='user'>>"
      ]
     },
     "execution_count": 55,
     "metadata": {},
     "output_type": "execute_result"
    }
   ],
   "source": [
    "# client.*get*?\n",
    "\n",
    "run = client.get_run(run_id)\n",
    "run"
   ]
  },
  {
   "cell_type": "code",
   "execution_count": 56,
   "id": "3979afa1",
   "metadata": {},
   "outputs": [
    {
     "data": {
      "text/plain": [
       "'3'"
      ]
     },
     "execution_count": 56,
     "metadata": {},
     "output_type": "execute_result"
    }
   ],
   "source": [
    "run.info.experiment_id"
   ]
  },
  {
   "cell_type": "code",
   "execution_count": 60,
   "id": "617757b1",
   "metadata": {},
   "outputs": [
    {
     "name": "stdout",
     "output_type": "stream",
     "text": [
      "Deployment to schedule the batch deployment and batch monitoring of abalone_age_prediction model.\n"
     ]
    }
   ],
   "source": [
    "description=\"Deployment to schedule the batch deployment and \\\n",
    "batch monitoring of abalone_age_prediction model.\"\n",
    "\n",
    "print(description)"
   ]
  }
 ],
 "metadata": {
  "kernelspec": {
   "display_name": "Python 3",
   "language": "python",
   "name": "python3"
  },
  "language_info": {
   "codemirror_mode": {
    "name": "ipython",
    "version": 3
   },
   "file_extension": ".py",
   "mimetype": "text/x-python",
   "name": "python",
   "nbconvert_exporter": "python",
   "pygments_lexer": "ipython3",
   "version": "3.8.8"
  },
  "toc": {
   "base_numbering": 1,
   "nav_menu": {},
   "number_sections": false,
   "sideBar": true,
   "skip_h1_title": false,
   "title_cell": "Table of Contents",
   "title_sidebar": "Contents",
   "toc_cell": false,
   "toc_position": {
    "height": "calc(100% - 180px)",
    "left": "10px",
    "top": "150px",
    "width": "250.431px"
   },
   "toc_section_display": true,
   "toc_window_display": false
  }
 },
 "nbformat": 4,
 "nbformat_minor": 5
}
